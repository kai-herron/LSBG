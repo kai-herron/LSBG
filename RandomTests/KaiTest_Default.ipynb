{
 "cells": [
  {
   "cell_type": "code",
   "execution_count": null,
   "id": "8cfe6b4c-3ef4-4133-92c7-ea7389d76694",
   "metadata": {},
   "outputs": [],
   "source": [
    "# Import basic packages\n",
    "import numpy as np\n",
    "import scipy as sp\n",
    "import pandas as pd\n",
    "from astropy.io import fits\n",
    "\n",
    "\n",
    "# ==== Scikit-learn =======================\n",
    "# Preprocessing\n",
    "from sklearn.preprocessing import StandardScaler #Standar scaler for standardization\n",
    "from sklearn.preprocessing import RobustScaler #Robust scaler for high dispersion\n",
    "from sklearn.model_selection import train_test_split # For random split\n",
    "\n",
    "# Classifiers\n",
    "from sklearn.svm import SVC\n",
    "from sklearn.ensemble import RandomForestClassifier\n",
    "\n",
    "# Metrics\n",
    "from sklearn.metrics import balanced_accuracy_score\n",
    "from sklearn.metrics import precision_score\n",
    "from sklearn.metrics import recall_score\n",
    "\n",
    "from sklearn.ensemble import RandomForestClassifier\n",
    "from sklearn.model_selection import RandomizedSearchCV, GridSearchCV\n",
    "from sklearn import metrics\n",
    "from sklearn.ensemble import RandomForestRegressor\n",
    "from pprint import pprint\n",
    "\n",
    "# ==========================================\n",
    "# Matplotlib, urlib etc \n",
    "import urllib\n",
    "import urllib.request\n",
    "import matplotlib\n",
    "import matplotlib.pyplot as plt\n",
    "from IPython.display import clear_output, display\n",
    "from PIL import Image\n",
    "%matplotlib inline"
   ]
  },
  {
   "cell_type": "code",
   "execution_count": null,
   "id": "da5be9e3-578a-42f9-8f20-48aa0c96ff3f",
   "metadata": {},
   "outputs": [],
   "source": [
    "from sklearn.metrics import confusion_matrix\n",
    "\n",
    "def rates(y_true, y_pred):\n",
    "    CM = confusion_matrix(y_true, y_pred)\n",
    "\n",
    "    TN = CM[0][0]\n",
    "    FN = CM[1][0]\n",
    "    TP = CM[1][1]\n",
    "    FP = CM[0][1]\n",
    "    \n",
    "    # Initialize\n",
    "    X_mat = np.zeros(4)\n",
    "    \n",
    "    # Populate\n",
    "    X_mat[0] = TN\n",
    "    X_mat[1] = FN\n",
    "    X_mat[2] = TP\n",
    "    X_mat[3] = FP\n",
    "    \n",
    "    return X_mat  "
   ]
  },
  {
   "cell_type": "markdown",
   "id": "ec6d3c25-aac7-4d60-87ef-4c3ffea2b1a5",
   "metadata": {},
   "source": [
    "### Import feature matrix and labels"
   ]
  },
  {
   "cell_type": "code",
   "execution_count": null,
   "id": "d61abec0",
   "metadata": {},
   "outputs": [],
   "source": [
    "burcin = np.load(\"/data/des81.a/data/kherron/LSBG/trainingfiles/training_new/X_mat_v4_a.npy\")\n",
    "burcin_l = np.load(\"/data/des81.a/data/kherron/LSBG/trainingfiles/training_new/y_lab_v4_a.npy\")"
   ]
  },
  {
   "cell_type": "code",
   "execution_count": null,
   "id": "59562c7b-3b4a-4cbc-8c29-ca3b02690b54",
   "metadata": {},
   "outputs": [],
   "source": [
    "X_feat_real = burcin\n",
    "y_lab_real = burcin_l"
   ]
  },
  {
   "cell_type": "code",
   "execution_count": null,
   "id": "f142fd29-a97d-43cc-8b2c-e055d3cd6419",
   "metadata": {},
   "outputs": [],
   "source": [
    "#Split up LSBGs and aritfacts into train and test (70% train and 30% test)\n",
    "\n",
    "index_real=(y_lab_real==1)\n",
    "index_art=(y_lab_real==0)\n",
    "\n",
    "X_art = X_feat_real[index_art]\n",
    "X_lsbg = X_feat_real[index_real]\n",
    "\n",
    "y_art = y_lab_real[index_art]\n",
    "y_lsbg = y_lab_real[index_real]\n",
    "\n",
    "X_train_art, X_test_art, y_train_art, y_test_art = train_test_split(X_art, y_art,\n",
    "                                                                        train_size = 0.70, random_state = 42)\n",
    "X_train_lsbg, X_test_lsbg, y_train_lsbg, y_test_lsbg = train_test_split(X_lsbg, y_lsbg,\n",
    "                                                                        train_size = 0.70, random_state = 42)\n",
    "\n",
    "print('===========Train==Test')\n",
    "print(\"ARTIFACTS:\",len(X_train_art), len(X_test_art))\n",
    "print(\"LSBGs    :\",len(X_train_lsbg), len(X_test_lsbg))"
   ]
  },
  {
   "cell_type": "code",
   "execution_count": null,
   "id": "fd46d491-747a-48e5-86be-883dcc728c2f",
   "metadata": {},
   "outputs": [],
   "source": [
    "#Create training arrays\n",
    "\n",
    "X_train = np.concatenate((X_train_art,X_train_lsbg))\n",
    "y_train = np.concatenate((y_train_art,y_train_lsbg))\n",
    "\n",
    "# Standardize the two sets\n",
    "scaler = RobustScaler().fit(X_train)\n",
    "X_train = scaler.transform(X_train)"
   ]
  },
  {
   "cell_type": "code",
   "execution_count": null,
   "id": "01b1f7da-73fb-4f50-b3e6-8b862cde8e6b",
   "metadata": {},
   "outputs": [],
   "source": [
    "#Make the classifier\n",
    "model_rf_fin = RandomForestClassifier(n_estimators=100)\n",
    "#                                       criterion='gini',\n",
    "#                                       max_depth=10,\n",
    "#                                       max_features=None)\n",
    "#                                       min_samples_leaf=2,\n",
    "#                                       min_samples_split=12)\n",
    "#                                       n_estimators=240)\n",
    "model_rf_fin.fit(X_train,y_train)\n"
   ]
  },
  {
   "cell_type": "code",
   "execution_count": null,
   "id": "65150a7e-fd5f-49fb-81ac-24cab7415a1c",
   "metadata": {},
   "outputs": [],
   "source": [
    "# Make test set and validation set\n",
    "\n",
    "X_test_art, X_validate_art, y_test_art, y_validate_art = train_test_split(X_test_art, y_test_art,\n",
    "                                                                        train_size = 0.50, random_state = 42)\n",
    "X_test_lsbg, X_validate_lsbg, y_test_lsbg, y_validate_lsbg = train_test_split(X_test_lsbg, y_test_lsbg,\n",
    "                                                                        train_size = 0.50, random_state = 42)\n",
    "X_test_1 = np.concatenate((X_test_lsbg,X_test_art)) \n",
    "y_test = np.concatenate((y_test_lsbg,y_test_art))\n",
    "X_test = scaler.transform(X_test_1)\n",
    "\n",
    "y_pred = model_rf_fin.predict(X_test)"
   ]
  },
  {
   "cell_type": "code",
   "execution_count": null,
   "id": "8ddf2fbb",
   "metadata": {},
   "outputs": [],
   "source": [
    "#Make some binzzz\n",
    "# 24 < mu_g < 25\n",
    "sel = (X_test_1[:,16] >= 24.0) & (X_test_1[:,16] < 25.0)\n",
    "\n",
    "y_test_bin1 = y_test[sel]\n",
    "y_pred_bin1 = y_pred[sel]\n",
    "\n",
    "# 25 < mu_g < 26\n",
    "sel = (X_test_1[:,16] >= 25.0) & (X_test_1[:,16] < 26.0)\n",
    "\n",
    "y_test_bin2 = y_test[sel]\n",
    "y_pred_bin2 = y_pred[sel]\n",
    "\n",
    "# 26 < mu_g < 27\n",
    "sel = (X_test_1[:,16] >= 26.0) & (X_test_1[:,16] <= 27.0)\n",
    "\n",
    "y_test_bin3 = y_test[sel]\n",
    "y_pred_bin3 = y_pred[sel]\n"
   ]
  },
  {
   "cell_type": "code",
   "execution_count": null,
   "id": "573848ea",
   "metadata": {},
   "outputs": [],
   "source": []
  },
  {
   "cell_type": "code",
   "execution_count": null,
   "id": "d72e3150-50f0-4d61-9111-82d7d469a7f4",
   "metadata": {},
   "outputs": [],
   "source": [
    "rate_bin1_1 = rates(y_test_bin1,y_pred_bin1)\n",
    "print(\"  TN      FN     TP     FP\")\n",
    "print(rate_bin1_1)\n"
   ]
  },
  {
   "cell_type": "code",
   "execution_count": null,
   "id": "d6a8ac6c",
   "metadata": {},
   "outputs": [],
   "source": [
    "TN = rate_bin1_1[0]\n",
    "FN = rate_bin1_1[1]\n",
    "TP = rate_bin1_1[2]\n",
    "FP = rate_bin1_1[3]\n",
    "\n",
    "# Sensitivity, hit rate, recall, or true positive rate\n",
    "TPR_bin1_1 = TP/(TP+FN)\n",
    "print(\"true positive rate:\",TPR_bin1_1)\n",
    "# Specificity or true negative rate\n",
    "TNR_bin1_1 = TN/(TN+FP) \n",
    "print(\"true negative rate:\",TNR_bin1_1)\n",
    "# Precision or positive predictive value\n",
    "PPV_bin1_1 = TP/(TP+FP)\n",
    "print(\"positive predictive value:\",PPV_bin1_1)\n",
    "# Negative predictive value\n",
    "NPV_bin1_1 = TN/(TN+FN)\n",
    "print(\"negative predictive value:\",NPV_bin1_1)\n",
    "# Fall out or false positive rate\n",
    "FPR_bin1_1 = FP/(FP+TN)\n",
    "print(\"false positive rate:\",FPR_bin1_1)\n",
    "# False negative rate\n",
    "FNR_bin1_1 = FN/(TP+FN)\n",
    "print(\"false negative rate:\",FNR_bin1_1)\n",
    "# False discovery rate\n",
    "FDR_bin1_1 = FP/(TP+FP)\n",
    "print(\"false discovery rate:\",FDR_bin1_1)\n",
    "\n",
    "# Overall accuracy\n",
    "ACC_bin1_1 = (TP+TN)/(TP+FP+FN+TN)\n",
    "print(\"Overall accuracy:\",ACC_bin1_1)"
   ]
  },
  {
   "cell_type": "code",
   "execution_count": null,
   "id": "a207c09b",
   "metadata": {},
   "outputs": [],
   "source": []
  },
  {
   "cell_type": "markdown",
   "id": "4bbe8cc5-8da0-423d-9793-aa26862c8a08",
   "metadata": {},
   "source": [
    "### BIN2: 25. <= mu_g<= 26"
   ]
  },
  {
   "cell_type": "code",
   "execution_count": null,
   "id": "8c25c88c-3df9-4383-a5bb-0d4527d1ae75",
   "metadata": {},
   "outputs": [],
   "source": [
    "rate_bin2 = rates(y_test_bin2,y_pred_bin2)\n",
    "\n",
    "print(\"  TN      FN     TP     FP\")\n",
    "print(rate_bin2)\n"
   ]
  },
  {
   "cell_type": "code",
   "execution_count": null,
   "id": "2548a8ae-dbbe-4dbc-918a-5d4579189c93",
   "metadata": {},
   "outputs": [],
   "source": [
    "TN = rate_bin2[0]\n",
    "FN = rate_bin2[1]\n",
    "TP = rate_bin2[2]\n",
    "FP = rate_bin2[3]\n",
    "\n",
    "# Sensitivity, hit rate, recall, or true positive rate\n",
    "TPR_bin2_1 = TP/(TP+FN)\n",
    "print(\"true positive rate:\",TPR_bin2_1)\n",
    "# Specificity or true negative rate\n",
    "TNR_bin2_1 = TN/(TN+FP) \n",
    "print(\"true negative rate:\",TNR_bin2_1)\n",
    "# Precision or positive predictive value\n",
    "PPV_bin2_1 = TP/(TP+FP)\n",
    "print(\"positive predictive value:\",PPV_bin2_1)\n",
    "# Negative predictive value\n",
    "NPV_bin2_1 = TN/(TN+FN)\n",
    "print(\"negative predictive value:\",NPV_bin2_1)\n",
    "# Fall out or false positive rate\n",
    "FPR_bin2_1 = FP/(FP+TN)\n",
    "print(\"false positive rate:\",FPR_bin2_1)\n",
    "# False negative rate\n",
    "FNR_bin2_1 = FN/(TP+FN)\n",
    "print(\"false negative rate:\",FNR_bin2_1)\n",
    "# False discovery rate\n",
    "FDR_bin2_1 = FP/(TP+FP)\n",
    "print(\"false discovery rate:\",FDR_bin2_1)\n",
    "\n",
    "# Overall accuracy\n",
    "ACC_bin2_1 = (TP+TN)/(TP+FP+FN+TN)\n",
    "print(\"Overall accuracy:\",ACC_bin2_1)"
   ]
  },
  {
   "cell_type": "markdown",
   "id": "1f0ecbb3-d3a0-4b55-bdab-53b98a7c54bd",
   "metadata": {},
   "source": [
    "### BIN3: 26. <= mu_g<= 27"
   ]
  },
  {
   "cell_type": "code",
   "execution_count": null,
   "id": "78ed69d5-1728-490d-b71f-1738481dea56",
   "metadata": {},
   "outputs": [],
   "source": [
    "rate_bin3 = rates(y_test_bin3,y_pred_bin3)\n",
    "\n",
    "print(\"  TN      FN     TP     FP\")\n",
    "print(rate_bin3)\n"
   ]
  },
  {
   "cell_type": "code",
   "execution_count": null,
   "id": "8e6b3c66-3514-46a5-a241-5ee15ecadbdd",
   "metadata": {},
   "outputs": [],
   "source": [
    "TN = rate_bin3[0]\n",
    "FN = rate_bin3[1]\n",
    "TP = rate_bin3[2]\n",
    "FP = rate_bin3[3]\n",
    "\n",
    "# Sensitivity, hit rate, recall, or true positive rate\n",
    "TPR_bin3_1 = TP/(TP+FN)\n",
    "print(\"true positive rate:\",TPR_bin3_1)\n",
    "# Specificity or true negative rate\n",
    "TNR_bin3_1 = TN/(TN+FP) \n",
    "print(\"true negative rate:\",TNR_bin3_1)\n",
    "# Precision or positive predictive value\n",
    "PPV_bin3_1 = TP/(TP+FP)\n",
    "print(\"positive predictive value:\",PPV_bin3_1)\n",
    "# Negative predictive value\n",
    "NPV_bin3_1 = TN/(TN+FN)\n",
    "print(\"negative predictive value:\",NPV_bin3_1)\n",
    "# Fall out or false positive rate\n",
    "FPR_bin3_1 = FP/(FP+TN)\n",
    "print(\"false positive rate:\",FPR_bin3_1)\n",
    "# False negative rate\n",
    "FNR_bin3_1 = FN/(TP+FN)\n",
    "print(\"false negative rate:\",FNR_bin3_1)\n",
    "# False discovery rate\n",
    "FDR_bin3_1 = FP/(TP+FP)\n",
    "print(\"false discovery rate:\",FDR_bin3_1)\n",
    "\n",
    "# Overall accuracy\n",
    "ACC_bin3_1 = (TP+TN)/(TP+FP+FN+TN)\n",
    "print(\"Overall accuracy:\",ACC_bin3_1)"
   ]
  },
  {
   "cell_type": "code",
   "execution_count": null,
   "id": "e5a1ba61-6643-4ffa-a630-df756bca956d",
   "metadata": {},
   "outputs": [],
   "source": [
    "print(rate_bin1_1[1]+rate_bin1_1[2]+rate_bin2[1]+rate_bin2[2]+rate_bin3[1]+rate_bin3[2])"
   ]
  },
  {
   "cell_type": "code",
   "execution_count": null,
   "id": "6a651c69",
   "metadata": {},
   "outputs": [],
   "source": [
    "#Predict on validation set\n",
    "X_valid_1 = np.concatenate((X_validate_lsbg,X_validate_art)) \n",
    "y_valid = np.concatenate((y_validate_lsbg,y_validate_art))\n",
    "X_valid = scaler.transform(X_valid_1)\n",
    "\n",
    "#X_valid_1 = randoms\n",
    "#y_valid = randoms_l\n",
    "#X_valid = scaler.transform(randoms)\n",
    "\n",
    "y_pred = model_rf_fin.predict(X_valid)"
   ]
  },
  {
   "cell_type": "code",
   "execution_count": null,
   "id": "7cf2e1ee",
   "metadata": {},
   "outputs": [],
   "source": [
    "#Bin validation set\n",
    "sel = (X_valid_1[:,16] >= 24.0) & (X_valid_1[:,16] < 25.0)\n",
    "\n",
    "y_valid_bin1 = y_valid[sel]\n",
    "y_pred_bin1 = y_pred[sel]\n",
    "\n",
    "# 25 < mu_g < 26\n",
    "sel = (X_valid_1[:,16] >= 25.0) & (X_valid_1[:,16] < 26.0)\n",
    "\n",
    "y_valid_bin2 = y_valid[sel]\n",
    "y_pred_bin2 = y_pred[sel]\n",
    "\n",
    "# 26 < mu_g < 27\n",
    "sel = (X_valid_1[:,16] >= 26.0) & (X_valid_1[:,16] <= 27.0)\n",
    "\n",
    "y_valid_bin3 = y_valid[sel]\n",
    "y_pred_bin3 = y_pred[sel]"
   ]
  },
  {
   "cell_type": "code",
   "execution_count": null,
   "id": "754acb2a",
   "metadata": {},
   "outputs": [],
   "source": [
    "#Generate predicted positive population\n",
    "pn_bin1 = sum(y_pred_bin1[y_pred_bin1 == 0.])\n",
    "pn_bin2 = sum(y_pred_bin2[y_pred_bin2 == 0.])\n",
    "pn_bin3 = sum(y_pred_bin3[y_pred_bin3 == 0.])"
   ]
  },
  {
   "cell_type": "code",
   "execution_count": null,
   "id": "df6dc793",
   "metadata": {},
   "outputs": [],
   "source": [
    "np.unique(y_pred_bin3)"
   ]
  },
  {
   "cell_type": "code",
   "execution_count": null,
   "id": "38a7fbbf",
   "metadata": {},
   "outputs": [],
   "source": [
    "#Check it out and hope for the best :)\n",
    "N_bin1 = (pn_bin1 - (FNR_bin1_1 * len(y_pred_bin1))) / (TNR_bin1_1 - FNR_bin1_1)\n",
    "N_bin2 = (pn_bin2 - (FNR_bin2_1 * len(y_pred_bin2))) / (TNR_bin2_1 - FNR_bin2_1)\n",
    "N_bin3 = (pn_bin3 - (FNR_bin3_1 * len(y_pred_bin3))) / (TNR_bin3_1 - FNR_bin3_1)\n",
    "\n",
    "print('BIN 1:')\n",
    "print('Predicted negatives:',N_bin1)\n",
    "print('Actual negatives:', len(y_valid_bin1[y_valid_bin1 == 0.]))\n",
    "print('Total sample size:', len(y_pred_bin1))\n",
    "#print('(Actual-Predicted) / sample size:',(sum(y_valid_bin1[y_valid_bin1 == 1])-P_bin1)/len(y_pred_bin1))\n",
    "print()\n",
    "print('BIN 2:')\n",
    "print('Predicted negatives:', N_bin2)\n",
    "print('Actual negatives:', len(y_valid_bin2[y_valid_bin2 == 0.]))\n",
    "print('Total sample size:', len(y_pred_bin2))\n",
    "#print('% of sample error:',(sum(y_valid_bin2[y_valid_bin2 == 1])-P_bin2)/len(y_pred_bin2))\n",
    "print()\n",
    "print('BIN 3:')\n",
    "print('Predicted negatives:', N_bin3)\n",
    "print('Actual negatives:', len(y_valid_bin3[y_valid_bin3 == 0.]))\n",
    "print('Total sample size:', len(y_pred_bin3))\n",
    "#print('% of sample error:',(sum(y_valid_bin3[y_valid_bin3 == 1])-P_bin2)/len(y_pred_bin3))"
   ]
  },
  {
   "cell_type": "code",
   "execution_count": null,
   "id": "3798cf7d",
   "metadata": {},
   "outputs": [],
   "source": [
    "X_evaluation_feat = np.load('/data/des81.a/data/kherron/LSBG/Default_Robust/X_eval_feat.npy')\n",
    "X_eval = scaler.transform(X_evaluation_feat)"
   ]
  },
  {
   "cell_type": "code",
   "execution_count": null,
   "id": "bf5038c3",
   "metadata": {},
   "outputs": [],
   "source": [
    "y_eval_pred = model_rf_fin.predict(X_eval)"
   ]
  },
  {
   "cell_type": "code",
   "execution_count": null,
   "id": "82f50cd4",
   "metadata": {},
   "outputs": [],
   "source": []
  },
  {
   "cell_type": "code",
   "execution_count": null,
   "id": "8de8b995",
   "metadata": {},
   "outputs": [],
   "source": [
    "sel = (X_evaluation_feat[:,16] >= 24.0) & (X_evaluation_feat[:,16] < 25.0)\n",
    "pp_bin1 = sum(y_eval_pred[sel])\n",
    "T_bin1 = len(y_eval_pred[sel])\n",
    "sel = (X_evaluation_feat[:,16] >= 25.0) & (X_evaluation_feat[:,16] < 26.0)\n",
    "pp_bin2 = sum(y_eval_pred[sel])\n",
    "T_bin2 = len(y_eval_pred[sel])\n",
    "sel = (X_evaluation_feat[:,16] >= 26.0) & (X_evaluation_feat[:,16] <= 27.0)\n",
    "pp_bin2 = sum(y_eval_pred[sel])\n",
    "T_bin3 = len(y_eval_pred[sel])"
   ]
  },
  {
   "cell_type": "code",
   "execution_count": null,
   "id": "ae4cf1ba",
   "metadata": {},
   "outputs": [],
   "source": [
    "P_bin1 = (pp_bin1 - (FPR_bin1_1 * T_bin1)) / (TPR_bin1_1 - FPR_bin1_1)\n",
    "P_bin2 = (pp_bin2 - (FPR_bin2_1 * T_bin2)) / (TPR_bin2_1 - FPR_bin2_1)\n",
    "P_bin3 = (pp_bin3 - (FPR_bin3_1 * T_bin3)) / (TPR_bin3_1 - FPR_bin3_1)"
   ]
  },
  {
   "cell_type": "code",
   "execution_count": null,
   "id": "bf749182",
   "metadata": {},
   "outputs": [],
   "source": [
    "print('BIN 1:')\n",
    "print('Predicted positives:',P_bin1)\n",
    "print('Total sample size:', T_bin1)\n",
    "print('% of sample error:',(sum(y_valid_bin1[y_valid_bin1 == 1])-P_bin1)/len(y_pred_bin1))\n",
    "print()\n",
    "print('BIN 2:')\n",
    "print('Predicted positives:', P_bin2)\n",
    "print('Total sample size:', T_bin2)\n",
    "print('% of sample error:',(sum(y_valid_bin2[y_valid_bin2 == 1])-P_bin2)/len(y_pred_bin2))\n",
    "print()\n",
    "print('BIN 3:')\n",
    "print('Predicted positives:', P_bin3)\n",
    "print('Total sample size:', T_bin3)\n",
    "print('% of sample error:',(sum(y_valid_bin3[y_valid_bin3 == 1])-P_bin2)/len(y_pred_bin3))"
   ]
  },
  {
   "cell_type": "code",
   "execution_count": null,
   "id": "86751fe0",
   "metadata": {},
   "outputs": [],
   "source": [
    "PPV_bin1_1*"
   ]
  },
  {
   "cell_type": "code",
   "execution_count": null,
   "id": "eeabbb22",
   "metadata": {},
   "outputs": [],
   "source": [
    "%store -z"
   ]
  },
  {
   "cell_type": "code",
   "execution_count": null,
   "id": "3eef0789",
   "metadata": {},
   "outputs": [],
   "source": [
    "tpr_bin0_def = TPR_bin1_1\n",
    "tpr_bin1_def = TPR_bin2_1\n",
    "tpr_bin2_def = TPR_bin3_1\n",
    "tnr_bin0_def = TNR_bin1_1\n",
    "tnr_bin1_def = TNR_bin2_1\n",
    "tnr_bin2_def = TNR_bin3_1\n",
    "fpr_bin0_def = FPR_bin1_1\n",
    "fpr_bin1_def = FPR_bin2_1\n",
    "fpr_bin2_def = FPR_bin3_1\n",
    "%store tpr_bin0_def tpr_bin1_def tpr_bin2_def\n",
    "%store tnr_bin0_def tnr_bin1_def tnr_bin2_def\n",
    "%store fpr_bin0_def fpr_bin1_def fpr_bin2_def"
   ]
  },
  {
   "cell_type": "code",
   "execution_count": null,
   "id": "335ccee9",
   "metadata": {},
   "outputs": [],
   "source": []
  }
 ],
 "metadata": {
  "kernelspec": {
   "display_name": "Python 3 (ipykernel)",
   "language": "python",
   "name": "python3"
  },
  "language_info": {
   "codemirror_mode": {
    "name": "ipython",
    "version": 3
   },
   "file_extension": ".py",
   "mimetype": "text/x-python",
   "name": "python",
   "nbconvert_exporter": "python",
   "pygments_lexer": "ipython3",
   "version": "3.10.5"
  }
 },
 "nbformat": 4,
 "nbformat_minor": 5
}
