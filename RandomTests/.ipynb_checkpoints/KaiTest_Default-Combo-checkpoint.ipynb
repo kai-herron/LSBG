{
 "cells": [
  {
   "cell_type": "code",
   "execution_count": 1,
   "id": "8cfe6b4c-3ef4-4133-92c7-ea7389d76694",
   "metadata": {},
   "outputs": [],
   "source": [
    "# Import basic packages\n",
    "import numpy as np\n",
    "import scipy as sp\n",
    "import pandas as pd\n",
    "from astropy.io import fits\n",
    "\n",
    "\n",
    "# ==== Scikit-learn =======================\n",
    "# Preprocessing\n",
    "from sklearn.preprocessing import StandardScaler #Standar scaler for standardization\n",
    "from sklearn.preprocessing import RobustScaler #Robust scaler for high dispersion\n",
    "from sklearn.model_selection import train_test_split # For random split\n",
    "\n",
    "# Classifiers\n",
    "from sklearn.svm import SVC\n",
    "from sklearn.ensemble import RandomForestClassifier\n",
    "\n",
    "# Metrics\n",
    "from sklearn.metrics import balanced_accuracy_score\n",
    "from sklearn.metrics import precision_score\n",
    "from sklearn.metrics import recall_score\n",
    "\n",
    "from sklearn.ensemble import RandomForestClassifier\n",
    "from sklearn.model_selection import RandomizedSearchCV, GridSearchCV\n",
    "from sklearn import metrics\n",
    "from sklearn.ensemble import RandomForestRegressor\n",
    "from pprint import pprint\n",
    "\n",
    "# ==========================================\n",
    "# Matplotlib, urlib etc \n",
    "import urllib\n",
    "import urllib.request\n",
    "import matplotlib\n",
    "import matplotlib.pyplot as plt\n",
    "from IPython.display import clear_output, display\n",
    "from PIL import Image\n",
    "%matplotlib inline"
   ]
  },
  {
   "cell_type": "code",
   "execution_count": 2,
   "id": "da5be9e3-578a-42f9-8f20-48aa0c96ff3f",
   "metadata": {},
   "outputs": [],
   "source": [
    "from sklearn.metrics import confusion_matrix\n",
    "\n",
    "def rates(y_true, y_pred):\n",
    "    CM = confusion_matrix(y_true, y_pred)\n",
    "\n",
    "    TN = CM[0][0]\n",
    "    FN = CM[1][0]\n",
    "    TP = CM[1][1]\n",
    "    FP = CM[0][1]\n",
    "    \n",
    "    # Initialize\n",
    "    X_mat = np.zeros(4)\n",
    "    \n",
    "    # Populate\n",
    "    X_mat[0] = TN\n",
    "    X_mat[1] = FN\n",
    "    X_mat[2] = TP\n",
    "    X_mat[3] = FP\n",
    "    \n",
    "    return X_mat  "
   ]
  },
  {
   "cell_type": "markdown",
   "id": "ec6d3c25-aac7-4d60-87ef-4c3ffea2b1a5",
   "metadata": {},
   "source": [
    "### Import feature matrix and labels"
   ]
  },
  {
   "cell_type": "code",
   "execution_count": 3,
   "id": "d61abec0",
   "metadata": {},
   "outputs": [],
   "source": [
    "burcin = np.load(\"/data/des81.a/data/kherron/LSBG/trainingfiles/training_new/X_mat_v4_a.npy\")\n",
    "burcin_l = np.load(\"/data/des81.a/data/kherron/LSBG/trainingfiles/training_new/y_lab_v4_a.npy\")\n"
   ]
  },
  {
   "cell_type": "code",
   "execution_count": 4,
   "id": "59562c7b-3b4a-4cbc-8c29-ca3b02690b54",
   "metadata": {},
   "outputs": [],
   "source": [
    "X_feat_real = burcin\n",
    "y_lab_real = burcin_l"
   ]
  },
  {
   "cell_type": "code",
   "execution_count": 5,
   "id": "f142fd29-a97d-43cc-8b2c-e055d3cd6419",
   "metadata": {},
   "outputs": [
    {
     "name": "stdout",
     "output_type": "stream",
     "text": [
      "===========Train==Test\n",
      "ARTIFACTS: 25604 10974\n",
      "LSBGs    : 21332 9143\n"
     ]
    }
   ],
   "source": [
    "#Split up LSBGs and aritfacts into train and test (70% train and 30% test)\n",
    "\n",
    "index_real=(y_lab_real==1)\n",
    "index_art=(y_lab_real==0)\n",
    "\n",
    "X_art = X_feat_real[index_art]\n",
    "X_lsbg = X_feat_real[index_real]\n",
    "\n",
    "y_art = y_lab_real[index_art]\n",
    "y_lsbg = y_lab_real[index_real]\n",
    "\n",
    "X_train_art, X_test_art, y_train_art, y_test_art = train_test_split(X_art, y_art,\n",
    "                                                                        train_size = 0.70, random_state = 42)\n",
    "X_train_lsbg, X_test_lsbg, y_train_lsbg, y_test_lsbg = train_test_split(X_lsbg, y_lsbg,\n",
    "                                                                        train_size = 0.70, random_state = 42)\n",
    "\n",
    "print('===========Train==Test')\n",
    "print(\"ARTIFACTS:\",len(X_train_art), len(X_test_art))\n",
    "print(\"LSBGs    :\",len(X_train_lsbg), len(X_test_lsbg))"
   ]
  },
  {
   "cell_type": "code",
   "execution_count": 6,
   "id": "fd46d491-747a-48e5-86be-883dcc728c2f",
   "metadata": {},
   "outputs": [],
   "source": [
    "#Create training arrays\n",
    "\n",
    "X_train = np.concatenate((X_train_art,X_train_lsbg))\n",
    "y_train = np.concatenate((y_train_art,y_train_lsbg))\n",
    "\n",
    "# Standardize the two sets\n",
    "scaler = RobustScaler().fit(X_train)\n",
    "X_train = scaler.transform(X_train)"
   ]
  },
  {
   "cell_type": "code",
   "execution_count": 8,
   "id": "01b1f7da-73fb-4f50-b3e6-8b862cde8e6b",
   "metadata": {},
   "outputs": [
    {
     "data": {
      "text/html": [
       "<style>#sk-container-id-2 {color: black;background-color: white;}#sk-container-id-2 pre{padding: 0;}#sk-container-id-2 div.sk-toggleable {background-color: white;}#sk-container-id-2 label.sk-toggleable__label {cursor: pointer;display: block;width: 100%;margin-bottom: 0;padding: 0.3em;box-sizing: border-box;text-align: center;}#sk-container-id-2 label.sk-toggleable__label-arrow:before {content: \"▸\";float: left;margin-right: 0.25em;color: #696969;}#sk-container-id-2 label.sk-toggleable__label-arrow:hover:before {color: black;}#sk-container-id-2 div.sk-estimator:hover label.sk-toggleable__label-arrow:before {color: black;}#sk-container-id-2 div.sk-toggleable__content {max-height: 0;max-width: 0;overflow: hidden;text-align: left;background-color: #f0f8ff;}#sk-container-id-2 div.sk-toggleable__content pre {margin: 0.2em;color: black;border-radius: 0.25em;background-color: #f0f8ff;}#sk-container-id-2 input.sk-toggleable__control:checked~div.sk-toggleable__content {max-height: 200px;max-width: 100%;overflow: auto;}#sk-container-id-2 input.sk-toggleable__control:checked~label.sk-toggleable__label-arrow:before {content: \"▾\";}#sk-container-id-2 div.sk-estimator input.sk-toggleable__control:checked~label.sk-toggleable__label {background-color: #d4ebff;}#sk-container-id-2 div.sk-label input.sk-toggleable__control:checked~label.sk-toggleable__label {background-color: #d4ebff;}#sk-container-id-2 input.sk-hidden--visually {border: 0;clip: rect(1px 1px 1px 1px);clip: rect(1px, 1px, 1px, 1px);height: 1px;margin: -1px;overflow: hidden;padding: 0;position: absolute;width: 1px;}#sk-container-id-2 div.sk-estimator {font-family: monospace;background-color: #f0f8ff;border: 1px dotted black;border-radius: 0.25em;box-sizing: border-box;margin-bottom: 0.5em;}#sk-container-id-2 div.sk-estimator:hover {background-color: #d4ebff;}#sk-container-id-2 div.sk-parallel-item::after {content: \"\";width: 100%;border-bottom: 1px solid gray;flex-grow: 1;}#sk-container-id-2 div.sk-label:hover label.sk-toggleable__label {background-color: #d4ebff;}#sk-container-id-2 div.sk-serial::before {content: \"\";position: absolute;border-left: 1px solid gray;box-sizing: border-box;top: 0;bottom: 0;left: 50%;z-index: 0;}#sk-container-id-2 div.sk-serial {display: flex;flex-direction: column;align-items: center;background-color: white;padding-right: 0.2em;padding-left: 0.2em;position: relative;}#sk-container-id-2 div.sk-item {position: relative;z-index: 1;}#sk-container-id-2 div.sk-parallel {display: flex;align-items: stretch;justify-content: center;background-color: white;position: relative;}#sk-container-id-2 div.sk-item::before, #sk-container-id-2 div.sk-parallel-item::before {content: \"\";position: absolute;border-left: 1px solid gray;box-sizing: border-box;top: 0;bottom: 0;left: 50%;z-index: -1;}#sk-container-id-2 div.sk-parallel-item {display: flex;flex-direction: column;z-index: 1;position: relative;background-color: white;}#sk-container-id-2 div.sk-parallel-item:first-child::after {align-self: flex-end;width: 50%;}#sk-container-id-2 div.sk-parallel-item:last-child::after {align-self: flex-start;width: 50%;}#sk-container-id-2 div.sk-parallel-item:only-child::after {width: 0;}#sk-container-id-2 div.sk-dashed-wrapped {border: 1px dashed gray;margin: 0 0.4em 0.5em 0.4em;box-sizing: border-box;padding-bottom: 0.4em;background-color: white;}#sk-container-id-2 div.sk-label label {font-family: monospace;font-weight: bold;display: inline-block;line-height: 1.2em;}#sk-container-id-2 div.sk-label-container {text-align: center;}#sk-container-id-2 div.sk-container {/* jupyter's `normalize.less` sets `[hidden] { display: none; }` but bootstrap.min.css set `[hidden] { display: none !important; }` so we also need the `!important` here to be able to override the default hidden behavior on the sphinx rendered scikit-learn.org. See: https://github.com/scikit-learn/scikit-learn/issues/21755 */display: inline-block !important;position: relative;}#sk-container-id-2 div.sk-text-repr-fallback {display: none;}</style><div id=\"sk-container-id-2\" class=\"sk-top-container\"><div class=\"sk-text-repr-fallback\"><pre>RandomForestClassifier()</pre><b>In a Jupyter environment, please rerun this cell to show the HTML representation or trust the notebook. <br />On GitHub, the HTML representation is unable to render, please try loading this page with nbviewer.org.</b></div><div class=\"sk-container\" hidden><div class=\"sk-item\"><div class=\"sk-estimator sk-toggleable\"><input class=\"sk-toggleable__control sk-hidden--visually\" id=\"sk-estimator-id-2\" type=\"checkbox\" checked><label for=\"sk-estimator-id-2\" class=\"sk-toggleable__label sk-toggleable__label-arrow\">RandomForestClassifier</label><div class=\"sk-toggleable__content\"><pre>RandomForestClassifier()</pre></div></div></div></div></div>"
      ],
      "text/plain": [
       "RandomForestClassifier()"
      ]
     },
     "execution_count": 8,
     "metadata": {},
     "output_type": "execute_result"
    }
   ],
   "source": [
    "#Make the classifier\n",
    "model_rf_fin = RandomForestClassifier(n_estimators=100)\n",
    "#                                       criterion='gini',\n",
    "#                                       max_depth=10,\n",
    "#                                       max_features=None)\n",
    "#                                       min_samples_leaf=2,\n",
    "#                                       min_samples_split=12)\n",
    "#                                       n_estimators=240)\n",
    "model_rf_fin.fit(X_train,y_train)\n"
   ]
  },
  {
   "cell_type": "code",
   "execution_count": 9,
   "id": "7182e6a8-ceec-4d2c-b3da-20ad4565c4d1",
   "metadata": {},
   "outputs": [
    {
     "name": "stdout",
     "output_type": "stream",
     "text": [
      "AUC Score =0.9995\n"
     ]
    }
   ],
   "source": [
    "print('AUC Score ={:.4f}'.format(metrics.f1_score(y_train,model_rf_fin.predict(X_train))))"
   ]
  },
  {
   "cell_type": "code",
   "execution_count": 10,
   "id": "65150a7e-fd5f-49fb-81ac-24cab7415a1c",
   "metadata": {},
   "outputs": [],
   "source": [
    "# Make test set and validation set\n",
    "X_test_art, X_validate_art, y_test_art, y_validate_art = train_test_split(X_test_art, y_test_art,\n",
    "                                                                        train_size = 0.50, random_state = 42)\n",
    "X_test_lsbg, X_validate_lsbg, y_test_lsbg, y_validate_lsbg = train_test_split(X_test_lsbg, y_test_lsbg,\n",
    "                                                                        train_size = 0.50, random_state = 42)\n",
    "X_test_1 = np.concatenate((X_test_lsbg,X_test_art)) \n",
    "y_test = np.concatenate((y_test_lsbg,y_test_art))\n",
    "X_test = scaler.transform(X_test_1)\n",
    "\n",
    "y_pred = model_rf_fin.predict(X_test)"
   ]
  },
  {
   "cell_type": "code",
   "execution_count": 11,
   "id": "76d60e14",
   "metadata": {},
   "outputs": [
    {
     "data": {
      "text/plain": [
       "5487"
      ]
     },
     "execution_count": 11,
     "metadata": {},
     "output_type": "execute_result"
    }
   ],
   "source": [
    "len(X_validate_art)"
   ]
  },
  {
   "cell_type": "code",
   "execution_count": 12,
   "id": "d72e3150-50f0-4d61-9111-82d7d469a7f4",
   "metadata": {},
   "outputs": [
    {
     "name": "stdout",
     "output_type": "stream",
     "text": [
      "  TN      FN     TP     FP\n",
      "[5345.   91. 4480.  142.]\n"
     ]
    }
   ],
   "source": [
    "rate_bin1_1 = rates(y_test,y_pred)\n",
    "print(\"  TN      FN     TP     FP\")\n",
    "print(rate_bin1_1)\n"
   ]
  },
  {
   "cell_type": "code",
   "execution_count": 13,
   "id": "d6a8ac6c",
   "metadata": {},
   "outputs": [
    {
     "name": "stdout",
     "output_type": "stream",
     "text": [
      "true positive rate: 0.9800918836140888\n",
      "true negative rate: 0.9741206488062694\n",
      "positive predictive value: 0.9692773691042839\n",
      "negative predictive value: 0.9832597498160413\n",
      "false positive rate: 0.025879351193730638\n",
      "false negative rate: 0.019908116385911178\n",
      "false discovery rate: 0.03072263089571614\n",
      "Overall accuracy: 0.9768343607078942\n"
     ]
    }
   ],
   "source": [
    "TN = rate_bin1_1[0]\n",
    "FN = rate_bin1_1[1]\n",
    "TP = rate_bin1_1[2]\n",
    "FP = rate_bin1_1[3]\n",
    "\n",
    "# Sensitivity, hit rate, recall, or true positive rate\n",
    "TPR_bin1_1 = TP/(TP+FN)\n",
    "print(\"true positive rate:\",TPR_bin1_1)\n",
    "# Specificity or true negative rate\n",
    "TNR_bin1_1 = TN/(TN+FP) \n",
    "print(\"true negative rate:\",TNR_bin1_1)\n",
    "# Precision or positive predictive value\n",
    "PPV_bin1_1 = TP/(TP+FP)\n",
    "print(\"positive predictive value:\",PPV_bin1_1)\n",
    "# Negative predictive value\n",
    "NPV_bin1_1 = TN/(TN+FN)\n",
    "print(\"negative predictive value:\",NPV_bin1_1)\n",
    "# Fall out or false positive rate\n",
    "FPR_bin1_1 = FP/(FP+TN)\n",
    "print(\"false positive rate:\",FPR_bin1_1)\n",
    "# False negative rate\n",
    "FNR_bin1_1 = FN/(TP+FN)\n",
    "print(\"false negative rate:\",FNR_bin1_1)\n",
    "# False discovery rate\n",
    "FDR_bin1_1 = FP/(TP+FP)\n",
    "print(\"false discovery rate:\",FDR_bin1_1)\n",
    "\n",
    "# Overall accuracy\n",
    "ACC_bin1_1 = (TP+TN)/(TP+FP+FN+TN)\n",
    "print(\"Overall accuracy:\",ACC_bin1_1)"
   ]
  },
  {
   "cell_type": "code",
   "execution_count": 34,
   "id": "6a651c69",
   "metadata": {},
   "outputs": [],
   "source": [
    "#Predict on validation set\n",
    "X_valid_1 = np.concatenate((X_validate_lsbg,X_validate_art)) \n",
    "y_valid = np.concatenate((y_validate_lsbg,y_validate_art))\n",
    "X_valid = scaler.transform(X_valid_1)\n",
    "\n",
    "y_pred = model_rf_fin.predict(X_valid)"
   ]
  },
  {
   "cell_type": "code",
   "execution_count": 35,
   "id": "754acb2a",
   "metadata": {},
   "outputs": [],
   "source": [
    "#Generate predicted positive population\n",
    "pp = sum(y_pred[y_pred == 1.])"
   ]
  },
  {
   "cell_type": "code",
   "execution_count": 37,
   "id": "38a7fbbf",
   "metadata": {},
   "outputs": [
    {
     "name": "stdout",
     "output_type": "stream",
     "text": [
      "Predicted positive population: 4671.647149683792\n",
      "Classified positives: 4658\n",
      "Actual positives: 4572\n",
      "Total sample size: 10059\n"
     ]
    }
   ],
   "source": [
    "#Check it out and hope for the best :)\n",
    "P = (pp - (FNR_bin1_1 * len(y_pred))) / (TNR_bin1_1 - FNR_bin1_1)\n",
    "\n",
    "print('Predicted positive population:',P)\n",
    "print('Classified positives:',len(y_pred[y_pred==1]))\n",
    "print('Actual positives:', len(y_valid[y_valid == 1.]))\n",
    "print('Total sample size:', len(y_pred))"
   ]
  },
  {
   "cell_type": "code",
   "execution_count": 29,
   "id": "3798cf7d",
   "metadata": {},
   "outputs": [],
   "source": [
    "X_evaluation_feat = np.load('/data/des81.a/data/kherron/LSBG/Default_Robust/X_eval_feat.npy')\n",
    "X_eval = scaler.transform(X_evaluation_feat)"
   ]
  },
  {
   "cell_type": "code",
   "execution_count": 30,
   "id": "bf5038c3",
   "metadata": {},
   "outputs": [],
   "source": [
    "y_eval_pred = model_rf_fin.predict(X_eval)"
   ]
  },
  {
   "cell_type": "code",
   "execution_count": 31,
   "id": "ae4cf1ba",
   "metadata": {},
   "outputs": [],
   "source": [
    "pp = len(y_eval_pred[y_eval_pred==1])\n",
    "P = (pp - (FPR_bin1_1 * len(y_eval_pred))) / (TPR_bin1_1 - FPR_bin1_1)"
   ]
  },
  {
   "cell_type": "code",
   "execution_count": 33,
   "id": "bf749182",
   "metadata": {},
   "outputs": [
    {
     "name": "stdout",
     "output_type": "stream",
     "text": [
      "Predicted positive population: 32114.105350934813\n",
      "Classified positives: 82834\n",
      "Total sample size: 2016678\n"
     ]
    }
   ],
   "source": [
    "print('Predicted positive population:',P)\n",
    "print('Classified positives:', pp)\n",
    "print('Total sample size:', len(y_eval_pred))"
   ]
  },
  {
   "cell_type": "code",
   "execution_count": null,
   "id": "335ccee9",
   "metadata": {},
   "outputs": [],
   "source": []
  }
 ],
 "metadata": {
  "kernelspec": {
   "display_name": "Python 3 (ipykernel)",
   "language": "python",
   "name": "python3"
  },
  "language_info": {
   "codemirror_mode": {
    "name": "ipython",
    "version": 3
   },
   "file_extension": ".py",
   "mimetype": "text/x-python",
   "name": "python",
   "nbconvert_exporter": "python",
   "pygments_lexer": "ipython3",
   "version": "3.10.5"
  }
 },
 "nbformat": 4,
 "nbformat_minor": 5
}
