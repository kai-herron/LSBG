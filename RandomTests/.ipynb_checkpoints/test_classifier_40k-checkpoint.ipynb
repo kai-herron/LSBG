{
 "cells": [
  {
   "cell_type": "code",
   "execution_count": 1,
   "id": "8cfe6b4c-3ef4-4133-92c7-ea7389d76694",
   "metadata": {},
   "outputs": [],
   "source": [
    "# Import basic packages\n",
    "import numpy as np\n",
    "import scipy as sp\n",
    "import pandas as pd\n",
    "from astropy.io import fits\n",
    "\n",
    "\n",
    "# ==== Scikit-learn =======================\n",
    "# Preprocessing\n",
    "from sklearn.preprocessing import StandardScaler #Standar scaler for standardization\n",
    "from sklearn.model_selection import train_test_split # For random split\n",
    "\n",
    "# Classifiers\n",
    "from sklearn.svm import SVC\n",
    "from sklearn.ensemble import RandomForestClassifier\n",
    "\n",
    "# Metrics\n",
    "from sklearn.metrics import balanced_accuracy_score\n",
    "from sklearn.metrics import precision_score\n",
    "from sklearn.metrics import recall_score\n",
    "\n",
    "from sklearn.ensemble import RandomForestClassifier\n",
    "from sklearn.model_selection import RandomizedSearchCV, GridSearchCV\n",
    "from sklearn import metrics\n",
    "from sklearn.ensemble import RandomForestRegressor\n",
    "from pprint import pprint\n",
    "\n",
    "# ==========================================\n",
    "# Matplotlib, urlib etc \n",
    "import urllib\n",
    "import urllib.request\n",
    "import matplotlib\n",
    "import matplotlib.pyplot as plt\n",
    "from IPython.display import clear_output, display\n",
    "from PIL import Image\n",
    "%matplotlib inline"
   ]
  },
  {
   "cell_type": "code",
   "execution_count": 2,
   "id": "da5be9e3-578a-42f9-8f20-48aa0c96ff3f",
   "metadata": {},
   "outputs": [],
   "source": [
    "from sklearn.metrics import confusion_matrix\n",
    "\n",
    "def rates(y_true, y_pred):\n",
    "    CM = confusion_matrix(y_true, y_pred)\n",
    "\n",
    "    TN = CM[0][0]\n",
    "    FN = CM[1][0]\n",
    "    TP = CM[1][1]\n",
    "    FP = CM[0][1]\n",
    "    \n",
    "    # Initialize\n",
    "    X_mat = np.zeros(4)\n",
    "    \n",
    "    # Populate\n",
    "    X_mat[0] = TN\n",
    "    X_mat[1] = FN\n",
    "    X_mat[2] = TP\n",
    "    X_mat[3] = FP\n",
    "    \n",
    "    return X_mat  "
   ]
  },
  {
   "cell_type": "markdown",
   "id": "ec6d3c25-aac7-4d60-87ef-4c3ffea2b1a5",
   "metadata": {},
   "source": [
    "### Import feature matrix and labels"
   ]
  },
  {
   "cell_type": "code",
   "execution_count": 24,
   "id": "d61abec0",
   "metadata": {},
   "outputs": [],
   "source": [
    "randoms = np.load(\"/data/des81.a/data/kherron/LSBG/trainingfiles/Randoms/X_randoms_40k_feat.npy\")\n",
    "randoms_l = np.load(\"/data/des81.a/data/kherron/LSBG/trainingfiles/Randoms/y_randoms_40k_lab.npy\")\n",
    "\n",
    "\n",
    "burcin = np.load(\"/data/des80.b/data/burcinmp/y6_lsbg/y6/test_classifier/random_forest/v3/X_mat_v4_a.npy\")\n",
    "burcin_l = np.load(\"/data/des80.b/data/burcinmp/y6_lsbg/y6/test_classifier/random_forest/v3/y_lab_v4_a.npy\")\n",
    "\n",
    "\n",
    "sel = (burcin_l == 1)\n",
    "burcin = burcin[sel]\n",
    "burcin_l = burcin_l[sel]"
   ]
  },
  {
   "cell_type": "code",
   "execution_count": 25,
   "id": "59562c7b-3b4a-4cbc-8c29-ca3b02690b54",
   "metadata": {},
   "outputs": [
    {
     "name": "stdout",
     "output_type": "stream",
     "text": [
      "Number of visually inspected LSBGs:  30475\n",
      "Y3 LSBGs:  20331\n",
      "Simulated LSBGs:  8154\n"
     ]
    }
   ],
   "source": [
    "X_feat_real = np.concatenate((randoms,burcin))\n",
    "y_lab_real = np.concatenate((randoms_l,burcin_l))\n",
    "\n",
    "X_feat_y3 = np.load(\"/data/des81.a/data/kherron/LSBG/trainingfiles/X_mat_y3.npy\") \n",
    "y_lab_y3 = np.load(\"/data/des81.a/data/kherron/LSBG/trainingfiles/y_lab_y3.npy\")\n",
    "\n",
    "X_feat_sim = np.load(\"/data/des81.a/data/kherron/LSBG/trainingfiles/X_mat_sim_clean.npy\") \n",
    "y_lab_sim = np.load(\"/data/des81.a/data/kherron/LSBG/trainingfiles/y_lab_sim_clean.npy\")\n",
    "\n",
    "print(\"Number of visually inspected LSBGs: \",len(y_lab_real[y_lab_real==1]))\n",
    "print(\"Y3 LSBGs: \",len(y_lab_y3))\n",
    "print(\"Simulated LSBGs: \",len(y_lab_sim[y_lab_sim==1]))"
   ]
  },
  {
   "cell_type": "code",
   "execution_count": 59,
   "id": "a7067a23",
   "metadata": {},
   "outputs": [
    {
     "data": {
      "text/plain": [
       "array([1.])"
      ]
     },
     "execution_count": 59,
     "metadata": {},
     "output_type": "execute_result"
    }
   ],
   "source": [
    "np.unique(y_lab_sim)"
   ]
  },
  {
   "cell_type": "code",
   "execution_count": 27,
   "id": "f36400d7",
   "metadata": {},
   "outputs": [
    {
     "data": {
      "text/plain": [
       "20331"
      ]
     },
     "execution_count": 27,
     "metadata": {},
     "output_type": "execute_result"
    }
   ],
   "source": [
    "len(X_feat_y3)"
   ]
  },
  {
   "cell_type": "code",
   "execution_count": 28,
   "id": "abdcf620",
   "metadata": {},
   "outputs": [
    {
     "data": {
      "text/plain": [
       "0"
      ]
     },
     "execution_count": 28,
     "metadata": {},
     "output_type": "execute_result"
    }
   ],
   "source": [
    "sel = y_lab_y3 == 0\n",
    "len(X_feat_y3[sel])"
   ]
  },
  {
   "cell_type": "markdown",
   "id": "c870b9ac-0771-4e87-ba2a-469f55abe52b",
   "metadata": {},
   "source": [
    "### Create the final model and evaluate the performance"
   ]
  },
  {
   "cell_type": "code",
   "execution_count": 29,
   "id": "f142fd29-a97d-43cc-8b2c-e055d3cd6419",
   "metadata": {},
   "outputs": [
    {
     "name": "stdout",
     "output_type": "stream",
     "text": [
      "ARTIFACTS: 28000 12000\n",
      "Y3: 14231 6100\n",
      "LSBGs: 21332 9143\n",
      "SIMs: 5707 2447\n"
     ]
    }
   ],
   "source": [
    "index_real=(y_lab_real==1)\n",
    "index_art=(y_lab_real==0)\n",
    "\n",
    "X_art = X_feat_real[index_art]\n",
    "X_lsbg = X_feat_real[index_real]\n",
    "X_sim = X_feat_sim\n",
    "\n",
    "y_art = y_lab_real[index_art]\n",
    "y_lsbg = y_lab_real[index_real]\n",
    "y_sim = y_lab_sim\n",
    "\n",
    "X_train_art, X_test_art, y_train_art, y_test_art = train_test_split(X_art, y_art,\n",
    "                                                                        train_size = 0.70, random_state = 42)\n",
    "X_train_lsbg, X_test_lsbg, y_train_lsbg, y_test_lsbg = train_test_split(X_lsbg, y_lsbg,\n",
    "                                                                        train_size = 0.70, random_state = 42)\n",
    "X_train_sim, X_test_sim, y_train_sim, y_test_sim = train_test_split(X_sim, y_sim,\n",
    "                                                                        train_size = 0.70, random_state = 42)\n",
    "X_train_y3, X_test_y3, y_train_y3, y_test_y3 = train_test_split(X_feat_y3, y_lab_y3,\n",
    "                                                                        train_size = 0.70, random_state = 42)\n",
    "\n",
    "print(\"ARTIFACTS:\",len(X_train_art), len(X_test_art))\n",
    "print(\"Y3:\",len(X_train_y3), len(X_test_y3))\n",
    "print(\"LSBGs:\",len(X_train_lsbg), len(X_test_lsbg))\n",
    "print(\"SIMs:\",len(X_train_sim), len(X_test_sim))\n"
   ]
  },
  {
   "cell_type": "code",
   "execution_count": 30,
   "id": "fd46d491-747a-48e5-86be-883dcc728c2f",
   "metadata": {},
   "outputs": [],
   "source": [
    "#X_train = np.concatenate((X_train_art,X_train_lsbg,X_train_y3))#,X_train_sim))\n",
    "#y_train = np.concatenate((y_train_art,y_train_lsbg,y_train_y3))#,y_train_sim))\n",
    "\n",
    "X_train = np.concatenate((X_train_art,X_train_lsbg))#,X_train_sim))\n",
    "y_train = np.concatenate((y_train_art,y_train_lsbg))#,y_train_sim))\n",
    "\n",
    "# Standardize the two sets\n",
    "scaler = StandardScaler().fit(X_train)\n",
    "X_train = scaler.transform(X_train)"
   ]
  },
  {
   "cell_type": "code",
   "execution_count": 31,
   "id": "01b1f7da-73fb-4f50-b3e6-8b862cde8e6b",
   "metadata": {},
   "outputs": [
    {
     "data": {
      "text/html": [
       "<style>#sk-container-id-2 {color: black;background-color: white;}#sk-container-id-2 pre{padding: 0;}#sk-container-id-2 div.sk-toggleable {background-color: white;}#sk-container-id-2 label.sk-toggleable__label {cursor: pointer;display: block;width: 100%;margin-bottom: 0;padding: 0.3em;box-sizing: border-box;text-align: center;}#sk-container-id-2 label.sk-toggleable__label-arrow:before {content: \"▸\";float: left;margin-right: 0.25em;color: #696969;}#sk-container-id-2 label.sk-toggleable__label-arrow:hover:before {color: black;}#sk-container-id-2 div.sk-estimator:hover label.sk-toggleable__label-arrow:before {color: black;}#sk-container-id-2 div.sk-toggleable__content {max-height: 0;max-width: 0;overflow: hidden;text-align: left;background-color: #f0f8ff;}#sk-container-id-2 div.sk-toggleable__content pre {margin: 0.2em;color: black;border-radius: 0.25em;background-color: #f0f8ff;}#sk-container-id-2 input.sk-toggleable__control:checked~div.sk-toggleable__content {max-height: 200px;max-width: 100%;overflow: auto;}#sk-container-id-2 input.sk-toggleable__control:checked~label.sk-toggleable__label-arrow:before {content: \"▾\";}#sk-container-id-2 div.sk-estimator input.sk-toggleable__control:checked~label.sk-toggleable__label {background-color: #d4ebff;}#sk-container-id-2 div.sk-label input.sk-toggleable__control:checked~label.sk-toggleable__label {background-color: #d4ebff;}#sk-container-id-2 input.sk-hidden--visually {border: 0;clip: rect(1px 1px 1px 1px);clip: rect(1px, 1px, 1px, 1px);height: 1px;margin: -1px;overflow: hidden;padding: 0;position: absolute;width: 1px;}#sk-container-id-2 div.sk-estimator {font-family: monospace;background-color: #f0f8ff;border: 1px dotted black;border-radius: 0.25em;box-sizing: border-box;margin-bottom: 0.5em;}#sk-container-id-2 div.sk-estimator:hover {background-color: #d4ebff;}#sk-container-id-2 div.sk-parallel-item::after {content: \"\";width: 100%;border-bottom: 1px solid gray;flex-grow: 1;}#sk-container-id-2 div.sk-label:hover label.sk-toggleable__label {background-color: #d4ebff;}#sk-container-id-2 div.sk-serial::before {content: \"\";position: absolute;border-left: 1px solid gray;box-sizing: border-box;top: 0;bottom: 0;left: 50%;z-index: 0;}#sk-container-id-2 div.sk-serial {display: flex;flex-direction: column;align-items: center;background-color: white;padding-right: 0.2em;padding-left: 0.2em;position: relative;}#sk-container-id-2 div.sk-item {position: relative;z-index: 1;}#sk-container-id-2 div.sk-parallel {display: flex;align-items: stretch;justify-content: center;background-color: white;position: relative;}#sk-container-id-2 div.sk-item::before, #sk-container-id-2 div.sk-parallel-item::before {content: \"\";position: absolute;border-left: 1px solid gray;box-sizing: border-box;top: 0;bottom: 0;left: 50%;z-index: -1;}#sk-container-id-2 div.sk-parallel-item {display: flex;flex-direction: column;z-index: 1;position: relative;background-color: white;}#sk-container-id-2 div.sk-parallel-item:first-child::after {align-self: flex-end;width: 50%;}#sk-container-id-2 div.sk-parallel-item:last-child::after {align-self: flex-start;width: 50%;}#sk-container-id-2 div.sk-parallel-item:only-child::after {width: 0;}#sk-container-id-2 div.sk-dashed-wrapped {border: 1px dashed gray;margin: 0 0.4em 0.5em 0.4em;box-sizing: border-box;padding-bottom: 0.4em;background-color: white;}#sk-container-id-2 div.sk-label label {font-family: monospace;font-weight: bold;display: inline-block;line-height: 1.2em;}#sk-container-id-2 div.sk-label-container {text-align: center;}#sk-container-id-2 div.sk-container {/* jupyter's `normalize.less` sets `[hidden] { display: none; }` but bootstrap.min.css set `[hidden] { display: none !important; }` so we also need the `!important` here to be able to override the default hidden behavior on the sphinx rendered scikit-learn.org. See: https://github.com/scikit-learn/scikit-learn/issues/21755 */display: inline-block !important;position: relative;}#sk-container-id-2 div.sk-text-repr-fallback {display: none;}</style><div id=\"sk-container-id-2\" class=\"sk-top-container\"><div class=\"sk-text-repr-fallback\"><pre>RandomForestClassifier()</pre><b>In a Jupyter environment, please rerun this cell to show the HTML representation or trust the notebook. <br />On GitHub, the HTML representation is unable to render, please try loading this page with nbviewer.org.</b></div><div class=\"sk-container\" hidden><div class=\"sk-item\"><div class=\"sk-estimator sk-toggleable\"><input class=\"sk-toggleable__control sk-hidden--visually\" id=\"sk-estimator-id-2\" type=\"checkbox\" checked><label for=\"sk-estimator-id-2\" class=\"sk-toggleable__label sk-toggleable__label-arrow\">RandomForestClassifier</label><div class=\"sk-toggleable__content\"><pre>RandomForestClassifier()</pre></div></div></div></div></div>"
      ],
      "text/plain": [
       "RandomForestClassifier()"
      ]
     },
     "execution_count": 31,
     "metadata": {},
     "output_type": "execute_result"
    }
   ],
   "source": [
    "#Using Default\n",
    "model_rf_fin = RandomForestClassifier(n_estimators=100)\n",
    "#                                       criterion='entropy',\n",
    "#                                       max_depth=10,\n",
    "#                                       max_features=None)\n",
    "#                                       min_samples_leaf=2,\n",
    "#                                       min_samples_split=12)\n",
    "#                                       n_estimators=240)\n",
    "model_rf_fin.fit(X_train,y_train)\n"
   ]
  },
  {
   "cell_type": "code",
   "execution_count": 32,
   "id": "7182e6a8-ceec-4d2c-b3da-20ad4565c4d1",
   "metadata": {},
   "outputs": [
    {
     "name": "stdout",
     "output_type": "stream",
     "text": [
      "AUC Score =0.9943\n"
     ]
    }
   ],
   "source": [
    "print('AUC Score ={:.4f}'.format(metrics.f1_score(y_train,model_rf_fin.predict(X_train))))"
   ]
  },
  {
   "cell_type": "code",
   "execution_count": 33,
   "id": "ff42efa7-d062-4dbb-9a91-f9b51ee643a1",
   "metadata": {},
   "outputs": [
    {
     "name": "stdout",
     "output_type": "stream",
     "text": [
      "98960 78629 90806 70475\n"
     ]
    }
   ],
   "source": [
    "X_mat_save_a = np.concatenate((X_art,X_lsbg,X_feat_y3,X_sim))\n",
    "y_lab_save_a = np.concatenate((y_art,y_lsbg,y_lab_y3,y_sim))\n",
    "#np.save('X_mat_v4_a',X_mat_save_a)\n",
    "#np.save('y_lab_v4_a',y_lab_save_a)\n",
    "\n",
    "X_mat_save_b = np.concatenate((X_art,X_lsbg,X_sim))\n",
    "y_lab_save_b = np.concatenate((y_art,y_lsbg,y_sim))\n",
    "#np.save('X_mat_v4_b',X_mat_save_b)\n",
    "#np.save('y_lab_v4_b',y_lab_save_b)\n",
    "\n",
    "X_mat_save_c = np.concatenate((X_art,X_lsbg,X_feat_y3))\n",
    "y_lab_save_c = np.concatenate((y_art,y_lsbg,y_lab_y3))\n",
    "#np.save('X_mat_v4_c',X_mat_save_c)\n",
    "#np.save('y_lab_v4_c',y_lab_save_c)\n",
    "\n",
    "X_mat_save_d = np.concatenate((X_art,X_lsbg))\n",
    "y_lab_save_d = np.concatenate((y_art,y_lsbg))\n",
    "#np.save('X_mat_v4_d',X_mat_save_d)\n",
    "#np.save('y_lab_v4_d',y_lab_save_d)\n",
    "\n",
    "\n",
    "print(len(y_lab_save_a),len(y_lab_save_b),len(y_lab_save_c),len(y_lab_save_d))"
   ]
  },
  {
   "cell_type": "markdown",
   "id": "6bb7547d-6e0f-4000-995f-8487fd858309",
   "metadata": {},
   "source": [
    "# Make Test Sample"
   ]
  },
  {
   "cell_type": "code",
   "execution_count": 34,
   "id": "65150a7e-fd5f-49fb-81ac-24cab7415a1c",
   "metadata": {},
   "outputs": [
    {
     "name": "stdout",
     "output_type": "stream",
     "text": [
      "27243 14447 12000 9143 20331 2447\n"
     ]
    }
   ],
   "source": [
    "# With No Simulations\n",
    "X_test_10 = np.concatenate((X_test_lsbg,X_test_y3,X_test_art)) \n",
    "y_test_10 = np.concatenate((y_test_lsbg,y_test_y3,y_test_art))\n",
    "\n",
    "# With Only Simulations\n",
    "X_test_20 = np.concatenate((X_test_sim,X_test_art))\n",
    "y_test_20 = np.concatenate((y_test_sim,y_test_art))\n",
    "\n",
    "print(len(X_test_10),len(X_test_20),len(X_test_art),len(X_test_lsbg),len(X_feat_y3),len(X_test_sim))"
   ]
  },
  {
   "cell_type": "markdown",
   "id": "6e801e50-af12-4eb5-9d42-23dacee0686f",
   "metadata": {},
   "source": [
    "### Start binning"
   ]
  },
  {
   "cell_type": "code",
   "execution_count": 35,
   "id": "69fd245d-a83c-4360-af79-2879f4e77a23",
   "metadata": {},
   "outputs": [],
   "source": [
    "x_bins = [24,25,26,27,28]\n",
    "X1 = np.concatenate((X_test_lsbg,X_test_y3))\n",
    "y1 = np.concatenate((y_test_lsbg,y_test_y3))\n",
    "bin1 = (X1[:,16]> x_bins[0]) & (X1[:,16]< x_bins[1])\n",
    "bin2 = (X1[:,16]> x_bins[1]) & (X1[:,16]< x_bins[2])\n",
    "bin3 = (X1[:,16]> x_bins[2]) & (X1[:,16]< x_bins[3])\n",
    "bin4 = (X1[:,16]> x_bins[3]) & (X1[:,16]< x_bins[4])\n",
    "bin5 = (X1[:,16]> x_bins[4])"
   ]
  },
  {
   "cell_type": "code",
   "execution_count": 36,
   "id": "6ec74ad9-d6e5-4679-8bca-55a3f504e13b",
   "metadata": {},
   "outputs": [],
   "source": [
    "X2 = X_test_sim \n",
    "y2 = y_test_sim \n",
    "bin10 = (X2[:,16]> x_bins[0]) & (X2[:,16]< x_bins[1])\n",
    "bin20 = (X2[:,16]> x_bins[1]) & (X2[:,16]< x_bins[2])\n",
    "bin30 = (X2[:,16]> x_bins[2]) & (X2[:,16]< x_bins[3])\n",
    "bin40 = (X2[:,16]> x_bins[3]) & (X2[:,16]< x_bins[4])\n",
    "bin50 = (X2[:,16]> x_bins[4])"
   ]
  },
  {
   "cell_type": "code",
   "execution_count": 37,
   "id": "51653625-0d74-454b-98ea-e47e389959db",
   "metadata": {},
   "outputs": [
    {
     "name": "stdout",
     "output_type": "stream",
     "text": [
      "[24, 25, 26, 27, 28]\n",
      "10388 4139 701 14 1\n",
      "1012 1150 285 0 0\n"
     ]
    }
   ],
   "source": [
    "print(x_bins)\n",
    "print(len(X1[bin1]),len(X1[bin2]),len(X1[bin3]),len(X1[bin4]),len(X1[bin5]))\n",
    "print(len(X2[bin10]),len(X2[bin20]),len(X2[bin30]),len(X2[bin40]),len(X2[bin50]))"
   ]
  },
  {
   "cell_type": "code",
   "execution_count": 38,
   "id": "f55cc8cf-a79d-4900-9358-5bddb977f730",
   "metadata": {},
   "outputs": [
    {
     "name": "stdout",
     "output_type": "stream",
     "text": [
      "1012\n"
     ]
    }
   ],
   "source": [
    "# 24 <= mu_g<=25\n",
    "#Select 209 from real\n",
    "X1_bin1 = X1[bin1]\n",
    "y1_bin1 = y1[bin1]\n",
    "X2_bin1 = X2[bin10]\n",
    "y2_bin1 = y2[bin10]\n",
    "\n",
    "all1 = np.arange(len(X1_bin1)) \n",
    "ind1 = np.random.choice(all1, size=len(X2_bin1), replace=False)\n",
    "\n",
    "X1_test_bin1 = X1_bin1[ind1]\n",
    "y1_test_bin1 =  y1_bin1[ind1]\n",
    "X2_test_bin1 = X2_bin1\n",
    "y2_test_bin1 =  y2_bin1\n",
    "\n",
    "print(len(X1_test_bin1))"
   ]
  },
  {
   "cell_type": "code",
   "execution_count": 39,
   "id": "2bd6f223-e635-403b-9bd9-58e77f32ecdb",
   "metadata": {},
   "outputs": [
    {
     "name": "stdout",
     "output_type": "stream",
     "text": [
      "1150\n"
     ]
    }
   ],
   "source": [
    "# 25. <= mu_g<= 26\n",
    "# Select 1186 from real\n",
    "X1_bin2 = X1[bin2]\n",
    "y1_bin2 = y1[bin2]\n",
    "X2_bin2 = X2[bin20]\n",
    "y2_bin2 = y2[bin20]\n",
    "\n",
    "all2 = np.arange(len(X1_bin2)) \n",
    "ind2 = np.random.choice(all2, size=len(X2_bin2), replace=False)\n",
    "\n",
    "X1_test_bin2 = X1_bin2[ind2]\n",
    "y1_test_bin2 =  y1_bin2[ind2]\n",
    "X2_test_bin2 = X2_bin2\n",
    "y2_test_bin2 =  y2_bin2\n",
    "\n",
    "print(len(X2_test_bin2))"
   ]
  },
  {
   "cell_type": "code",
   "execution_count": 40,
   "id": "aa26d8f3-30c2-479c-9a6e-c3a8d39cbb46",
   "metadata": {},
   "outputs": [
    {
     "name": "stdout",
     "output_type": "stream",
     "text": [
      "285\n"
     ]
    }
   ],
   "source": [
    "# 26. <= mu_g<= 27\n",
    "# Select 1052 from real\n",
    "X1_bin3 = X1[bin3]\n",
    "y1_bin3 = y1[bin3]\n",
    "X2_bin3 = X2[bin30]\n",
    "y2_bin3 = y2[bin30]\n",
    "\n",
    "all3 = np.arange(len(X1_bin3)) \n",
    "ind3 = np.random.choice(all3, size=len(X2_bin3), replace=False)\n",
    "\n",
    "X1_test_bin3 = X1_bin3[ind3]\n",
    "y1_test_bin3 =  y1_bin3[ind3]\n",
    "X2_test_bin3 = X2_bin3\n",
    "y2_test_bin3 =  y2_bin3\n",
    "\n",
    "print(len(X1_test_bin3))"
   ]
  },
  {
   "cell_type": "markdown",
   "id": "95559bdb-f64a-432b-9f34-04236cc52312",
   "metadata": {},
   "source": [
    "### Binned test set"
   ]
  },
  {
   "cell_type": "code",
   "execution_count": 41,
   "id": "bfca20c0-46fe-41bc-83f3-711f5e55ccb8",
   "metadata": {},
   "outputs": [
    {
     "name": "stdout",
     "output_type": "stream",
     "text": [
      "20240 23000 5700\n"
     ]
    }
   ],
   "source": [
    "#artifacts accordingly\n",
    "xx1 = len(X1_test_bin1)\n",
    "xx2 = len(X1_test_bin2)\n",
    "xx3 = len(X1_test_bin3)\n",
    "num_a1 = 20*xx1\n",
    "num_a2 = 20*xx2\n",
    "num_a3 = 20*xx3\n",
    "\n",
    "all4 = np.arange(len(X_art)) \n",
    "ind4_1 = np.random.choice(all4, size=num_a1, replace=False)\n",
    "ind4_2 = np.random.choice(all4, size=num_a2, replace=False)\n",
    "ind4_3 = np.random.choice(all4, size=num_a3, replace=False)\n",
    "\n",
    "X_test_art1 = X_art[ind4_1]\n",
    "y_test_art1 =  y_art[ind4_1]\n",
    "X_test_art2 = X_art[ind4_2]\n",
    "y_test_art2 =  y_art[ind4_2]\n",
    "X_test_art3 = X_art[ind4_3]\n",
    "y_test_art3 =  y_art[ind4_3]\n",
    "\n",
    "print(len(X_test_art1),len(X_test_art2),len(X_test_art3))"
   ]
  },
  {
   "cell_type": "code",
   "execution_count": 42,
   "id": "16c94b6f",
   "metadata": {},
   "outputs": [
    {
     "name": "stdout",
     "output_type": "stream",
     "text": [
      "1012\n"
     ]
    }
   ],
   "source": [
    "print(xx1)"
   ]
  },
  {
   "cell_type": "code",
   "execution_count": 43,
   "id": "d78f2abf-b7af-4108-bf47-afcd63f5efd6",
   "metadata": {},
   "outputs": [
    {
     "name": "stdout",
     "output_type": "stream",
     "text": [
      "12000 2447\n"
     ]
    }
   ],
   "source": [
    "# Only real data\n",
    "X_test_bin_1 = np.concatenate((X_test_art,X1_test_bin1,X1_test_bin2,X1_test_bin3)) \n",
    "y_test_bin_1 = np.concatenate((y_test_art,y1_test_bin1,y1_test_bin2,y1_test_bin3))\n",
    "# Only simulation data\n",
    "X_test_bin_2 = np.concatenate((X_test_art,X2_test_bin1,X2_test_bin2,X2_test_bin3)) \n",
    "y_test_bin_2 = np.concatenate((y_test_art,y2_test_bin1,y2_test_bin2,y2_test_bin3))\n",
    "\n",
    "X_test_bin_1 = scaler.transform(X_test_bin_1)\n",
    "X_test_bin_2 = scaler.transform(X_test_bin_2)\n",
    "\n",
    "print(len(X_test_art),len(X1_test_bin1)+len(X1_test_bin2)+len(X1_test_bin3))"
   ]
  },
  {
   "cell_type": "markdown",
   "id": "099cdfb8-f66f-470e-9e67-1dbe2ff915a8",
   "metadata": {},
   "source": [
    "### BIN1: 24. <= mu_g<= 25"
   ]
  },
  {
   "cell_type": "code",
   "execution_count": 44,
   "id": "fd762166-ac2b-463a-9872-ff976f7348cb",
   "metadata": {},
   "outputs": [
    {
     "name": "stdout",
     "output_type": "stream",
     "text": [
      "20240 1012 1012\n"
     ]
    }
   ],
   "source": [
    "# Binned test set\n",
    "# Only real data\n",
    "X_test_bin1_1 = np.concatenate((X_test_art1,X1_test_bin1)) \n",
    "y_test_bin1_1 = np.concatenate((y_test_art1,y1_test_bin1))\n",
    "# Only simulation data\n",
    "X_test_bin1_2 = np.concatenate((X_test_art1,X2_test_bin1)) \n",
    "y_test_bin1_2 = np.concatenate((y_test_art1,y2_test_bin1))\n",
    "\n",
    "X_test_bin1_1 = scaler.transform(X_test_bin1_1)\n",
    "X_test_bin1_2 = scaler.transform(X_test_bin1_2)\n",
    "\n",
    "# Predict on the test set\n",
    "y_pred_bin1_1 = model_rf_fin.predict(X_test_bin1_1)\n",
    "y_pred_bin1_2 = model_rf_fin.predict(X_test_bin1_2)\n",
    "\n",
    "print(len(X_test_art1),len(X1_test_bin1),len(X2_test_bin1))"
   ]
  },
  {
   "cell_type": "code",
   "execution_count": 45,
   "id": "6b563296-6c1b-49d9-82d2-aa7f84a7a1a9",
   "metadata": {},
   "outputs": [
    {
     "name": "stdout",
     "output_type": "stream",
     "text": [
      "Precision (purity): 0.7396142433234422\n",
      "Recall (completeness): 0.9851778656126482\n",
      "Balanced accuracy: 0.9839179841897233\n"
     ]
    }
   ],
   "source": [
    "print(\"Precision (purity):\",precision_score(y_test_bin1_1,y_pred_bin1_1))\n",
    "print(\"Recall (completeness):\",recall_score(y_test_bin1_1,y_pred_bin1_1))\n",
    "print(\"Balanced accuracy:\", balanced_accuracy_score(y_test_bin1_1,y_pred_bin1_1))"
   ]
  },
  {
   "cell_type": "code",
   "execution_count": 46,
   "id": "abd7bfc0-1f45-47b8-a447-52933d0d2716",
   "metadata": {},
   "outputs": [
    {
     "name": "stdout",
     "output_type": "stream",
     "text": [
      "Precision (purity): 0.7419117647058824\n",
      "Recall (completeness): 0.9970355731225297\n",
      "Balanced accuracy: 0.9898468379446641\n"
     ]
    }
   ],
   "source": [
    "print(\"Precision (purity):\",precision_score(y_test_bin1_2,y_pred_bin1_2))\n",
    "print(\"Recall (completeness):\",recall_score(y_test_bin1_2,y_pred_bin1_2))\n",
    "print(\"Balanced accuracy:\", balanced_accuracy_score(y_test_bin1_2,y_pred_bin1_2))"
   ]
  },
  {
   "cell_type": "code",
   "execution_count": 47,
   "id": "d72e3150-50f0-4d61-9111-82d7d469a7f4",
   "metadata": {},
   "outputs": [
    {
     "name": "stdout",
     "output_type": "stream",
     "text": [
      "TN   FN   TP   FP\n",
      "[1.9889e+04 1.5000e+01 9.9700e+02 3.5100e+02]\n",
      "[1.9889e+04 3.0000e+00 1.0090e+03 3.5100e+02]\n"
     ]
    }
   ],
   "source": [
    "rate_bin1_1 = rates(y_test_bin1_1,y_pred_bin1_1)\n",
    "rate_bin1_2 = rates(y_test_bin1_2,y_pred_bin1_2)\n",
    "\n",
    "print(\"TN   FN   TP   FP\")\n",
    "print(rate_bin1_1)\n",
    "print(rate_bin1_2)"
   ]
  },
  {
   "cell_type": "code",
   "execution_count": 48,
   "id": "8113f465-e1bc-49ed-a3cd-d7035395cb9b",
   "metadata": {},
   "outputs": [
    {
     "name": "stdout",
     "output_type": "stream",
     "text": [
      "true positive rate: 0.9851778656126482\n",
      "true negative rate: 0.9826581027667984\n",
      "positive predictive value: 0.7396142433234422\n",
      "negative predictive value: 0.999246382636656\n",
      "false positive rate: 0.01734189723320158\n",
      "false negative rate: 0.014822134387351778\n",
      "false discovery rate: 0.2603857566765579\n",
      "Overall accuracy: 0.9827780914737436\n"
     ]
    }
   ],
   "source": [
    "TN = rate_bin1_1[0]\n",
    "FN = rate_bin1_1[1]\n",
    "TP = rate_bin1_1[2]\n",
    "FP = rate_bin1_1[3]\n",
    "\n",
    "# Sensitivity, hit rate, recall, or true positive rate\n",
    "TPR_bin1_1 = TP/(TP+FN)\n",
    "print(\"true positive rate:\",TPR_bin1_1)\n",
    "# Specificity or true negative rate\n",
    "TNR_bin1_1 = TN/(TN+FP) \n",
    "print(\"true negative rate:\",TNR_bin1_1)\n",
    "# Precision or positive predictive value\n",
    "PPV_bin1_1 = TP/(TP+FP)\n",
    "print(\"positive predictive value:\",PPV_bin1_1)\n",
    "# Negative predictive value\n",
    "NPV_bin1_1 = TN/(TN+FN)\n",
    "print(\"negative predictive value:\",NPV_bin1_1)\n",
    "# Fall out or false positive rate\n",
    "FPR_bin1_1 = FP/(FP+TN)\n",
    "print(\"false positive rate:\",FPR_bin1_1)\n",
    "# False negative rate\n",
    "FNR_bin1_1 = FN/(TP+FN)\n",
    "print(\"false negative rate:\",FNR_bin1_1)\n",
    "# False discovery rate\n",
    "FDR_bin1_1 = FP/(TP+FP)\n",
    "print(\"false discovery rate:\",FDR_bin1_1)\n",
    "\n",
    "# Overall accuracy\n",
    "ACC_bin1_1 = (TP+TN)/(TP+FP+FN+TN)\n",
    "print(\"Overall accuracy:\",ACC_bin1_1)"
   ]
  },
  {
   "cell_type": "markdown",
   "id": "4bbe8cc5-8da0-423d-9793-aa26862c8a08",
   "metadata": {},
   "source": [
    "### BIN2: 25. <= mu_g<= 26"
   ]
  },
  {
   "cell_type": "code",
   "execution_count": 49,
   "id": "988b95f6-25a9-48cf-8754-2b34e3724d60",
   "metadata": {},
   "outputs": [
    {
     "name": "stdout",
     "output_type": "stream",
     "text": [
      "23000 1150 1150\n"
     ]
    }
   ],
   "source": [
    "# Binned test set\n",
    "# Only real data\n",
    "X_test_bin2_1 = np.concatenate((X_test_art2,X1_test_bin2)) \n",
    "y_test_bin2_1 = np.concatenate((y_test_art2,y1_test_bin2))\n",
    "# Only simulation data\n",
    "X_test_bin2_2 = np.concatenate((X_test_art2,X2_test_bin2)) \n",
    "y_test_bin2_2 = np.concatenate((y_test_art2,y2_test_bin2))\n",
    "\n",
    "X_test_bin2_1 = scaler.transform(X_test_bin2_1)\n",
    "X_test_bin2_2 = scaler.transform(X_test_bin2_2)\n",
    "\n",
    "# Predict on the test set\n",
    "y_pred_bin2_1 = model_rf_fin.predict(X_test_bin2_1)\n",
    "y_pred_bin2_2 = model_rf_fin.predict(X_test_bin2_2)\n",
    "\n",
    "print(len(X_test_art2),len(X1_test_bin2),len(X2_test_bin2))"
   ]
  },
  {
   "cell_type": "code",
   "execution_count": 50,
   "id": "8ba76137-7e7b-424f-afc5-524dac8e85b7",
   "metadata": {},
   "outputs": [
    {
     "name": "stdout",
     "output_type": "stream",
     "text": [
      "Precision (purity): 0.7350260416666666\n",
      "Recall (completeness): 0.9817391304347826\n",
      "Balanced accuracy: 0.9820217391304348\n"
     ]
    }
   ],
   "source": [
    "print(\"Precision (purity):\",precision_score(y_test_bin2_1,y_pred_bin2_1))\n",
    "print(\"Recall (completeness):\",recall_score(y_test_bin2_1,y_pred_bin2_1))\n",
    "print(\"Balanced accuracy:\", balanced_accuracy_score(y_test_bin2_1,y_pred_bin2_1))"
   ]
  },
  {
   "cell_type": "code",
   "execution_count": 51,
   "id": "ca45914a-ec68-481a-a0c2-55a375eb7ac3",
   "metadata": {},
   "outputs": [
    {
     "name": "stdout",
     "output_type": "stream",
     "text": [
      "Precision (purity): 0.7372498386055519\n",
      "Recall (completeness): 0.9930434782608696\n",
      "Balanced accuracy: 0.9876739130434783\n"
     ]
    }
   ],
   "source": [
    "print(\"Precision (purity):\",precision_score(y_test_bin2_2,y_pred_bin2_2))\n",
    "print(\"Recall (completeness):\",recall_score(y_test_bin2_2,y_pred_bin2_2))\n",
    "print(\"Balanced accuracy:\", balanced_accuracy_score(y_test_bin2_2,y_pred_bin2_2))"
   ]
  },
  {
   "cell_type": "code",
   "execution_count": 52,
   "id": "8c25c88c-3df9-4383-a5bb-0d4527d1ae75",
   "metadata": {},
   "outputs": [
    {
     "name": "stdout",
     "output_type": "stream",
     "text": [
      "TN   FN   TP   FP\n",
      "[2.2593e+04 2.1000e+01 1.1290e+03 4.0700e+02]\n",
      "[2.2593e+04 8.0000e+00 1.1420e+03 4.0700e+02]\n"
     ]
    }
   ],
   "source": [
    "rate_bin2_1 = rates(y_test_bin2_1,y_pred_bin2_1)\n",
    "rate_bin2_2 = rates(y_test_bin2_2,y_pred_bin2_2)\n",
    "\n",
    "print(\"TN   FN   TP   FP\")\n",
    "print(rate_bin2_1)\n",
    "print(rate_bin2_2)"
   ]
  },
  {
   "cell_type": "code",
   "execution_count": 53,
   "id": "2548a8ae-dbbe-4dbc-918a-5d4579189c93",
   "metadata": {},
   "outputs": [
    {
     "name": "stdout",
     "output_type": "stream",
     "text": [
      "true positive rate: 0.9817391304347826\n",
      "true negative rate: 0.982304347826087\n",
      "positive predictive value: 0.7350260416666666\n",
      "negative predictive value: 0.9990713717166357\n",
      "false positive rate: 0.017695652173913043\n",
      "false negative rate: 0.018260869565217393\n",
      "false discovery rate: 0.2649739583333333\n",
      "Overall accuracy: 0.9822774327122153\n"
     ]
    }
   ],
   "source": [
    "TN = rate_bin2_1[0]\n",
    "FN = rate_bin2_1[1]\n",
    "TP = rate_bin2_1[2]\n",
    "FP = rate_bin2_1[3]\n",
    "\n",
    "# Sensitivity, hit rate, recall, or true positive rate\n",
    "TPR_bin2_1 = TP/(TP+FN)\n",
    "print(\"true positive rate:\",TPR_bin2_1)\n",
    "# Specificity or true negative rate\n",
    "TNR_bin2_1 = TN/(TN+FP) \n",
    "print(\"true negative rate:\",TNR_bin2_1)\n",
    "# Precision or positive predictive value\n",
    "PPV_bin2_1 = TP/(TP+FP)\n",
    "print(\"positive predictive value:\",PPV_bin2_1)\n",
    "# Negative predictive value\n",
    "NPV_bin2_1 = TN/(TN+FN)\n",
    "print(\"negative predictive value:\",NPV_bin2_1)\n",
    "# Fall out or false positive rate\n",
    "FPR_bin2_1 = FP/(FP+TN)\n",
    "print(\"false positive rate:\",FPR_bin2_1)\n",
    "# False negative rate\n",
    "FNR_bin2_1 = FN/(TP+FN)\n",
    "print(\"false negative rate:\",FNR_bin2_1)\n",
    "# False discovery rate\n",
    "FDR_bin2_1 = FP/(TP+FP)\n",
    "print(\"false discovery rate:\",FDR_bin2_1)\n",
    "\n",
    "# Overall accuracy\n",
    "ACC_bin2_1 = (TP+TN)/(TP+FP+FN+TN)\n",
    "print(\"Overall accuracy:\",ACC_bin2_1)"
   ]
  },
  {
   "cell_type": "markdown",
   "id": "1f0ecbb3-d3a0-4b55-bdab-53b98a7c54bd",
   "metadata": {},
   "source": [
    "### BIN3: 26. <= mu_g<= 27"
   ]
  },
  {
   "cell_type": "code",
   "execution_count": 54,
   "id": "cf5ff560-a388-41f2-885e-edce2b4bc796",
   "metadata": {},
   "outputs": [
    {
     "name": "stdout",
     "output_type": "stream",
     "text": [
      "5700 285 285\n"
     ]
    }
   ],
   "source": [
    "# Binned test set\n",
    "# Only real data\n",
    "X_test_bin3_1 = np.concatenate((X_test_art3,X1_test_bin3)) \n",
    "y_test_bin3_1 = np.concatenate((y_test_art3,y1_test_bin3))\n",
    "# Only simulation data\n",
    "X_test_bin3_2 = np.concatenate((X_test_art3,X2_test_bin3)) \n",
    "y_test_bin3_2 = np.concatenate((y_test_art3,y2_test_bin3))\n",
    "\n",
    "X_test_bin3_1 = scaler.transform(X_test_bin3_1)\n",
    "X_test_bin3_2 = scaler.transform(X_test_bin3_2)\n",
    "\n",
    "# Predict on the test set\n",
    "y_pred_bin3_1 = model_rf_fin.predict(X_test_bin3_1)\n",
    "y_pred_bin3_2 = model_rf_fin.predict(X_test_bin3_2)\n",
    "\n",
    "print(len(X_test_art3),len(X1_test_bin3),len(X2_test_bin3))"
   ]
  },
  {
   "cell_type": "code",
   "execution_count": 55,
   "id": "517dbeb6-ad78-423b-8a5f-a714c0e146d0",
   "metadata": {},
   "outputs": [
    {
     "name": "stdout",
     "output_type": "stream",
     "text": [
      "Precision (purity): 0.6923076923076923\n",
      "Recall (completeness): 0.8842105263157894\n",
      "Balanced accuracy: 0.9322807017543859\n"
     ]
    }
   ],
   "source": [
    "print(\"Precision (purity):\",precision_score(y_test_bin3_1,y_pred_bin3_1))\n",
    "print(\"Recall (completeness):\",recall_score(y_test_bin3_1,y_pred_bin3_1))\n",
    "print(\"Balanced accuracy:\", balanced_accuracy_score(y_test_bin3_1,y_pred_bin3_1))"
   ]
  },
  {
   "cell_type": "code",
   "execution_count": 56,
   "id": "8524819a-94a2-4eea-9c5c-02c97836bbeb",
   "metadata": {},
   "outputs": [
    {
     "name": "stdout",
     "output_type": "stream",
     "text": [
      "Precision (purity): 0.7128205128205128\n",
      "Recall (completeness): 0.9754385964912281\n",
      "Balanced accuracy: 0.9778947368421053\n"
     ]
    }
   ],
   "source": [
    "print(\"Precision (purity):\",precision_score(y_test_bin3_2,y_pred_bin3_2))\n",
    "print(\"Recall (completeness):\",recall_score(y_test_bin3_2,y_pred_bin3_2))\n",
    "print(\"Balanced accuracy:\", balanced_accuracy_score(y_test_bin3_2,y_pred_bin3_2))"
   ]
  },
  {
   "cell_type": "code",
   "execution_count": 57,
   "id": "78ed69d5-1728-490d-b71f-1738481dea56",
   "metadata": {},
   "outputs": [
    {
     "name": "stdout",
     "output_type": "stream",
     "text": [
      "TN   FN   TP   FP\n",
      "[5588.   33.  252.  112.]\n",
      "[5588.    7.  278.  112.]\n"
     ]
    }
   ],
   "source": [
    "rate_bin3_1 = rates(y_test_bin3_1,y_pred_bin3_1)\n",
    "rate_bin3_2 = rates(y_test_bin3_2,y_pred_bin3_2)\n",
    "\n",
    "print(\"TN   FN   TP   FP\")\n",
    "print(rate_bin3_1)\n",
    "print(rate_bin3_2)"
   ]
  },
  {
   "cell_type": "code",
   "execution_count": 58,
   "id": "8e6b3c66-3514-46a5-a241-5ee15ecadbdd",
   "metadata": {},
   "outputs": [
    {
     "name": "stdout",
     "output_type": "stream",
     "text": [
      "true positive rate: 0.8842105263157894\n",
      "true negative rate: 0.9803508771929824\n",
      "positive predictive value: 0.6923076923076923\n",
      "negative predictive value: 0.9941291585127201\n",
      "false positive rate: 0.019649122807017545\n",
      "false negative rate: 0.11578947368421053\n",
      "false discovery rate: 0.3076923076923077\n",
      "Overall accuracy: 0.9757727652464494\n"
     ]
    }
   ],
   "source": [
    "TN = rate_bin3_1[0]\n",
    "FN = rate_bin3_1[1]\n",
    "TP = rate_bin3_1[2]\n",
    "FP = rate_bin3_1[3]\n",
    "\n",
    "# Sensitivity, hit rate, recall, or true positive rate\n",
    "TPR_bin3_1 = TP/(TP+FN)\n",
    "print(\"true positive rate:\",TPR_bin3_1)\n",
    "# Specificity or true negative rate\n",
    "TNR_bin3_1 = TN/(TN+FP) \n",
    "print(\"true negative rate:\",TNR_bin3_1)\n",
    "# Precision or positive predictive value\n",
    "PPV_bin3_1 = TP/(TP+FP)\n",
    "print(\"positive predictive value:\",PPV_bin3_1)\n",
    "# Negative predictive value\n",
    "NPV_bin3_1 = TN/(TN+FN)\n",
    "print(\"negative predictive value:\",NPV_bin3_1)\n",
    "# Fall out or false positive rate\n",
    "FPR_bin3_1 = FP/(FP+TN)\n",
    "print(\"false positive rate:\",FPR_bin3_1)\n",
    "# False negative rate\n",
    "FNR_bin3_1 = FN/(TP+FN)\n",
    "print(\"false negative rate:\",FNR_bin3_1)\n",
    "# False discovery rate\n",
    "FDR_bin3_1 = FP/(TP+FP)\n",
    "print(\"false discovery rate:\",FDR_bin3_1)\n",
    "\n",
    "# Overall accuracy\n",
    "ACC_bin3_1 = (TP+TN)/(TP+FP+FN+TN)\n",
    "print(\"Overall accuracy:\",ACC_bin3_1)"
   ]
  },
  {
   "cell_type": "code",
   "execution_count": null,
   "id": "e5a1ba61-6643-4ffa-a630-df756bca956d",
   "metadata": {},
   "outputs": [],
   "source": [
    "kihana@uchicago.edu - Kihana Wilson"
   ]
  },
  {
   "cell_type": "code",
   "execution_count": null,
   "id": "7baa9013",
   "metadata": {},
   "outputs": [],
   "source": []
  }
 ],
 "metadata": {
  "kernelspec": {
   "display_name": "Python 3 (ipykernel)",
   "language": "python",
   "name": "python3"
  },
  "language_info": {
   "codemirror_mode": {
    "name": "ipython",
    "version": 3
   },
   "file_extension": ".py",
   "mimetype": "text/x-python",
   "name": "python",
   "nbconvert_exporter": "python",
   "pygments_lexer": "ipython3",
   "version": "3.10.5"
  }
 },
 "nbformat": 4,
 "nbformat_minor": 5
}
