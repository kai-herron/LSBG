{
 "cells": [
  {
   "cell_type": "code",
   "execution_count": 1,
   "id": "8cfe6b4c-3ef4-4133-92c7-ea7389d76694",
   "metadata": {},
   "outputs": [],
   "source": [
    "# Import basic packages\n",
    "import numpy as np\n",
    "import scipy as sp\n",
    "import pandas as pd\n",
    "from astropy.io import fits\n",
    "\n",
    "\n",
    "# ==== Scikit-learn =======================\n",
    "# Preprocessing\n",
    "from sklearn.preprocessing import StandardScaler #Standar scaler for standardization\n",
    "from sklearn.model_selection import train_test_split # For random split\n",
    "\n",
    "# Classifiers\n",
    "from sklearn.svm import SVC\n",
    "from sklearn.ensemble import RandomForestClassifier\n",
    "\n",
    "# Metrics\n",
    "from sklearn.metrics import balanced_accuracy_score\n",
    "from sklearn.metrics import precision_score\n",
    "from sklearn.metrics import recall_score\n",
    "\n",
    "from sklearn.ensemble import RandomForestClassifier\n",
    "from sklearn.model_selection import RandomizedSearchCV, GridSearchCV\n",
    "from sklearn import metrics\n",
    "from sklearn.ensemble import RandomForestRegressor\n",
    "from pprint import pprint\n",
    "\n",
    "# ==========================================\n",
    "# Matplotlib, urlib etc \n",
    "import urllib\n",
    "import urllib.request\n",
    "import matplotlib\n",
    "import matplotlib.pyplot as plt\n",
    "from IPython.display import clear_output, display\n",
    "from PIL import Image\n",
    "%matplotlib inline"
   ]
  },
  {
   "cell_type": "code",
   "execution_count": 2,
   "id": "da5be9e3-578a-42f9-8f20-48aa0c96ff3f",
   "metadata": {},
   "outputs": [],
   "source": [
    "from sklearn.metrics import confusion_matrix\n",
    "\n",
    "def rates(y_true, y_pred):\n",
    "    CM = confusion_matrix(y_true, y_pred)\n",
    "\n",
    "    TN = CM[0][0]\n",
    "    FN = CM[1][0]\n",
    "    TP = CM[1][1]\n",
    "    FP = CM[0][1]\n",
    "    \n",
    "    # Initialize\n",
    "    X_mat = np.zeros(4)\n",
    "    \n",
    "    # Populate\n",
    "    X_mat[0] = TN\n",
    "    X_mat[1] = FN\n",
    "    X_mat[2] = TP\n",
    "    X_mat[3] = FP\n",
    "    \n",
    "    return X_mat  "
   ]
  },
  {
   "cell_type": "markdown",
   "id": "ec6d3c25-aac7-4d60-87ef-4c3ffea2b1a5",
   "metadata": {},
   "source": [
    "### Import feature matrix and labels"
   ]
  },
  {
   "cell_type": "code",
   "execution_count": 72,
   "id": "d61abec0",
   "metadata": {},
   "outputs": [],
   "source": [
    "randoms = np.load(\"/data/des81.a/data/kherron/LSBG/trainingfiles/Randoms/X_randoms_40k_feat.npy\")\n",
    "randoms_l = np.load(\"/data/des81.a/data/kherron/LSBG/trainingfiles/Randoms/y_randoms_40k_lab.npy\")\n",
    "\n",
    "randoms_e = np.load(\"/data/des81.a/data/kherron/LSBG/trainingfiles/Randoms/X_randoms_v3_feat.npy\")\n",
    "randoms_e_l = np.load(\"/data/des81.a/data/kherron/LSBG/trainingfiles/Randoms/y_randoms_v3_lab.npy\")\n",
    "\n",
    "burcin = np.load(\"/data/des80.b/data/burcinmp/y6_lsbg/y6/test_classifier/random_forest/v3/X_mat_v4_a.npy\")\n",
    "burcin_l = np.load(\"/data/des80.b/data/burcinmp/y6_lsbg/y6/test_classifier/random_forest/v3/y_lab_v4_a.npy\")"
   ]
  },
  {
   "cell_type": "code",
   "execution_count": 73,
   "id": "04b65dad",
   "metadata": {},
   "outputs": [],
   "source": [
    "sel = (burcin_l == 1)\n",
    "burcin = burcin[sel]\n",
    "burcin_l = burcin_l[sel]"
   ]
  },
  {
   "cell_type": "code",
   "execution_count": 74,
   "id": "81259162",
   "metadata": {},
   "outputs": [],
   "source": [
    "sel = (randoms_e[:,16] >= 24.0) & (randoms_e[:,16] < 25.0)\n",
    "bin0_rands = randoms_e[sel][0:5000]\n",
    "bin0_lab = randoms_e_l[sel][0:5000]\n",
    "sel = (randoms_e[:,16] >= 25.0) & (randoms_e[:,16] < 26.0)\n",
    "bin1_rands = randoms_e[sel][0:6000]\n",
    "bin1_lab = randoms_e_l[sel][0:6000]\n",
    "sel = (randoms_e[:,16] >= 26.0) & (randoms_e[:,16] <= 27.0)\n",
    "bin2_rands = randoms_e[sel][0:12000]\n",
    "bin2_lab = randoms_e_l[sel][0:12000]"
   ]
  },
  {
   "cell_type": "code",
   "execution_count": 75,
   "id": "5c3d10ab",
   "metadata": {},
   "outputs": [
    {
     "data": {
      "text/plain": [
       "6000"
      ]
     },
     "execution_count": 75,
     "metadata": {},
     "output_type": "execute_result"
    }
   ],
   "source": [
    "len(bin1_rands)"
   ]
  },
  {
   "cell_type": "code",
   "execution_count": 85,
   "id": "59562c7b-3b4a-4cbc-8c29-ca3b02690b54",
   "metadata": {},
   "outputs": [],
   "source": [
    "#Load in training files\n",
    "X_feat_real = np.concatenate((burcin, bin0_rands, bin1_rands, bin2_rands))\n",
    "y_lab_real = np.concatenate((burcin_l, bin0_lab, bin1_lab, bin2_lab))"
   ]
  },
  {
   "cell_type": "code",
   "execution_count": 86,
   "id": "f142fd29-a97d-43cc-8b2c-e055d3cd6419",
   "metadata": {},
   "outputs": [
    {
     "name": "stdout",
     "output_type": "stream",
     "text": [
      "===========Train==Test\n",
      "ARTIFACTS: 16099 6901\n",
      "LSBGs    : 21332 9143\n"
     ]
    }
   ],
   "source": [
    "#Split up LSBGs and aritfacts into train and test (70% train and 30% test)\n",
    "\n",
    "index_real=(y_lab_real==1)\n",
    "index_art=(y_lab_real==0)\n",
    "\n",
    "X_art = X_feat_real[index_art]\n",
    "X_lsbg = X_feat_real[index_real]\n",
    "\n",
    "y_art = y_lab_real[index_art]\n",
    "y_lsbg = y_lab_real[index_real]\n",
    "\n",
    "X_train_art, X_test_art, y_train_art, y_test_art = train_test_split(X_art, y_art,\n",
    "                                                                        train_size = 0.70, random_state = 42)\n",
    "X_train_lsbg, X_test_lsbg, y_train_lsbg, y_test_lsbg = train_test_split(X_lsbg, y_lsbg,\n",
    "                                                                        train_size = 0.70, random_state = 42)\n",
    "print('===========Train==Test')\n",
    "print(\"ARTIFACTS:\",len(X_train_art), len(X_test_art))\n",
    "print(\"LSBGs    :\",len(X_train_lsbg), len(X_test_lsbg))\n"
   ]
  },
  {
   "cell_type": "code",
   "execution_count": 87,
   "id": "fd46d491-747a-48e5-86be-883dcc728c2f",
   "metadata": {},
   "outputs": [],
   "source": [
    "#Create training arrays\n",
    "\n",
    "X_train = np.concatenate((X_train_art,X_train_lsbg))\n",
    "y_train = np.concatenate((y_train_art,y_train_lsbg))\n",
    "\n",
    "# Standardize the two sets\n",
    "scaler = StandardScaler().fit(X_train)\n",
    "X_train = scaler.transform(X_train)"
   ]
  },
  {
   "cell_type": "code",
   "execution_count": 88,
   "id": "01b1f7da-73fb-4f50-b3e6-8b862cde8e6b",
   "metadata": {},
   "outputs": [
    {
     "data": {
      "text/html": [
       "<style>#sk-container-id-5 {color: black;background-color: white;}#sk-container-id-5 pre{padding: 0;}#sk-container-id-5 div.sk-toggleable {background-color: white;}#sk-container-id-5 label.sk-toggleable__label {cursor: pointer;display: block;width: 100%;margin-bottom: 0;padding: 0.3em;box-sizing: border-box;text-align: center;}#sk-container-id-5 label.sk-toggleable__label-arrow:before {content: \"▸\";float: left;margin-right: 0.25em;color: #696969;}#sk-container-id-5 label.sk-toggleable__label-arrow:hover:before {color: black;}#sk-container-id-5 div.sk-estimator:hover label.sk-toggleable__label-arrow:before {color: black;}#sk-container-id-5 div.sk-toggleable__content {max-height: 0;max-width: 0;overflow: hidden;text-align: left;background-color: #f0f8ff;}#sk-container-id-5 div.sk-toggleable__content pre {margin: 0.2em;color: black;border-radius: 0.25em;background-color: #f0f8ff;}#sk-container-id-5 input.sk-toggleable__control:checked~div.sk-toggleable__content {max-height: 200px;max-width: 100%;overflow: auto;}#sk-container-id-5 input.sk-toggleable__control:checked~label.sk-toggleable__label-arrow:before {content: \"▾\";}#sk-container-id-5 div.sk-estimator input.sk-toggleable__control:checked~label.sk-toggleable__label {background-color: #d4ebff;}#sk-container-id-5 div.sk-label input.sk-toggleable__control:checked~label.sk-toggleable__label {background-color: #d4ebff;}#sk-container-id-5 input.sk-hidden--visually {border: 0;clip: rect(1px 1px 1px 1px);clip: rect(1px, 1px, 1px, 1px);height: 1px;margin: -1px;overflow: hidden;padding: 0;position: absolute;width: 1px;}#sk-container-id-5 div.sk-estimator {font-family: monospace;background-color: #f0f8ff;border: 1px dotted black;border-radius: 0.25em;box-sizing: border-box;margin-bottom: 0.5em;}#sk-container-id-5 div.sk-estimator:hover {background-color: #d4ebff;}#sk-container-id-5 div.sk-parallel-item::after {content: \"\";width: 100%;border-bottom: 1px solid gray;flex-grow: 1;}#sk-container-id-5 div.sk-label:hover label.sk-toggleable__label {background-color: #d4ebff;}#sk-container-id-5 div.sk-serial::before {content: \"\";position: absolute;border-left: 1px solid gray;box-sizing: border-box;top: 0;bottom: 0;left: 50%;z-index: 0;}#sk-container-id-5 div.sk-serial {display: flex;flex-direction: column;align-items: center;background-color: white;padding-right: 0.2em;padding-left: 0.2em;position: relative;}#sk-container-id-5 div.sk-item {position: relative;z-index: 1;}#sk-container-id-5 div.sk-parallel {display: flex;align-items: stretch;justify-content: center;background-color: white;position: relative;}#sk-container-id-5 div.sk-item::before, #sk-container-id-5 div.sk-parallel-item::before {content: \"\";position: absolute;border-left: 1px solid gray;box-sizing: border-box;top: 0;bottom: 0;left: 50%;z-index: -1;}#sk-container-id-5 div.sk-parallel-item {display: flex;flex-direction: column;z-index: 1;position: relative;background-color: white;}#sk-container-id-5 div.sk-parallel-item:first-child::after {align-self: flex-end;width: 50%;}#sk-container-id-5 div.sk-parallel-item:last-child::after {align-self: flex-start;width: 50%;}#sk-container-id-5 div.sk-parallel-item:only-child::after {width: 0;}#sk-container-id-5 div.sk-dashed-wrapped {border: 1px dashed gray;margin: 0 0.4em 0.5em 0.4em;box-sizing: border-box;padding-bottom: 0.4em;background-color: white;}#sk-container-id-5 div.sk-label label {font-family: monospace;font-weight: bold;display: inline-block;line-height: 1.2em;}#sk-container-id-5 div.sk-label-container {text-align: center;}#sk-container-id-5 div.sk-container {/* jupyter's `normalize.less` sets `[hidden] { display: none; }` but bootstrap.min.css set `[hidden] { display: none !important; }` so we also need the `!important` here to be able to override the default hidden behavior on the sphinx rendered scikit-learn.org. See: https://github.com/scikit-learn/scikit-learn/issues/21755 */display: inline-block !important;position: relative;}#sk-container-id-5 div.sk-text-repr-fallback {display: none;}</style><div id=\"sk-container-id-5\" class=\"sk-top-container\"><div class=\"sk-text-repr-fallback\"><pre>RandomForestClassifier()</pre><b>In a Jupyter environment, please rerun this cell to show the HTML representation or trust the notebook. <br />On GitHub, the HTML representation is unable to render, please try loading this page with nbviewer.org.</b></div><div class=\"sk-container\" hidden><div class=\"sk-item\"><div class=\"sk-estimator sk-toggleable\"><input class=\"sk-toggleable__control sk-hidden--visually\" id=\"sk-estimator-id-5\" type=\"checkbox\" checked><label for=\"sk-estimator-id-5\" class=\"sk-toggleable__label sk-toggleable__label-arrow\">RandomForestClassifier</label><div class=\"sk-toggleable__content\"><pre>RandomForestClassifier()</pre></div></div></div></div></div>"
      ],
      "text/plain": [
       "RandomForestClassifier()"
      ]
     },
     "execution_count": 88,
     "metadata": {},
     "output_type": "execute_result"
    }
   ],
   "source": [
    "#Make the classifier\n",
    "model_rf_fin = RandomForestClassifier(n_estimators=100)\n",
    "#                                       criterion='entropy',\n",
    "#                                       max_depth=10,\n",
    "#                                       max_features=None)\n",
    "#                                       min_samples_leaf=2,\n",
    "#                                       min_samples_split=12)\n",
    "#                                       n_estimators=240)\n",
    "model_rf_fin.fit(X_train,y_train)\n"
   ]
  },
  {
   "cell_type": "code",
   "execution_count": 89,
   "id": "7182e6a8-ceec-4d2c-b3da-20ad4565c4d1",
   "metadata": {},
   "outputs": [
    {
     "name": "stdout",
     "output_type": "stream",
     "text": [
      "AUC Score =0.9913\n"
     ]
    }
   ],
   "source": [
    "print('AUC Score ={:.4f}'.format(metrics.f1_score(y_train,model_rf_fin.predict(X_train))))"
   ]
  },
  {
   "cell_type": "code",
   "execution_count": 90,
   "id": "65150a7e-fd5f-49fb-81ac-24cab7415a1c",
   "metadata": {},
   "outputs": [],
   "source": [
    "# Make test set\n",
    "\n",
    "X_test_1 = np.concatenate((X_test_lsbg,X_test_art)) \n",
    "y_test = np.concatenate((y_test_lsbg,y_test_art))\n",
    "\n",
    "X_test = scaler.transform(X_test_1)\n",
    "\n",
    "y_pred = model_rf_fin.predict(X_test)"
   ]
  },
  {
   "cell_type": "code",
   "execution_count": 91,
   "id": "8ddf2fbb",
   "metadata": {},
   "outputs": [],
   "source": [
    "#Make some binzzz\n",
    "# 24 < mu_g < 25\n",
    "\n",
    "sel = (X_test_1[:,16] >= 24.0) & (X_test_1[:,16] < 25.0)\n",
    "\n",
    "y_test_bin1 = y_test[sel]\n",
    "y_pred_bin1 = y_pred[sel]\n",
    "\n",
    "# 25 < mu_g < 26\n",
    "sel = (X_test_1[:,16] >= 25.0) & (X_test_1[:,16] < 26.0)\n",
    "\n",
    "y_test_bin2 = y_test[sel]\n",
    "y_pred_bin2 = y_pred[sel]\n",
    "\n",
    "# 26 < mu_g < 27\n",
    "sel = (X_test_1[:,16] >= 26.0) & (X_test_1[:,16] <= 27.0)\n",
    "\n",
    "y_test_bin3 = y_test[sel]\n",
    "y_pred_bin3 = y_pred[sel]\n"
   ]
  },
  {
   "cell_type": "code",
   "execution_count": null,
   "id": "573848ea",
   "metadata": {},
   "outputs": [],
   "source": []
  },
  {
   "cell_type": "code",
   "execution_count": 92,
   "id": "d72e3150-50f0-4d61-9111-82d7d469a7f4",
   "metadata": {},
   "outputs": [
    {
     "name": "stdout",
     "output_type": "stream",
     "text": [
      "  TN      FN     TP     FP\n",
      "[1078.  201. 5640.  411.]\n"
     ]
    }
   ],
   "source": [
    "rate_bin1 = rates(y_test_bin1,y_pred_bin1)\n",
    "print(\"  TN      FN     TP     FP\")\n",
    "print(rate_bin1)"
   ]
  },
  {
   "cell_type": "code",
   "execution_count": 93,
   "id": "d6a8ac6c",
   "metadata": {},
   "outputs": [
    {
     "name": "stdout",
     "output_type": "stream",
     "text": [
      "true positive rate: 0.965588084232152\n",
      "true negative rate: 0.7239758226997985\n",
      "positive predictive value: 0.932077342588002\n",
      "negative predictive value: 0.8428459734167318\n",
      "false positive rate: 0.27602417730020146\n",
      "false negative rate: 0.034411915767847974\n",
      "false discovery rate: 0.06792265741199802\n",
      "Overall accuracy: 0.9165075034106412\n"
     ]
    }
   ],
   "source": [
    "TN = rate_bin1[0]\n",
    "FN = rate_bin1[1]\n",
    "TP = rate_bin1[2]\n",
    "FP = rate_bin1[3]\n",
    "\n",
    "# Sensitivity, hit rate, recall, or true positive rate\n",
    "TPR_bin1_1 = TP/(TP+FN)\n",
    "print(\"true positive rate:\",TPR_bin1_1)\n",
    "# Specificity or true negative rate\n",
    "TNR_bin1_1 = TN/(TN+FP) \n",
    "print(\"true negative rate:\",TNR_bin1_1)\n",
    "# Precision or positive predictive value\n",
    "PPV_bin1_1 = TP/(TP+FP)\n",
    "print(\"positive predictive value:\",PPV_bin1_1)\n",
    "# Negative predictive value\n",
    "NPV_bin1_1 = TN/(TN+FN)\n",
    "print(\"negative predictive value:\",NPV_bin1_1)\n",
    "# Fall out or false positive rate\n",
    "FPR_bin1_1 = FP/(FP+TN)\n",
    "print(\"false positive rate:\",FPR_bin1_1)\n",
    "# False negative rate\n",
    "FNR_bin1_1 = FN/(TP+FN)\n",
    "print(\"false negative rate:\",FNR_bin1_1)\n",
    "# False discovery rate\n",
    "FDR_bin1_1 = FP/(TP+FP)\n",
    "print(\"false discovery rate:\",FDR_bin1_1)\n",
    "\n",
    "# Overall accuracy\n",
    "ACC_bin1_1 = (TP+TN)/(TP+FP+FN+TN)\n",
    "print(\"Overall accuracy:\",ACC_bin1_1)"
   ]
  },
  {
   "cell_type": "markdown",
   "id": "4bbe8cc5-8da0-423d-9793-aa26862c8a08",
   "metadata": {},
   "source": [
    "### BIN2: 25. <= mu_g<= 26"
   ]
  },
  {
   "cell_type": "code",
   "execution_count": 94,
   "id": "8c25c88c-3df9-4383-a5bb-0d4527d1ae75",
   "metadata": {},
   "outputs": [
    {
     "name": "stdout",
     "output_type": "stream",
     "text": [
      "  TN      FN     TP     FP\n",
      "[1563.  117. 2662.  250.]\n"
     ]
    }
   ],
   "source": [
    "rate_bin2 = rates(y_test_bin2,y_pred_bin2)\n",
    "\n",
    "print(\"  TN      FN     TP     FP\")\n",
    "print(rate_bin2)"
   ]
  },
  {
   "cell_type": "code",
   "execution_count": 95,
   "id": "2548a8ae-dbbe-4dbc-918a-5d4579189c93",
   "metadata": {},
   "outputs": [
    {
     "name": "stdout",
     "output_type": "stream",
     "text": [
      "true positive rate: 0.9578985246491544\n",
      "true negative rate: 0.8621070049641478\n",
      "positive predictive value: 0.9141483516483516\n",
      "negative predictive value: 0.9303571428571429\n",
      "false positive rate: 0.13789299503585217\n",
      "false negative rate: 0.04210147535084563\n",
      "false discovery rate: 0.08585164835164835\n",
      "Overall accuracy: 0.9200783972125436\n"
     ]
    }
   ],
   "source": [
    "TN = rate_bin2[0]\n",
    "FN = rate_bin2[1]\n",
    "TP = rate_bin2[2]\n",
    "FP = rate_bin2[3]\n",
    "\n",
    "# Sensitivity, hit rate, recall, or true positive rate\n",
    "TPR_bin2_1 = TP/(TP+FN)\n",
    "print(\"true positive rate:\",TPR_bin2_1)\n",
    "# Specificity or true negative rate\n",
    "TNR_bin2_1 = TN/(TN+FP) \n",
    "print(\"true negative rate:\",TNR_bin2_1)\n",
    "# Precision or positive predictive value\n",
    "PPV_bin2_1 = TP/(TP+FP)\n",
    "print(\"positive predictive value:\",PPV_bin2_1)\n",
    "# Negative predictive value\n",
    "NPV_bin2_1 = TN/(TN+FN)\n",
    "print(\"negative predictive value:\",NPV_bin2_1)\n",
    "# Fall out or false positive rate\n",
    "FPR_bin2_1 = FP/(FP+TN)\n",
    "print(\"false positive rate:\",FPR_bin2_1)\n",
    "# False negative rate\n",
    "FNR_bin2_1 = FN/(TP+FN)\n",
    "print(\"false negative rate:\",FNR_bin2_1)\n",
    "# False discovery rate\n",
    "FDR_bin2_1 = FP/(TP+FP)\n",
    "print(\"false discovery rate:\",FDR_bin2_1)\n",
    "\n",
    "# Overall accuracy\n",
    "ACC_bin2_1 = (TP+TN)/(TP+FP+FN+TN)\n",
    "print(\"Overall accuracy:\",ACC_bin2_1)"
   ]
  },
  {
   "cell_type": "markdown",
   "id": "1f0ecbb3-d3a0-4b55-bdab-53b98a7c54bd",
   "metadata": {},
   "source": [
    "### BIN3: 26. <= mu_g<= 27"
   ]
  },
  {
   "cell_type": "code",
   "execution_count": 96,
   "id": "78ed69d5-1728-490d-b71f-1738481dea56",
   "metadata": {},
   "outputs": [
    {
     "name": "stdout",
     "output_type": "stream",
     "text": [
      "  TN      FN     TP     FP\n",
      "[3518.  104.  408.   81.]\n"
     ]
    }
   ],
   "source": [
    "rate_bin3 = rates(y_test_bin3,y_pred_bin3)\n",
    "\n",
    "print(\"  TN      FN     TP     FP\")\n",
    "print(rate_bin3)"
   ]
  },
  {
   "cell_type": "code",
   "execution_count": 97,
   "id": "8e6b3c66-3514-46a5-a241-5ee15ecadbdd",
   "metadata": {},
   "outputs": [
    {
     "name": "stdout",
     "output_type": "stream",
     "text": [
      "true positive rate: 0.796875\n",
      "true negative rate: 0.9774937482634065\n",
      "positive predictive value: 0.8343558282208589\n",
      "negative predictive value: 0.9712865819988956\n",
      "false positive rate: 0.0225062517365935\n",
      "false negative rate: 0.203125\n",
      "false discovery rate: 0.1656441717791411\n",
      "Overall accuracy: 0.9549987837509122\n"
     ]
    }
   ],
   "source": [
    "TN = rate_bin3[0]\n",
    "FN = rate_bin3[1]\n",
    "TP = rate_bin3[2]\n",
    "FP = rate_bin3[3]\n",
    "\n",
    "# Sensitivity, hit rate, recall, or true positive rate\n",
    "TPR_bin3_1 = TP/(TP+FN)\n",
    "print(\"true positive rate:\",TPR_bin3_1)\n",
    "# Specificity or true negative rate\n",
    "TNR_bin3_1 = TN/(TN+FP) \n",
    "print(\"true negative rate:\",TNR_bin3_1)\n",
    "# Precision or positive predictive value\n",
    "PPV_bin3_1 = TP/(TP+FP)\n",
    "print(\"positive predictive value:\",PPV_bin3_1)\n",
    "# Negative predictive value\n",
    "NPV_bin3_1 = TN/(TN+FN)\n",
    "print(\"negative predictive value:\",NPV_bin3_1)\n",
    "# Fall out or false positive rate\n",
    "FPR_bin3_1 = FP/(FP+TN)\n",
    "print(\"false positive rate:\",FPR_bin3_1)\n",
    "# False negative rate\n",
    "FNR_bin3_1 = FN/(TP+FN)\n",
    "print(\"false negative rate:\",FNR_bin3_1)\n",
    "# False discovery rate\n",
    "FDR_bin3_1 = FP/(TP+FP)\n",
    "print(\"false discovery rate:\",FDR_bin3_1)\n",
    "\n",
    "# Overall accuracy\n",
    "ACC_bin3_1 = (TP+TN)/(TP+FP+FN+TN)\n",
    "print(\"Overall accuracy:\",ACC_bin3_1)"
   ]
  },
  {
   "cell_type": "code",
   "execution_count": 18,
   "id": "e5a1ba61-6643-4ffa-a630-df756bca956d",
   "metadata": {},
   "outputs": [
    {
     "name": "stdout",
     "output_type": "stream",
     "text": [
      "9132.0\n"
     ]
    }
   ],
   "source": [
    "print(rate_bin1[1]+rate_bin1[2]+rate_bin2[1]+rate_bin2[2]+rate_bin3[1]+rate_bin3[2])"
   ]
  },
  {
   "cell_type": "code",
   "execution_count": 19,
   "id": "f79acd93",
   "metadata": {},
   "outputs": [],
   "source": [
    "tpr_bin0_40k = TPR_bin1_1\n",
    "tpr_bin1_40k = TPR_bin2_1\n",
    "tpr_bin2_40k = TPR_bin3_1"
   ]
  },
  {
   "cell_type": "code",
   "execution_count": 20,
   "id": "f9390349",
   "metadata": {},
   "outputs": [
    {
     "name": "stdout",
     "output_type": "stream",
     "text": [
      "Stored 'tpr_bin0_40k' (float64)\n",
      "Stored 'tpr_bin1_40k' (float64)\n",
      "Stored 'tpr_bin2_40k' (float64)\n"
     ]
    }
   ],
   "source": [
    "%store tpr_bin0_40k tpr_bin1_40k tpr_bin2_40k"
   ]
  },
  {
   "cell_type": "code",
   "execution_count": 21,
   "id": "699a040c",
   "metadata": {},
   "outputs": [],
   "source": [
    "tnr_bin0_40k = TNR_bin1_1\n",
    "tnr_bin1_40k = TNR_bin2_1\n",
    "tnr_bin2_40k = TNR_bin3_1"
   ]
  },
  {
   "cell_type": "code",
   "execution_count": 22,
   "id": "8be43379",
   "metadata": {},
   "outputs": [
    {
     "name": "stdout",
     "output_type": "stream",
     "text": [
      "Stored 'tnr_bin0_40k' (float64)\n",
      "Stored 'tnr_bin1_40k' (float64)\n",
      "Stored 'tnr_bin2_40k' (float64)\n"
     ]
    }
   ],
   "source": [
    "%store tnr_bin0_40k tnr_bin1_40k tnr_bin2_40k"
   ]
  },
  {
   "cell_type": "code",
   "execution_count": 23,
   "id": "6c6225ed",
   "metadata": {},
   "outputs": [],
   "source": [
    "fpr_bin0_40k = FPR_bin1_1\n",
    "fpr_bin1_40k = FPR_bin2_1\n",
    "fpr_bin2_40k = FPR_bin3_1"
   ]
  },
  {
   "cell_type": "code",
   "execution_count": 24,
   "id": "974086b9",
   "metadata": {},
   "outputs": [
    {
     "name": "stdout",
     "output_type": "stream",
     "text": [
      "Stored 'fpr_bin0_40k' (float64)\n",
      "Stored 'fpr_bin1_40k' (float64)\n",
      "Stored 'fpr_bin2_40k' (float64)\n"
     ]
    }
   ],
   "source": [
    "%store fpr_bin0_40k fpr_bin1_40k fpr_bin2_40k"
   ]
  },
  {
   "cell_type": "code",
   "execution_count": 25,
   "id": "2ed0e08a",
   "metadata": {},
   "outputs": [
    {
     "name": "stdout",
     "output_type": "stream",
     "text": [
      "Stored variables and their in-db values:\n",
      "fpr_bin0_40k             -> 0.3002481389578164\n",
      "fpr_bin0_def             -> 0.3138401559454191\n",
      "fpr_bin1_40k             -> 0.17290192113245703\n",
      "fpr_bin1_def             -> 0.18947368421052632\n",
      "fpr_bin2_40k             -> 0.034482758620689655\n",
      "fpr_bin2_def             -> 0.03735881841876629\n",
      "tnr_bin0_40k             -> 0.6997518610421837\n",
      "tnr_bin0_def             -> 0.6861598440545809\n",
      "tnr_bin1_40k             -> 0.8270980788675429\n",
      "tnr_bin1_def             -> 0.8105263157894737\n",
      "tnr_bin2_40k             -> 0.9655172413793104\n",
      "tnr_bin2_def             -> 0.9626411815812337\n",
      "tpr_bin0_40k             -> 0.9806539976031502\n",
      "tpr_bin0_def             -> 0.9863037151172744\n",
      "tpr_bin1_40k             -> 0.973011874775099\n",
      "tpr_bin1_def             -> 0.9787693414897445\n",
      "tpr_bin2_40k             -> 0.861328125\n",
      "tpr_bin2_def             -> 0.880859375\n"
     ]
    }
   ],
   "source": [
    "%store"
   ]
  },
  {
   "cell_type": "code",
   "execution_count": null,
   "id": "597e60c8",
   "metadata": {},
   "outputs": [],
   "source": []
  }
 ],
 "metadata": {
  "kernelspec": {
   "display_name": "Python 3 (ipykernel)",
   "language": "python",
   "name": "python3"
  },
  "language_info": {
   "codemirror_mode": {
    "name": "ipython",
    "version": 3
   },
   "file_extension": ".py",
   "mimetype": "text/x-python",
   "name": "python",
   "nbconvert_exporter": "python",
   "pygments_lexer": "ipython3",
   "version": "3.10.5"
  }
 },
 "nbformat": 4,
 "nbformat_minor": 5
}
