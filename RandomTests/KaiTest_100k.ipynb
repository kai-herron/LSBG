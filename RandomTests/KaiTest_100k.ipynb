{
 "cells": [
  {
   "cell_type": "code",
   "execution_count": 1,
   "id": "8cfe6b4c-3ef4-4133-92c7-ea7389d76694",
   "metadata": {},
   "outputs": [],
   "source": [
    "# Import basic packages\n",
    "import numpy as np\n",
    "import scipy as sp\n",
    "import pandas as pd\n",
    "from astropy.io import fits\n",
    "\n",
    "\n",
    "# ==== Scikit-learn =======================\n",
    "# Preprocessing\n",
    "from sklearn.preprocessing import StandardScaler #Standar scaler for standardization\n",
    "from sklearn.model_selection import train_test_split # For random split\n",
    "\n",
    "# Classifiers\n",
    "from sklearn.svm import SVC\n",
    "from sklearn.ensemble import RandomForestClassifier\n",
    "\n",
    "# Metrics\n",
    "from sklearn.metrics import balanced_accuracy_score\n",
    "from sklearn.metrics import precision_score\n",
    "from sklearn.metrics import recall_score\n",
    "\n",
    "from sklearn.ensemble import RandomForestClassifier\n",
    "from sklearn.model_selection import RandomizedSearchCV, GridSearchCV\n",
    "from sklearn import metrics\n",
    "from sklearn.ensemble import RandomForestRegressor\n",
    "from pprint import pprint\n",
    "\n",
    "# ==========================================\n",
    "# Matplotlib, urlib etc \n",
    "import urllib\n",
    "import urllib.request\n",
    "import matplotlib\n",
    "import matplotlib.pyplot as plt\n",
    "from IPython.display import clear_output, display\n",
    "from PIL import Image\n",
    "%matplotlib inline"
   ]
  },
  {
   "cell_type": "code",
   "execution_count": 2,
   "id": "da5be9e3-578a-42f9-8f20-48aa0c96ff3f",
   "metadata": {},
   "outputs": [],
   "source": [
    "from sklearn.metrics import confusion_matrix\n",
    "\n",
    "def rates(y_true, y_pred):\n",
    "    CM = confusion_matrix(y_true, y_pred)\n",
    "\n",
    "    TN = CM[0][0]\n",
    "    FN = CM[1][0]\n",
    "    TP = CM[1][1]\n",
    "    FP = CM[0][1]\n",
    "    \n",
    "    # Initialize\n",
    "    X_mat = np.zeros(4)\n",
    "    \n",
    "    # Populate\n",
    "    X_mat[0] = TN\n",
    "    X_mat[1] = FN\n",
    "    X_mat[2] = TP\n",
    "    X_mat[3] = FP\n",
    "    \n",
    "    return X_mat  "
   ]
  },
  {
   "cell_type": "markdown",
   "id": "ec6d3c25-aac7-4d60-87ef-4c3ffea2b1a5",
   "metadata": {},
   "source": [
    "### Import feature matrix and labels"
   ]
  },
  {
   "cell_type": "code",
   "execution_count": 3,
   "id": "d61abec0",
   "metadata": {},
   "outputs": [],
   "source": [
    "randoms = np.load(\"/data/des81.a/data/kherron/LSBG/trainingfiles/Randoms/X_randoms_feat.npy\")\n",
    "randoms_l = np.load(\"/data/des81.a/data/kherron/LSBG/trainingfiles/Randoms/y_randoms_lab.npy\")\n",
    "\n",
    "\n",
    "burcin = np.load(\"/data/des80.b/data/burcinmp/y6_lsbg/y6/test_classifier/random_forest/v3/X_mat_v4_a.npy\")\n",
    "burcin_l = np.load(\"/data/des80.b/data/burcinmp/y6_lsbg/y6/test_classifier/random_forest/v3/y_lab_v4_a.npy\")\n"
   ]
  },
  {
   "cell_type": "code",
   "execution_count": 4,
   "id": "04b65dad",
   "metadata": {},
   "outputs": [],
   "source": [
    "sel = (burcin_l == 1)\n",
    "burcin = burcin[sel]\n",
    "burcin_l = burcin_l[sel]"
   ]
  },
  {
   "cell_type": "code",
   "execution_count": 5,
   "id": "59562c7b-3b4a-4cbc-8c29-ca3b02690b54",
   "metadata": {},
   "outputs": [],
   "source": [
    "#Load in training files\n",
    "X_feat_real = np.concatenate((randoms,burcin))\n",
    "y_lab_real = np.concatenate((randoms_l,burcin_l))"
   ]
  },
  {
   "cell_type": "code",
   "execution_count": 6,
   "id": "f142fd29-a97d-43cc-8b2c-e055d3cd6419",
   "metadata": {},
   "outputs": [
    {
     "name": "stdout",
     "output_type": "stream",
     "text": [
      "===========Train==Test\n",
      "ARTIFACTS: 70000 30000\n",
      "LSBGs    : 21332 9143\n"
     ]
    }
   ],
   "source": [
    "#Split up LSBGs and aritfacts into train and test (70% train and 30% test)\n",
    "\n",
    "index_real=(y_lab_real==1)\n",
    "index_art=(y_lab_real==0)\n",
    "\n",
    "X_art = X_feat_real[index_art]\n",
    "X_lsbg = X_feat_real[index_real]\n",
    "\n",
    "\n",
    "y_art = y_lab_real[index_art]\n",
    "y_lsbg = y_lab_real[index_real]\n",
    "\n",
    "\n",
    "X_train_art, X_test_art, y_train_art, y_test_art = train_test_split(X_art, y_art,\n",
    "                                                                        train_size = 0.70, random_state = 42)\n",
    "X_train_lsbg, X_test_lsbg, y_train_lsbg, y_test_lsbg = train_test_split(X_lsbg, y_lsbg,\n",
    "                                                                        train_size = 0.70, random_state = 42)\n",
    "print('===========Train==Test')\n",
    "print(\"ARTIFACTS:\",len(X_train_art), len(X_test_art))\n",
    "print(\"LSBGs    :\",len(X_train_lsbg), len(X_test_lsbg))\n"
   ]
  },
  {
   "cell_type": "code",
   "execution_count": 7,
   "id": "fd46d491-747a-48e5-86be-883dcc728c2f",
   "metadata": {},
   "outputs": [],
   "source": [
    "#Create training arrays\n",
    "\n",
    "X_train = np.concatenate((X_train_art,X_train_lsbg))\n",
    "y_train = np.concatenate((y_train_art,y_train_lsbg))\n",
    "\n",
    "# Standardize the two sets\n",
    "scaler = StandardScaler().fit(X_train)\n",
    "X_train = scaler.transform(X_train)"
   ]
  },
  {
   "cell_type": "code",
   "execution_count": 8,
   "id": "01b1f7da-73fb-4f50-b3e6-8b862cde8e6b",
   "metadata": {},
   "outputs": [
    {
     "data": {
      "text/html": [
       "<style>#sk-container-id-1 {color: black;background-color: white;}#sk-container-id-1 pre{padding: 0;}#sk-container-id-1 div.sk-toggleable {background-color: white;}#sk-container-id-1 label.sk-toggleable__label {cursor: pointer;display: block;width: 100%;margin-bottom: 0;padding: 0.3em;box-sizing: border-box;text-align: center;}#sk-container-id-1 label.sk-toggleable__label-arrow:before {content: \"▸\";float: left;margin-right: 0.25em;color: #696969;}#sk-container-id-1 label.sk-toggleable__label-arrow:hover:before {color: black;}#sk-container-id-1 div.sk-estimator:hover label.sk-toggleable__label-arrow:before {color: black;}#sk-container-id-1 div.sk-toggleable__content {max-height: 0;max-width: 0;overflow: hidden;text-align: left;background-color: #f0f8ff;}#sk-container-id-1 div.sk-toggleable__content pre {margin: 0.2em;color: black;border-radius: 0.25em;background-color: #f0f8ff;}#sk-container-id-1 input.sk-toggleable__control:checked~div.sk-toggleable__content {max-height: 200px;max-width: 100%;overflow: auto;}#sk-container-id-1 input.sk-toggleable__control:checked~label.sk-toggleable__label-arrow:before {content: \"▾\";}#sk-container-id-1 div.sk-estimator input.sk-toggleable__control:checked~label.sk-toggleable__label {background-color: #d4ebff;}#sk-container-id-1 div.sk-label input.sk-toggleable__control:checked~label.sk-toggleable__label {background-color: #d4ebff;}#sk-container-id-1 input.sk-hidden--visually {border: 0;clip: rect(1px 1px 1px 1px);clip: rect(1px, 1px, 1px, 1px);height: 1px;margin: -1px;overflow: hidden;padding: 0;position: absolute;width: 1px;}#sk-container-id-1 div.sk-estimator {font-family: monospace;background-color: #f0f8ff;border: 1px dotted black;border-radius: 0.25em;box-sizing: border-box;margin-bottom: 0.5em;}#sk-container-id-1 div.sk-estimator:hover {background-color: #d4ebff;}#sk-container-id-1 div.sk-parallel-item::after {content: \"\";width: 100%;border-bottom: 1px solid gray;flex-grow: 1;}#sk-container-id-1 div.sk-label:hover label.sk-toggleable__label {background-color: #d4ebff;}#sk-container-id-1 div.sk-serial::before {content: \"\";position: absolute;border-left: 1px solid gray;box-sizing: border-box;top: 0;bottom: 0;left: 50%;z-index: 0;}#sk-container-id-1 div.sk-serial {display: flex;flex-direction: column;align-items: center;background-color: white;padding-right: 0.2em;padding-left: 0.2em;position: relative;}#sk-container-id-1 div.sk-item {position: relative;z-index: 1;}#sk-container-id-1 div.sk-parallel {display: flex;align-items: stretch;justify-content: center;background-color: white;position: relative;}#sk-container-id-1 div.sk-item::before, #sk-container-id-1 div.sk-parallel-item::before {content: \"\";position: absolute;border-left: 1px solid gray;box-sizing: border-box;top: 0;bottom: 0;left: 50%;z-index: -1;}#sk-container-id-1 div.sk-parallel-item {display: flex;flex-direction: column;z-index: 1;position: relative;background-color: white;}#sk-container-id-1 div.sk-parallel-item:first-child::after {align-self: flex-end;width: 50%;}#sk-container-id-1 div.sk-parallel-item:last-child::after {align-self: flex-start;width: 50%;}#sk-container-id-1 div.sk-parallel-item:only-child::after {width: 0;}#sk-container-id-1 div.sk-dashed-wrapped {border: 1px dashed gray;margin: 0 0.4em 0.5em 0.4em;box-sizing: border-box;padding-bottom: 0.4em;background-color: white;}#sk-container-id-1 div.sk-label label {font-family: monospace;font-weight: bold;display: inline-block;line-height: 1.2em;}#sk-container-id-1 div.sk-label-container {text-align: center;}#sk-container-id-1 div.sk-container {/* jupyter's `normalize.less` sets `[hidden] { display: none; }` but bootstrap.min.css set `[hidden] { display: none !important; }` so we also need the `!important` here to be able to override the default hidden behavior on the sphinx rendered scikit-learn.org. See: https://github.com/scikit-learn/scikit-learn/issues/21755 */display: inline-block !important;position: relative;}#sk-container-id-1 div.sk-text-repr-fallback {display: none;}</style><div id=\"sk-container-id-1\" class=\"sk-top-container\"><div class=\"sk-text-repr-fallback\"><pre>RandomForestClassifier()</pre><b>In a Jupyter environment, please rerun this cell to show the HTML representation or trust the notebook. <br />On GitHub, the HTML representation is unable to render, please try loading this page with nbviewer.org.</b></div><div class=\"sk-container\" hidden><div class=\"sk-item\"><div class=\"sk-estimator sk-toggleable\"><input class=\"sk-toggleable__control sk-hidden--visually\" id=\"sk-estimator-id-1\" type=\"checkbox\" checked><label for=\"sk-estimator-id-1\" class=\"sk-toggleable__label sk-toggleable__label-arrow\">RandomForestClassifier</label><div class=\"sk-toggleable__content\"><pre>RandomForestClassifier()</pre></div></div></div></div></div>"
      ],
      "text/plain": [
       "RandomForestClassifier()"
      ]
     },
     "execution_count": 8,
     "metadata": {},
     "output_type": "execute_result"
    }
   ],
   "source": [
    "#Make the classifier\n",
    "model_rf_fin = RandomForestClassifier(n_estimators=100)\n",
    "#                                       criterion='entropy',\n",
    "#                                       max_depth=10,\n",
    "#                                       max_features=None)\n",
    "#                                       min_samples_leaf=2,\n",
    "#                                       min_samples_split=12)\n",
    "#                                       n_estimators=240)\n",
    "model_rf_fin.fit(X_train,y_train)\n"
   ]
  },
  {
   "cell_type": "code",
   "execution_count": 9,
   "id": "7182e6a8-ceec-4d2c-b3da-20ad4565c4d1",
   "metadata": {},
   "outputs": [
    {
     "name": "stdout",
     "output_type": "stream",
     "text": [
      "AUC Score =0.9883\n"
     ]
    }
   ],
   "source": [
    "print('AUC Score ={:.4f}'.format(metrics.f1_score(y_train,model_rf_fin.predict(X_train))))"
   ]
  },
  {
   "cell_type": "code",
   "execution_count": 10,
   "id": "65150a7e-fd5f-49fb-81ac-24cab7415a1c",
   "metadata": {},
   "outputs": [],
   "source": [
    "# Make test set\n",
    "\n",
    "X_test_1 = np.concatenate((X_test_lsbg,X_test_art)) \n",
    "y_test = np.concatenate((y_test_lsbg,y_test_art))\n",
    "\n",
    "X_test = scaler.transform(X_test_1)\n",
    "\n",
    "y_pred = model_rf_fin.predict(X_test)"
   ]
  },
  {
   "cell_type": "code",
   "execution_count": 11,
   "id": "8ddf2fbb",
   "metadata": {},
   "outputs": [],
   "source": [
    "#Make some binzzz\n",
    "# 24 < mu_g < 25\n",
    "\n",
    "sel = (X_test_1[:,16] >= 24.0) & (X_test_1[:,16] < 25.0)\n",
    "X_test_bin1 = X_test[sel]\n",
    "y_test_bin1 = y_test[sel]\n",
    "y_pred_bin1 = y_pred[sel]\n",
    "\n",
    "# 25 < mu_g < 26\n",
    "sel = (X_test_1[:,16] >= 25.0) & (X_test_1[:,16] < 26.0)\n",
    "X_test_bin2 = X_test[sel]\n",
    "y_test_bin2 = y_test[sel]\n",
    "y_pred_bin2 = y_pred[sel]\n",
    "\n",
    "# 26 < mu_g < 27\n",
    "sel = (X_test_1[:,16] >= 26.0) & (X_test_1[:,16] <= 27.0)\n",
    "X_test_bin3 = X_test[sel]\n",
    "y_test_bin3 = y_test[sel]\n",
    "y_pred_bin3 = y_pred[sel]\n"
   ]
  },
  {
   "cell_type": "markdown",
   "id": "5145d7b1",
   "metadata": {},
   "source": [
    "### BIN1: 24. < mu_g < 25"
   ]
  },
  {
   "cell_type": "code",
   "execution_count": 12,
   "id": "d72e3150-50f0-4d61-9111-82d7d469a7f4",
   "metadata": {},
   "outputs": [
    {
     "name": "stdout",
     "output_type": "stream",
     "text": [
      "  TN      FN     TP     FP\n",
      "[1372.  221. 5620.  549.]\n"
     ]
    }
   ],
   "source": [
    "rate_bin1_1 = rates(y_test_bin1,y_pred_bin1)\n",
    "print(\"  TN      FN     TP     FP\")\n",
    "print(rate_bin1_1)\n"
   ]
  },
  {
   "cell_type": "code",
   "execution_count": 13,
   "id": "d6a8ac6c",
   "metadata": {},
   "outputs": [
    {
     "name": "stdout",
     "output_type": "stream",
     "text": [
      "true positive rate: 0.9621640130114706\n",
      "true negative rate: 0.7142113482561167\n",
      "positive predictive value: 0.9110066461338953\n",
      "negative predictive value: 0.8612680477087257\n",
      "false positive rate: 0.2857886517438834\n",
      "false negative rate: 0.037835986988529365\n",
      "false discovery rate: 0.08899335386610471\n",
      "Overall accuracy: 0.9007987632053595\n"
     ]
    }
   ],
   "source": [
    "TN = rate_bin1_1[0]\n",
    "FN = rate_bin1_1[1]\n",
    "TP = rate_bin1_1[2]\n",
    "FP = rate_bin1_1[3]\n",
    "\n",
    "# Sensitivity, hit rate, recall, or true positive rate\n",
    "TPR_bin1_1 = TP/(TP+FN)\n",
    "print(\"true positive rate:\",TPR_bin1_1)\n",
    "# Specificity or true negative rate\n",
    "TNR_bin1_1 = TN/(TN+FP) \n",
    "print(\"true negative rate:\",TNR_bin1_1)\n",
    "# Precision or positive predictive value\n",
    "PPV_bin1_1 = TP/(TP+FP)\n",
    "print(\"positive predictive value:\",PPV_bin1_1)\n",
    "# Negative predictive value\n",
    "NPV_bin1_1 = TN/(TN+FN)\n",
    "print(\"negative predictive value:\",NPV_bin1_1)\n",
    "# Fall out or false positive rate\n",
    "FPR_bin1_1 = FP/(FP+TN)\n",
    "print(\"false positive rate:\",FPR_bin1_1)\n",
    "# False negative rate\n",
    "FNR_bin1_1 = FN/(TP+FN)\n",
    "print(\"false negative rate:\",FNR_bin1_1)\n",
    "# False discovery rate\n",
    "FDR_bin1_1 = FP/(TP+FP)\n",
    "print(\"false discovery rate:\",FDR_bin1_1)\n",
    "\n",
    "# Overall accuracy\n",
    "ACC_bin1_1 = (TP+TN)/(TP+FP+FN+TN)\n",
    "print(\"Overall accuracy:\",ACC_bin1_1)"
   ]
  },
  {
   "cell_type": "code",
   "execution_count": null,
   "id": "a207c09b",
   "metadata": {},
   "outputs": [],
   "source": []
  },
  {
   "cell_type": "markdown",
   "id": "4bbe8cc5-8da0-423d-9793-aa26862c8a08",
   "metadata": {},
   "source": [
    "### BIN2: 25. <= mu_g<= 26"
   ]
  },
  {
   "cell_type": "code",
   "execution_count": 14,
   "id": "8c25c88c-3df9-4383-a5bb-0d4527d1ae75",
   "metadata": {},
   "outputs": [
    {
     "name": "stdout",
     "output_type": "stream",
     "text": [
      "  TN      FN     TP     FP\n",
      "[2236.  153. 2626.  282.]\n"
     ]
    }
   ],
   "source": [
    "rate_bin2 = rates(y_test_bin2,y_pred_bin2)\n",
    "\n",
    "print(\"  TN      FN     TP     FP\")\n",
    "print(rate_bin2)\n"
   ]
  },
  {
   "cell_type": "code",
   "execution_count": 15,
   "id": "2548a8ae-dbbe-4dbc-918a-5d4579189c93",
   "metadata": {},
   "outputs": [
    {
     "name": "stdout",
     "output_type": "stream",
     "text": [
      "true positive rate: 0.9449442245412019\n",
      "true negative rate: 0.8880063542494043\n",
      "positive predictive value: 0.9030261348005502\n",
      "negative predictive value: 0.9359564671410632\n",
      "false positive rate: 0.11199364575059571\n",
      "false negative rate: 0.055055775458798126\n",
      "false discovery rate: 0.0969738651994498\n",
      "Overall accuracy: 0.9178780441759486\n"
     ]
    }
   ],
   "source": [
    "TN = rate_bin2[0]\n",
    "FN = rate_bin2[1]\n",
    "TP = rate_bin2[2]\n",
    "FP = rate_bin2[3]\n",
    "\n",
    "# Sensitivity, hit rate, recall, or true positive rate\n",
    "TPR_bin2_1 = TP/(TP+FN)\n",
    "print(\"true positive rate:\",TPR_bin2_1)\n",
    "# Specificity or true negative rate\n",
    "TNR_bin2_1 = TN/(TN+FP) \n",
    "print(\"true negative rate:\",TNR_bin2_1)\n",
    "# Precision or positive predictive value\n",
    "PPV_bin2_1 = TP/(TP+FP)\n",
    "print(\"positive predictive value:\",PPV_bin2_1)\n",
    "# Negative predictive value\n",
    "NPV_bin2_1 = TN/(TN+FN)\n",
    "print(\"negative predictive value:\",NPV_bin2_1)\n",
    "# Fall out or false positive rate\n",
    "FPR_bin2_1 = FP/(FP+TN)\n",
    "print(\"false positive rate:\",FPR_bin2_1)\n",
    "# False negative rate\n",
    "FNR_bin2_1 = FN/(TP+FN)\n",
    "print(\"false negative rate:\",FNR_bin2_1)\n",
    "# False discovery rate\n",
    "FDR_bin2_1 = FP/(TP+FP)\n",
    "print(\"false discovery rate:\",FDR_bin2_1)\n",
    "\n",
    "# Overall accuracy\n",
    "ACC_bin2_1 = (TP+TN)/(TP+FP+FN+TN)\n",
    "print(\"Overall accuracy:\",ACC_bin2_1)"
   ]
  },
  {
   "cell_type": "markdown",
   "id": "1f0ecbb3-d3a0-4b55-bdab-53b98a7c54bd",
   "metadata": {},
   "source": [
    "### BIN3: 26. <= mu_g<= 27"
   ]
  },
  {
   "cell_type": "code",
   "execution_count": 16,
   "id": "78ed69d5-1728-490d-b71f-1738481dea56",
   "metadata": {},
   "outputs": [
    {
     "name": "stdout",
     "output_type": "stream",
     "text": [
      "  TN      FN     TP     FP\n",
      "[4628.  126.  386.   83.]\n"
     ]
    }
   ],
   "source": [
    "rate_bin3 = rates(y_test_bin3,y_pred_bin3)\n",
    "\n",
    "print(\"  TN      FN     TP     FP\")\n",
    "print(rate_bin3)\n"
   ]
  },
  {
   "cell_type": "code",
   "execution_count": 17,
   "id": "8e6b3c66-3514-46a5-a241-5ee15ecadbdd",
   "metadata": {},
   "outputs": [
    {
     "name": "stdout",
     "output_type": "stream",
     "text": [
      "true positive rate: 0.75390625\n",
      "true negative rate: 0.98238165994481\n",
      "positive predictive value: 0.8230277185501066\n",
      "negative predictive value: 0.9734960033655868\n",
      "false positive rate: 0.01761834005518998\n",
      "false negative rate: 0.24609375\n",
      "false discovery rate: 0.17697228144989338\n",
      "Overall accuracy: 0.9599846831322995\n"
     ]
    }
   ],
   "source": [
    "TN = rate_bin3[0]\n",
    "FN = rate_bin3[1]\n",
    "TP = rate_bin3[2]\n",
    "FP = rate_bin3[3]\n",
    "\n",
    "# Sensitivity, hit rate, recall, or true positive rate\n",
    "TPR_bin3_1 = TP/(TP+FN)\n",
    "print(\"true positive rate:\",TPR_bin3_1)\n",
    "# Specificity or true negative rate\n",
    "TNR_bin3_1 = TN/(TN+FP) \n",
    "print(\"true negative rate:\",TNR_bin3_1)\n",
    "# Precision or positive predictive value\n",
    "PPV_bin3_1 = TP/(TP+FP)\n",
    "print(\"positive predictive value:\",PPV_bin3_1)\n",
    "# Negative predictive value\n",
    "NPV_bin3_1 = TN/(TN+FN)\n",
    "print(\"negative predictive value:\",NPV_bin3_1)\n",
    "# Fall out or false positive rate\n",
    "FPR_bin3_1 = FP/(FP+TN)\n",
    "print(\"false positive rate:\",FPR_bin3_1)\n",
    "# False negative rate\n",
    "FNR_bin3_1 = FN/(TP+FN)\n",
    "print(\"false negative rate:\",FNR_bin3_1)\n",
    "# False discovery rate\n",
    "FDR_bin3_1 = FP/(TP+FP)\n",
    "print(\"false discovery rate:\",FDR_bin3_1)\n",
    "\n",
    "# Overall accuracy\n",
    "ACC_bin3_1 = (TP+TN)/(TP+FP+FN+TN)\n",
    "print(\"Overall accuracy:\",ACC_bin3_1)"
   ]
  },
  {
   "cell_type": "code",
   "execution_count": 18,
   "id": "e5a1ba61-6643-4ffa-a630-df756bca956d",
   "metadata": {},
   "outputs": [
    {
     "name": "stdout",
     "output_type": "stream",
     "text": [
      "9132.0\n"
     ]
    }
   ],
   "source": [
    "print(rate_bin1_1[1]+rate_bin1_1[2]+rate_bin2[1]+rate_bin2[2]+rate_bin3[1]+rate_bin3[2])"
   ]
  },
  {
   "cell_type": "code",
   "execution_count": 19,
   "id": "023fbc56",
   "metadata": {},
   "outputs": [
    {
     "data": {
      "text/plain": [
       "-5.551115123125783e-17"
      ]
     },
     "execution_count": 19,
     "metadata": {},
     "output_type": "execute_result"
    }
   ],
   "source": [
    "1-TNR_bin1_1 - FPR_bin1_1"
   ]
  },
  {
   "cell_type": "code",
   "execution_count": 20,
   "id": "9a48ae1c",
   "metadata": {},
   "outputs": [
    {
     "data": {
      "text/plain": [
       "-4.163336342344337e-17"
      ]
     },
     "execution_count": 20,
     "metadata": {},
     "output_type": "execute_result"
    }
   ],
   "source": [
    "(1-TNR_bin2_1) - FPR_bin2_1"
   ]
  },
  {
   "cell_type": "code",
   "execution_count": 21,
   "id": "c457421f",
   "metadata": {},
   "outputs": [
    {
     "data": {
      "text/plain": [
       "4.85722573273506e-17"
      ]
     },
     "execution_count": 21,
     "metadata": {},
     "output_type": "execute_result"
    }
   ],
   "source": [
    "(1-TNR_bin3_1) - FPR_bin3_1"
   ]
  },
  {
   "cell_type": "code",
   "execution_count": 22,
   "id": "f67b6579",
   "metadata": {},
   "outputs": [
    {
     "name": "stdout",
     "output_type": "stream",
     "text": [
      "Stored 'tpr_bin0_100k' (float64)\n",
      "Stored 'tpr_bin1_100k' (float64)\n",
      "Stored 'tpr_bin2_100k' (float64)\n",
      "Stored 'tnr_bin0_100k' (float64)\n",
      "Stored 'tnr_bin1_100k' (float64)\n",
      "Stored 'tnr_bin2_100k' (float64)\n",
      "Stored 'fpr_bin0_100k' (float64)\n",
      "Stored 'fpr_bin1_100k' (float64)\n",
      "Stored 'fpr_bin2_100k' (float64)\n"
     ]
    }
   ],
   "source": [
    "tpr_bin0_100k = TPR_bin1_1\n",
    "tpr_bin1_100k = TPR_bin2_1\n",
    "tpr_bin2_100k = TPR_bin3_1\n",
    "tnr_bin0_100k = TNR_bin1_1\n",
    "tnr_bin1_100k = TNR_bin2_1\n",
    "tnr_bin2_100k = TNR_bin3_1\n",
    "fpr_bin0_100k = FPR_bin1_1\n",
    "fpr_bin1_100k = FPR_bin2_1\n",
    "fpr_bin2_100k = FPR_bin3_1\n",
    "%store tpr_bin0_100k tpr_bin1_100k tpr_bin2_100k\n",
    "%store tnr_bin0_100k tnr_bin1_100k tnr_bin2_100k\n",
    "%store fpr_bin0_100k fpr_bin1_100k fpr_bin2_100k"
   ]
  },
  {
   "cell_type": "code",
   "execution_count": null,
   "id": "f7466ce3",
   "metadata": {},
   "outputs": [],
   "source": []
  }
 ],
 "metadata": {
  "kernelspec": {
   "display_name": "Python 3 (ipykernel)",
   "language": "python",
   "name": "python3"
  },
  "language_info": {
   "codemirror_mode": {
    "name": "ipython",
    "version": 3
   },
   "file_extension": ".py",
   "mimetype": "text/x-python",
   "name": "python",
   "nbconvert_exporter": "python",
   "pygments_lexer": "ipython3",
   "version": "3.10.5"
  }
 },
 "nbformat": 4,
 "nbformat_minor": 5
}
