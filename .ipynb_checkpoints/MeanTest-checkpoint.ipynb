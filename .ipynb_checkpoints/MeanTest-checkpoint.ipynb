{
 "cells": [
  {
   "cell_type": "code",
   "execution_count": 24,
   "id": "16fc1d93",
   "metadata": {},
   "outputs": [],
   "source": [
    "# Import basic packages\n",
    "import numpy as np\n",
    "import scipy as sp\n",
    "import pandas as pd\n",
    "import fitsio as ft\n",
    "\n",
    "\n",
    "# ==== Scikit-learn =======================\n",
    "# Preprocessing\n",
    "from sklearn.preprocessing import StandardScaler #Standar scaler for standardization\n",
    "from sklearn.preprocessing import RobustScaler #Robust scaler for standardization \n",
    "from sklearn.model_selection import train_test_split # For random split\n",
    "\n",
    "# Classifiers\n",
    "from sklearn.svm import SVC\n",
    "from sklearn.ensemble import RandomForestClassifier\n",
    "\n",
    "# Metrics\n",
    "from sklearn.metrics import balanced_accuracy_score\n",
    "from sklearn.metrics import precision_score\n",
    "from sklearn.metrics import recall_score\n",
    "\n",
    "from sklearn.ensemble import RandomForestClassifier\n",
    "from sklearn.model_selection import RandomizedSearchCV, GridSearchCV\n",
    "from sklearn import metrics\n",
    "from sklearn.ensemble import RandomForestRegressor\n",
    "from pprint import pprint\n",
    "\n",
    "# ==========================================\n",
    "# Matplotlib, urlib etc \n",
    "import urllib\n",
    "import urllib.request\n",
    "import matplotlib\n",
    "import matplotlib.pyplot as plt\n",
    "from IPython.display import clear_output, display\n",
    "from PIL import Image\n",
    "%matplotlib inline"
   ]
  },
  {
   "cell_type": "code",
   "execution_count": 25,
   "id": "43d6e872",
   "metadata": {},
   "outputs": [],
   "source": [
    "data_in = ft.read('/data/des80.b/data/burcinmp/y6_lsbg/y6/v2/y6_gold_2_0_lsb_skim.fits')"
   ]
  },
  {
   "cell_type": "code",
   "execution_count": 26,
   "id": "7ce06014",
   "metadata": {},
   "outputs": [],
   "source": [
    "coadd_ids_in = data_in['COADD_OBJECT_ID']\n",
    "ras_in = data_in['RA']\n",
    "decs_in = data_in['DEC']\n",
    "A_IMAGE_in = data_in['A_IMAGE']\n",
    "B_IMAGE_in = data_in['B_IMAGE']\n",
    "MAG_AUTO_G_in = data_in['MAG_AUTO_G']\n",
    "FLUX_RADIUS_G_in = 0.263*data_in['FLUX_RADIUS_G']\n",
    "MU_EFF_MODEL_G_in = data_in['MU_EFF_MODEL_G']\n",
    "MU_MAX_G_in = data_in['MU_MAX_G']\n",
    "MU_MAX_MODEL_G_in = data_in['MU_MAX_MODEL_G']\n",
    "MU_MEAN_MODEL_G_in = data_in['MU_MEAN_MODEL_G']\n",
    "MAG_AUTO_R_in = data_in['MAG_AUTO_R']\n",
    "FLUX_RADIUS_R_in = 0.263*data_in['FLUX_RADIUS_R']\n",
    "MU_EFF_MODEL_R_in = data_in['MU_EFF_MODEL_R']\n",
    "MU_MAX_R_in = data_in['MU_MAX_R']\n",
    "MU_MAX_MODEL_R_in = data_in['MU_MAX_MODEL_R']\n",
    "MU_MEAN_MODEL_R_in = data_in['MU_MEAN_MODEL_R']\n",
    "MAG_AUTO_I_in = data_in['MAG_AUTO_I']\n",
    "FLUX_RADIUS_I_in = 0.263*data_in['FLUX_RADIUS_I']\n",
    "MU_EFF_MODEL_I_in = data_in['MU_EFF_MODEL_I']\n",
    "MU_MAX_I_in = data_in['MU_MAX_I']\n",
    "MU_MAX_MODEL_I_in = data_in['MU_MAX_MODEL_I']\n",
    "MU_MEAN_MODEL_I_in = data_in['MU_MEAN_MODEL_I']\n",
    "\n",
    "# =========== Create extra features ============\n",
    "# Ellipticity\n",
    "Ell_in = 1. - B_IMAGE_in/A_IMAGE_in\n",
    "\n",
    "# Colors\n",
    "col_g_r_in = MAG_AUTO_G_in - MAG_AUTO_R_in\n",
    "col_g_i_in = MAG_AUTO_G_in - MAG_AUTO_I_in\n",
    "col_r_i_in = MAG_AUTO_R_in - MAG_AUTO_I_in\n",
    "\n",
    "# ==============================================\n",
    "# ==============================================\n",
    "# ========= Create the feature matrix ==========\n",
    "\n",
    "# Length of matrix\n",
    "len_n = len(ras_in)\n",
    "\n",
    "# Initialize\n",
    "X_mat_in = np.zeros([len_n,19])\n",
    "\n",
    "# Populate\n",
    "# Ellipticity \n",
    "X_mat_in[:,0] = Ell_in\n",
    "# Colors\n",
    "X_mat_in[:,1] = col_g_i_in\n",
    "X_mat_in[:,2] = col_g_r_in;\n",
    "X_mat_in[:,3] = col_r_i_in\n",
    "# Magnitudes\n",
    "X_mat_in[:,4] = MAG_AUTO_G_in\n",
    "X_mat_in[:,5] = MAG_AUTO_R_in\n",
    "X_mat_in[:,6] = MAG_AUTO_I_in\n",
    "# Flux radii\n",
    "X_mat_in[:,7] = FLUX_RADIUS_G_in\n",
    "X_mat_in[:,8] = FLUX_RADIUS_R_in\n",
    "X_mat_in[:,9] = FLUX_RADIUS_I_in\n",
    "# Peak (max) surface brightness\n",
    "X_mat_in[:,10] = MU_MAX_MODEL_G_in\n",
    "X_mat_in[:,11] = MU_MAX_MODEL_R_in\n",
    "X_mat_in[:,12] = MU_MAX_MODEL_I_in\n",
    "# Effective surface brightness\n",
    "X_mat_in[:,13] = MU_EFF_MODEL_G_in\n",
    "X_mat_in[:,14] = MU_EFF_MODEL_R_in\n",
    "X_mat_in[:,15] = MU_EFF_MODEL_I_in\n",
    "# Mean surface brightness \n",
    "X_mat_in[:,16] = MU_MEAN_MODEL_G_in\n",
    "X_mat_in[:,17] = MU_MEAN_MODEL_R_in\n",
    "X_mat_in[:,18] = MU_MEAN_MODEL_I_in"
   ]
  },
  {
   "cell_type": "code",
   "execution_count": 27,
   "id": "28d9837e",
   "metadata": {},
   "outputs": [],
   "source": [
    "test_scaler = RobustScaler().fit(X_mat_in)"
   ]
  },
  {
   "cell_type": "code",
   "execution_count": 28,
   "id": "86aa5772",
   "metadata": {},
   "outputs": [
    {
     "name": "stdout",
     "output_type": "stream",
     "text": [
      "[ 0.32159781  0.71307087  0.5091362   0.20647621 22.76064396 22.29974747\n",
      " 22.11220074  3.00220549  2.786533    2.49099267 26.36533546 25.83893013\n",
      " 24.49539566 28.17219734 27.6464653  26.37687016 27.47080421 26.94398689\n",
      " 25.61118793]\n"
     ]
    }
   ],
   "source": [
    "print(test_scaler.center_)"
   ]
  },
  {
   "cell_type": "code",
   "execution_count": 31,
   "id": "c25fec9e",
   "metadata": {},
   "outputs": [],
   "source": [
    "train_scaler = RobustScaler().fit(\n",
    "    np.load('/data/des80.b/data/burcinmp/y6_lsbg/y6/test_classifier/random_forest/v3/X_mat_v4_a.npy'))"
   ]
  },
  {
   "cell_type": "code",
   "execution_count": 32,
   "id": "966a4dbd",
   "metadata": {},
   "outputs": [
    {
     "name": "stdout",
     "output_type": "stream",
     "text": [
      "[ 0.28029627  0.64396763  0.46206188  0.17678165 20.99273777 20.50767231\n",
      " 20.34498978  3.13135135  3.00662017  2.84970486 24.44901371 23.72632027\n",
      " 23.19342422 26.24743557 25.52617645 24.99985886 25.54815578 24.82653236\n",
      " 24.29635048]\n"
     ]
    }
   ],
   "source": [
    "print(train_scaler.center_)"
   ]
  },
  {
   "cell_type": "code",
   "execution_count": 33,
   "id": "8d0a8385",
   "metadata": {},
   "outputs": [
    {
     "data": {
      "text/plain": [
       "array([-0.04130155, -0.06910324, -0.04707432, -0.02969456, -1.76790619,\n",
       "       -1.79207516, -1.76721096,  0.12914586,  0.22008717,  0.3587122 ,\n",
       "       -1.91632175, -2.11260986, -1.30197144, -1.92476177, -2.12028885,\n",
       "       -1.3770113 , -1.92264843, -2.11745453, -1.31483746])"
      ]
     },
     "execution_count": 33,
     "metadata": {},
     "output_type": "execute_result"
    }
   ],
   "source": [
    "train_scaler.center_ - test_scaler.center_"
   ]
  },
  {
   "cell_type": "code",
   "execution_count": 34,
   "id": "9460c2d7",
   "metadata": {},
   "outputs": [
    {
     "name": "stdout",
     "output_type": "stream",
     "text": [
      "[0.23037366 0.45369148 0.31929541 0.18628502 2.44769526 2.46362448\n",
      " 2.44898224 1.21065611 1.24490525 1.25156087 2.71634579 2.76666355\n",
      " 1.95962429 2.72252941 2.77207041 1.99851084 2.71927881 2.77047539\n",
      " 1.96399593]\n"
     ]
    }
   ],
   "source": [
    "print(train_scaler.scale_)"
   ]
  },
  {
   "cell_type": "code",
   "execution_count": 35,
   "id": "eaaefde4",
   "metadata": {},
   "outputs": [
    {
     "name": "stdout",
     "output_type": "stream",
     "text": [
      "[0.22805385 0.61607695 0.4174118  0.31510305 1.16271782 1.17871952\n",
      " 1.22099066 0.84373379 0.97567743 1.20645282 1.10467625 1.91025496\n",
      " 3.3534503  1.10384703 1.90816021 3.35874367 1.10740614 1.91773319\n",
      " 3.35442305]\n"
     ]
    }
   ],
   "source": [
    "print(test_scaler.scale_)"
   ]
  },
  {
   "cell_type": "code",
   "execution_count": 37,
   "id": "39cd5e96",
   "metadata": {},
   "outputs": [
    {
     "data": {
      "text/plain": [
       "array([ 0.00231981, -0.16238546, -0.0981164 , -0.12881804,  1.28497744,\n",
       "        1.28490496,  1.22799158,  0.36692232,  0.26922781,  0.04510805,\n",
       "        1.61166954,  0.8564086 , -1.39382601,  1.61868238,  0.8639102 ,\n",
       "       -1.36023283,  1.61187267,  0.8527422 , -1.39042711])"
      ]
     },
     "execution_count": 37,
     "metadata": {},
     "output_type": "execute_result"
    }
   ],
   "source": [
    "train_scaler.scale_ - test_scaler.scale_"
   ]
  },
  {
   "cell_type": "code",
   "execution_count": 40,
   "id": "388ac19e",
   "metadata": {},
   "outputs": [],
   "source": [
    "combo = np.concatenate((X_mat_in, \n",
    "                        np.load('/data/des80.b/data/burcinmp/y6_lsbg/y6/test_classifier/random_forest/v3/X_mat_v4_a.npy')))\n",
    "combine_scaler = RobustScaler().fit(combo)"
   ]
  },
  {
   "cell_type": "code",
   "execution_count": 46,
   "id": "f6657ac9",
   "metadata": {},
   "outputs": [
    {
     "data": {
      "text/plain": [
       "array([ 0.04023898,  0.06664276,  0.04554749,  0.02825642,  1.75237846,\n",
       "        1.77672672,  1.75143719, -0.12631381, -0.21454036, -0.34728527,\n",
       "        1.90329075,  2.09478951,  1.23480606,  1.91186047,  2.10260773,\n",
       "        1.30856419,  1.90974426,  2.09972954,  1.24682808])"
      ]
     },
     "execution_count": 46,
     "metadata": {},
     "output_type": "execute_result"
    }
   ],
   "source": [
    "combine_scaler.center_ - train_scaler.center_"
   ]
  },
  {
   "cell_type": "code",
   "execution_count": 43,
   "id": "4a15fa8b",
   "metadata": {},
   "outputs": [],
   "source": [
    "np.save('/data/des81.a/data/kherron/LSBG/Default_Robust/X_eval_feat.npy', X_mat_in)"
   ]
  },
  {
   "cell_type": "code",
   "execution_count": null,
   "id": "5ba431f7",
   "metadata": {},
   "outputs": [],
   "source": []
  }
 ],
 "metadata": {
  "kernelspec": {
   "display_name": "Python 3 (ipykernel)",
   "language": "python",
   "name": "python3"
  },
  "language_info": {
   "codemirror_mode": {
    "name": "ipython",
    "version": 3
   },
   "file_extension": ".py",
   "mimetype": "text/x-python",
   "name": "python",
   "nbconvert_exporter": "python",
   "pygments_lexer": "ipython3",
   "version": "3.10.5"
  }
 },
 "nbformat": 4,
 "nbformat_minor": 5
}
