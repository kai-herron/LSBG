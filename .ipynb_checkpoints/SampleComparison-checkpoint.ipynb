{
 "cells": [
  {
   "cell_type": "code",
   "execution_count": 1,
   "id": "23900fde",
   "metadata": {},
   "outputs": [],
   "source": [
    "# Import basic packages\n",
    "import numpy as np\n",
    "import scipy as sp\n",
    "import pandas as pd\n",
    "from astropy.io import fits\n",
    "import fitsio as ft\n",
    "import os\n",
    "\n",
    "# ==========================================\n",
    "# Matplotlib, urlib etc \n",
    "import urllib\n",
    "import urllib.request\n",
    "import matplotlib\n",
    "import matplotlib.pyplot as plt\n",
    "from IPython.display import clear_output, display\n",
    "from PIL import Image\n",
    "%matplotlib inline"
   ]
  },
  {
   "cell_type": "code",
   "execution_count": 2,
   "id": "c1a0ffa2",
   "metadata": {},
   "outputs": [],
   "source": [
    "default = np.load('/data/des81.a/data/kherron/LSBG/DefaultResults/y6_lsbg_Default.npy')\n",
    "v3 = np.load('/data/des81.a/data/kherron/LSBG/V3/y6_lsbg_v3.npy')\n",
    "v4 = np.load('/data/des81.a/data/kherron/LSBG/V4/y6_lsbg_v4.npy')"
   ]
  },
  {
   "cell_type": "code",
   "execution_count": 3,
   "id": "e911f378",
   "metadata": {},
   "outputs": [],
   "source": [
    "sel0 = np.isin(default,v3)\n",
    "sel1 = np.isin(v4,v3)\n",
    "sel2 = np.isin(default,v4)"
   ]
  },
  {
   "cell_type": "code",
   "execution_count": 4,
   "id": "7a093c79",
   "metadata": {},
   "outputs": [
    {
     "data": {
      "text/plain": [
       "54725"
      ]
     },
     "execution_count": 4,
     "metadata": {},
     "output_type": "execute_result"
    }
   ],
   "source": [
    "len(default[sel0])"
   ]
  },
  {
   "cell_type": "code",
   "execution_count": 5,
   "id": "2c1dc8fe",
   "metadata": {},
   "outputs": [
    {
     "data": {
      "text/plain": [
       "51124"
      ]
     },
     "execution_count": 5,
     "metadata": {},
     "output_type": "execute_result"
    }
   ],
   "source": [
    "len(v4[sel1])"
   ]
  },
  {
   "cell_type": "code",
   "execution_count": 6,
   "id": "3ae7a560",
   "metadata": {},
   "outputs": [
    {
     "data": {
      "text/plain": [
       "57862"
      ]
     },
     "execution_count": 6,
     "metadata": {},
     "output_type": "execute_result"
    }
   ],
   "source": [
    "len(default[sel2])"
   ]
  },
  {
   "cell_type": "code",
   "execution_count": 7,
   "id": "3932623e",
   "metadata": {},
   "outputs": [
    {
     "data": {
      "text/plain": [
       "74"
      ]
     },
     "execution_count": 7,
     "metadata": {},
     "output_type": "execute_result"
    }
   ],
   "source": [
    "len(v3)-54725"
   ]
  },
  {
   "cell_type": "code",
   "execution_count": 8,
   "id": "732577df",
   "metadata": {},
   "outputs": [
    {
     "data": {
      "text/plain": [
       "3675"
      ]
     },
     "execution_count": 8,
     "metadata": {},
     "output_type": "execute_result"
    }
   ],
   "source": [
    "len(v3) - 51124"
   ]
  },
  {
   "cell_type": "code",
   "execution_count": 9,
   "id": "55c072e7",
   "metadata": {},
   "outputs": [
    {
     "data": {
      "text/plain": [
       "715"
      ]
     },
     "execution_count": 9,
     "metadata": {},
     "output_type": "execute_result"
    }
   ],
   "source": [
    "len(v4)-57862"
   ]
  },
  {
   "cell_type": "code",
   "execution_count": 10,
   "id": "5b3d9659",
   "metadata": {},
   "outputs": [],
   "source": [
    "v3v4 = np.concatenate((v3,v4))"
   ]
  },
  {
   "cell_type": "code",
   "execution_count": 12,
   "id": "c9b0dab4",
   "metadata": {},
   "outputs": [
    {
     "data": {
      "text/plain": [
       "61511"
      ]
     },
     "execution_count": 12,
     "metadata": {},
     "output_type": "execute_result"
    }
   ],
   "source": [
    "len(default[np.isin(default,v3v4)])"
   ]
  },
  {
   "cell_type": "code",
   "execution_count": 13,
   "id": "1e6c6471",
   "metadata": {},
   "outputs": [],
   "source": [
    "defaultOnly = default[np.isin(default,v3v4)]"
   ]
  },
  {
   "cell_type": "code",
   "execution_count": 14,
   "id": "153d4470",
   "metadata": {},
   "outputs": [],
   "source": [
    "np.save(\"/data/des81.a/data/kherron/LSBG/defaultOnlyObs.npy\",defaultOnly)"
   ]
  },
  {
   "cell_type": "code",
   "execution_count": null,
   "id": "76d0d09a",
   "metadata": {},
   "outputs": [],
   "source": []
  }
 ],
 "metadata": {
  "kernelspec": {
   "display_name": "Python 3 (ipykernel)",
   "language": "python",
   "name": "python3"
  },
  "language_info": {
   "codemirror_mode": {
    "name": "ipython",
    "version": 3
   },
   "file_extension": ".py",
   "mimetype": "text/x-python",
   "name": "python",
   "nbconvert_exporter": "python",
   "pygments_lexer": "ipython3",
   "version": "3.10.5"
  }
 },
 "nbformat": 4,
 "nbformat_minor": 5
}
