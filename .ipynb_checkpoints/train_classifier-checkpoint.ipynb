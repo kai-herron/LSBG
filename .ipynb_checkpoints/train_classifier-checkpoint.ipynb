{
 "cells": [
  {
   "cell_type": "code",
   "execution_count": 1,
   "id": "875abfcd-1290-4137-87d9-8630a41463bb",
   "metadata": {},
   "outputs": [],
   "source": [
    "# Import basic packages\n",
    "import numpy as np\n",
    "import scipy as sp\n",
    "import pandas as pd\n",
    "from astropy.io import fits\n",
    "\n",
    "\n",
    "# ==== Scikit-learn =======================\n",
    "# Preprocessing\n",
    "from sklearn.preprocessing import StandardScaler #Standar scaler for standardization\n",
    "from sklearn.model_selection import train_test_split # For random split\n",
    "\n",
    "# Classifiers\n",
    "from sklearn.svm import SVC\n",
    "from sklearn.ensemble import RandomForestClassifier\n",
    "\n",
    "# Metrics\n",
    "from sklearn.metrics import balanced_accuracy_score\n",
    "from sklearn.metrics import precision_score\n",
    "from sklearn.metrics import recall_score\n",
    "\n",
    "# ==========================================\n",
    "# Matplotlib, urlib etc \n",
    "import urllib\n",
    "import urllib.request\n",
    "import matplotlib\n",
    "import matplotlib.pyplot as plt\n",
    "from IPython.display import clear_output, display\n",
    "from PIL import Image\n",
    "%matplotlib inline"
   ]
  },
  {
   "cell_type": "markdown",
   "id": "90e0c870-bb5b-4255-823c-eb82de58b6f6",
   "metadata": {},
   "source": [
    "### Import feature matrix and labels"
   ]
  },
  {
   "cell_type": "code",
   "execution_count": 4,
   "id": "fac9f39b-dcc4-4e49-8789-1e943dd5e34b",
   "metadata": {},
   "outputs": [
    {
     "name": "stdout",
     "output_type": "stream",
     "text": [
      "Number of visually inspected LSBGs:  1990\n",
      "Artifacts:  25753\n",
      "Y3 LSBGs:  20331\n",
      "Simulated LSBGs:  8154\n"
     ]
    }
   ],
   "source": [
    "burcin = np.load(\"/data/des81.a/data/kherron/LSBG/trainingfiles/training_new/X_mat_v4_a.npy\")\n",
    "burcin_l = np.load(\"/data/des81.a/data/kherron/LSBG/trainingfiles/training_new/y_lab_v4_a.npy\")\n",
    "\n",
    "print(\"Number of visually inspected LSBGs: \",len(y_lab_real[y_lab_real==1]))\n",
    "print(\"Artifacts: \",len(y_lab_real[y_lab_real==0]))"
   ]
  },
  {
   "cell_type": "markdown",
   "id": "18214109-d1c3-4fb7-9431-9b4a213c4158",
   "metadata": {},
   "source": [
    "### Look at the Feature Distributions of Real LSBGs+Artifact+Simulations"
   ]
  },
  {
   "cell_type": "code",
   "execution_count": 5,
   "id": "2d715ecb-1032-4af1-af13-db2d20d6ee17",
   "metadata": {},
   "outputs": [],
   "source": [
    "index_real=(y_lab_real==1)\n",
    "index_art=(y_lab_real==0)\n",
    "\n",
    "X_art = X_feat_real[index_art]\n",
    "X_lsbg = X_feat_real[index_real]\n",
    "\n",
    "y_art = y_lab_real[index_art]\n",
    "y_lsbg = y_lab_real[index_real]"
   ]
  },
  {
   "cell_type": "markdown",
   "id": "3f725172-8fb9-4397-a20f-6b4fda65c69d",
   "metadata": {},
   "source": [
    "### Split data set for training and testing"
   ]
  },
  {
   "cell_type": "code",
   "execution_count": 6,
   "id": "204f6a21-8ebb-45fa-a5e9-3b76c3c3e4c4",
   "metadata": {},
   "outputs": [
    {
     "name": "stdout",
     "output_type": "stream",
     "text": [
      "ARTIFACTS: 18027 7726\n",
      "Y3: 14231 6100\n",
      "LSBGs: 1393 597\n",
      "SIMs: 5707 2447\n"
     ]
    }
   ],
   "source": [
    "X_train_art, X_test_art, y_train_art, y_test_art = train_test_split(X_art, y_art,\n",
    "                                                                        train_size = 0.70, random_state = 42)\n",
    "X_train_lsbg, X_test_lsbg, y_train_lsbg, y_test_lsbg = train_test_split(X_lsbg, y_lsbg,\n",
    "                                                                        train_size = 0.70, random_state = 42)\n",
    "\n",
    "\n",
    "print(\"ARTIFACTS:\",len(X_train_art), len(X_test_art))\n",
    "print(\"LSBGs:\",len(X_train_lsbg), len(X_test_lsbg))"
   ]
  },
  {
   "cell_type": "code",
   "execution_count": 7,
   "id": "7ba605fe-1dd0-4acd-b565-b65e0e6a51df",
   "metadata": {},
   "outputs": [],
   "source": [
    "X_train = np.concatenate((X_train_art,X_train_lsbg,X_train_y3,X_train_sim))\n",
    "y_train = np.concatenate((y_train_art,y_train_lsbg,y_train_y3,y_train_sim))\n",
    "\n",
    "# Standardize the two sets\n",
    "scaler = StandardScaler().fit(X_train)\n",
    "X_train = scaler.transform(X_train)"
   ]
  },
  {
   "cell_type": "code",
   "execution_count": 8,
   "id": "22f533ce-8273-42a8-b399-9dbb6850c3f6",
   "metadata": {},
   "outputs": [
    {
     "data": {
      "text/plain": [
       "(22.0, 35.0)"
      ]
     },
     "execution_count": 8,
     "metadata": {},
     "output_type": "execute_result"
    },
    {
     "data": {
      "image/png": "[encoded data removed]",
      "text/plain": [
       "<Figure size 432x288 with 1 Axes>"
      ]
     },
     "metadata": {
      "needs_background": "light"
     },
     "output_type": "display_data"
    }
   ],
   "source": [
    "plt.hist(X_train_art[:,13], alpha=0.5,density=True,label='Artifact')\n",
    "plt.hist(X_train_y3[:,13], alpha=0.5,density=True,label='Y3')\n",
    "plt.hist(X_train_sim[:,13], alpha=0.5,density=True,label='Sim')\n",
    "plt.hist(X_train_lsbg[:,13], alpha=0.5,density=True,label='Real')\n",
    "plt.legend()\n",
    "plt.xlim([22, 35])"
   ]
  },
  {
   "cell_type": "markdown",
   "id": "88eea1ad-2037-4852-8978-ff964528fa71",
   "metadata": {},
   "source": [
    "### Random Search Cross Validation in Scikit-Learn"
   ]
  },
  {
   "cell_type": "code",
   "execution_count": 9,
   "id": "cea44318-83c6-465f-9100-cab148c31046",
   "metadata": {},
   "outputs": [],
   "source": [
    "from sklearn.ensemble import RandomForestClassifier\n",
    "from sklearn.model_selection import RandomizedSearchCV, GridSearchCV\n",
    "from sklearn import metrics\n",
    "from sklearn.ensemble import RandomForestRegressor\n",
    "from pprint import pprint"
   ]
  },
  {
   "cell_type": "code",
   "execution_count": 10,
   "id": "bbf65fb5-cc38-4c34-a105-0a0ab0a5ca73",
   "metadata": {},
   "outputs": [],
   "source": [
    "#Number of trees in random forest\n",
    "n_estimators_list = list(range(10,220,50))\n",
    "criterion_list =['gini','entropy']\n",
    "# Maximum number of levels in tree\n",
    "max_depth_list = list(range(5,50,10))\n",
    "max_depth_list.append(None)\n",
    "max_features_list = ['auto', 'sqrt','log2']\n",
    "\n",
    "# Minimum number of samples required to split a node\n",
    "min_samples_split_list = [2, 5, 10]\n",
    "# Minimum number of samples required at each leaf node\n",
    "min_samples_leaf_list = [1, 2, 4]\n",
    "# Method of selecting samples for training each tree\n",
    "#bootstrap = [True, False]"
   ]
  },
  {
   "cell_type": "code",
   "execution_count": 11,
   "id": "27b9e2f2-0a0d-4b7a-975f-dc5b5fc04792",
   "metadata": {},
   "outputs": [
    {
     "name": "stdout",
     "output_type": "stream",
     "text": [
      "{'n_estimators': [10, 60, 110, 160, 210], 'criterion': ['gini', 'entropy'], 'max_depth': [5, 15, 25, 35, 45, None], 'max_features': ['auto', 'sqrt', 'log2'], 'min_samples_split': [2, 5, 10], 'min_samples_leaf': [1, 2, 4]}\n"
     ]
    }
   ],
   "source": [
    "# Create the random grid\n",
    "params_grid = {'n_estimators': n_estimators_list,\n",
    "               'criterion': criterion_list,\n",
    "               'max_depth': max_depth_list,\n",
    "               'max_features': max_features_list,\n",
    "               'min_samples_split': min_samples_split_list,\n",
    "               'min_samples_leaf': min_samples_leaf_list}\n",
    "print(params_grid)"
   ]
  },
  {
   "cell_type": "code",
   "execution_count": 12,
   "id": "44569e7b-152f-4125-9f4d-da3f4a31e1e6",
   "metadata": {},
   "outputs": [
    {
     "data": {
      "text/plain": [
       "RandomizedSearchCV(cv=3,\n",
       "                   estimator=RandomForestClassifier(class_weight='balanced'),\n",
       "                   n_iter=50,\n",
       "                   param_distributions={'criterion': ['gini', 'entropy'],\n",
       "                                        'max_depth': [5, 15, 25, 35, 45, None],\n",
       "                                        'max_features': ['auto', 'sqrt',\n",
       "                                                         'log2'],\n",
       "                                        'min_samples_leaf': [1, 2, 4],\n",
       "                                        'min_samples_split': [2, 5, 10],\n",
       "                                        'n_estimators': [10, 60, 110, 160,\n",
       "                                                         210]},\n",
       "                   return_train_score=True,\n",
       "                   scoring=<function my_score at 0x7f97200f61f0>)"
      ]
     },
     "execution_count": 12,
     "metadata": {},
     "output_type": "execute_result"
    }
   ],
   "source": [
    "#def my_roc_auc_score(model,X,y): return metrics.roc_auc_score(y,model.predict(X))\n",
    "def my_score1(model,X,y): return metrics.f1_score(y,model.predict(X))\n",
    "\n",
    "\n",
    "model_rf= RandomizedSearchCV(estimator=RandomForestClassifier(class_weight='balanced'),\n",
    "                            param_distributions=params_grid,\n",
    "                            n_iter=50,\n",
    "                            cv=3,\n",
    "                            scoring=my_score,\n",
    "                            return_train_score=True,\n",
    "                            verbose=0)\n",
    "model_rf.fit(X_train,y_train)"
   ]
  },
  {
   "cell_type": "code",
   "execution_count": 13,
   "id": "479848b2-572b-4e21-b0e1-6931680fa32c",
   "metadata": {},
   "outputs": [
    {
     "data": {
      "text/plain": [
       "{'n_estimators': 210,\n",
       " 'min_samples_split': 10,\n",
       " 'min_samples_leaf': 2,\n",
       " 'max_features': 'auto',\n",
       " 'max_depth': 5,\n",
       " 'criterion': 'entropy'}"
      ]
     },
     "execution_count": 13,
     "metadata": {},
     "output_type": "execute_result"
    }
   ],
   "source": [
    "model_rf.best_params_"
   ]
  },
  {
   "cell_type": "markdown",
   "id": "f38ab84a-50ed-46a9-b3ed-9f3478f0323f",
   "metadata": {},
   "source": [
    "### GridSearchCV"
   ]
  },
  {
   "cell_type": "code",
   "execution_count": 14,
   "id": "2c3a16e0-c452-4fe4-bc19-ce62402f1bf4",
   "metadata": {},
   "outputs": [
    {
     "name": "stdout",
     "output_type": "stream",
     "text": [
      "{'n_estimators': [180, 210, 230], 'criterion': ['entropy'], 'max_depth': [3, 5, 10], 'max_features': ['auto'], 'min_samples_split': [8, 10, 12], 'min_samples_leaf': [2, 3]}\n"
     ]
    }
   ],
   "source": [
    "n_estimators_list = [180,210,230]\n",
    "criterion_list =['entropy']\n",
    "max_depth_list = [3,5,10]\n",
    "max_features_list = ['auto']\n",
    "min_samples_split_list = [8,10,12]\n",
    "min_samples_leaf_list = [2,3]\n",
    "\n",
    "params_grid = {'n_estimators': n_estimators_list,\n",
    "               'criterion': criterion_list,\n",
    "               'max_depth': max_depth_list,\n",
    "               'max_features': max_features_list,\n",
    "               'min_samples_split': min_samples_split_list,\n",
    "               'min_samples_leaf': min_samples_leaf_list}\n",
    "print(params_grid)"
   ]
  },
  {
   "cell_type": "code",
   "execution_count": 15,
   "id": "4c30ee63-f167-4471-9017-f8b25d42a42b",
   "metadata": {},
   "outputs": [
    {
     "data": {
      "text/plain": [
       "GridSearchCV(cv=3, estimator=RandomForestClassifier(class_weight='balanced'),\n",
       "             param_grid={'criterion': ['entropy'], 'max_depth': [3, 5, 10],\n",
       "                         'max_features': ['auto'], 'min_samples_leaf': [2, 3],\n",
       "                         'min_samples_split': [8, 10, 12],\n",
       "                         'n_estimators': [180, 210, 230]},\n",
       "             return_train_score=True,\n",
       "             scoring=<function my_score at 0x7f97200f61f0>)"
      ]
     },
     "execution_count": 15,
     "metadata": {},
     "output_type": "execute_result"
    }
   ],
   "source": [
    "#def my_roc_auc_score(model,X,y): return metrics.roc_auc_score(y,model.predict(X))\n",
    "\n",
    "model_rf= GridSearchCV(estimator=RandomForestClassifier(class_weight='balanced'),\n",
    "                            param_grid=params_grid,\n",
    "                            cv=3,\n",
    "                            scoring=my_score,\n",
    "                            return_train_score=True,\n",
    "                            verbose=0)\n",
    "model_rf.fit(X_train,y_train)"
   ]
  },
  {
   "cell_type": "code",
   "execution_count": 17,
   "id": "a80cfbc0-2ebb-4579-82b8-3ffe8409cf45",
   "metadata": {},
   "outputs": [
    {
     "data": {
      "text/plain": [
       "{'criterion': 'entropy',\n",
       " 'max_depth': 5,\n",
       " 'max_features': 'auto',\n",
       " 'min_samples_leaf': 2,\n",
       " 'min_samples_split': 12,\n",
       " 'n_estimators': 230}"
      ]
     },
     "execution_count": 17,
     "metadata": {},
     "output_type": "execute_result"
    }
   ],
   "source": [
    "model_rf.best_params_"
   ]
  },
  {
   "cell_type": "markdown",
   "id": "d99f5695-07b4-4035-8a82-9330a8aeb2f6",
   "metadata": {},
   "source": [
    "### One more time"
   ]
  },
  {
   "cell_type": "code",
   "execution_count": 18,
   "id": "f423a65f-93d0-4b54-b9af-d30b923e7632",
   "metadata": {},
   "outputs": [
    {
     "name": "stdout",
     "output_type": "stream",
     "text": [
      "{'n_estimators': [230, 250], 'criterion': ['entropy'], 'max_depth': [5], 'max_features': ['auto'], 'min_samples_split': [12, 15], 'min_samples_leaf': [2]}\n"
     ]
    }
   ],
   "source": [
    "n_estimators_list = [230, 250]\n",
    "criterion_list =['entropy']\n",
    "max_depth_list = [5]\n",
    "max_features_list = ['auto']\n",
    "min_samples_split_list = [12,15]\n",
    "min_samples_leaf_list = [2]\n",
    "\n",
    "params_grid = {'n_estimators': n_estimators_list,\n",
    "               'criterion': criterion_list,\n",
    "               'max_depth': max_depth_list,\n",
    "               'max_features': max_features_list,\n",
    "               'min_samples_split': min_samples_split_list,\n",
    "               'min_samples_leaf': min_samples_leaf_list}\n",
    "print(params_grid)"
   ]
  },
  {
   "cell_type": "code",
   "execution_count": 19,
   "id": "174f3338-0dea-4623-b032-ccf453bc2af0",
   "metadata": {},
   "outputs": [
    {
     "data": {
      "text/plain": [
       "GridSearchCV(cv=3, estimator=RandomForestClassifier(class_weight='balanced'),\n",
       "             param_grid={'criterion': ['entropy'], 'max_depth': [5],\n",
       "                         'max_features': ['auto'], 'min_samples_leaf': [2],\n",
       "                         'min_samples_split': [12, 15],\n",
       "                         'n_estimators': [230, 250]},\n",
       "             return_train_score=True,\n",
       "             scoring=<function my_score at 0x7f97200f61f0>)"
      ]
     },
     "execution_count": 19,
     "metadata": {},
     "output_type": "execute_result"
    }
   ],
   "source": [
    "#def my_roc_auc_score(model,X,y): return metrics.roc_auc_score(y,model.predict(X))\n",
    "\n",
    "model_rf= GridSearchCV(estimator=RandomForestClassifier(class_weight='balanced'),\n",
    "                            param_grid=params_grid,\n",
    "                            cv=3,\n",
    "                            scoring=my_score,\n",
    "                            return_train_score=True,\n",
    "                            verbose=0)\n",
    "model_rf.fit(X_train,y_train)"
   ]
  },
  {
   "cell_type": "code",
   "execution_count": 20,
   "id": "84c214e1-670d-42cc-b626-4c9159dd91fd",
   "metadata": {},
   "outputs": [
    {
     "data": {
      "text/plain": [
       "{'criterion': 'entropy',\n",
       " 'max_depth': 5,\n",
       " 'max_features': 'auto',\n",
       " 'min_samples_leaf': 2,\n",
       " 'min_samples_split': 12,\n",
       " 'n_estimators': 230}"
      ]
     },
     "execution_count": 20,
     "metadata": {},
     "output_type": "execute_result"
    }
   ],
   "source": [
    "model_rf.best_params_"
   ]
  },
  {
   "cell_type": "code",
   "execution_count": null,
   "id": "e6eb7273-2af3-4383-8c6f-62bcdb1748c1",
   "metadata": {},
   "outputs": [],
   "source": []
  }
 ],
 "metadata": {
  "kernelspec": {
   "display_name": "Python 3 (ipykernel)",
   "language": "python",
   "name": "python3"
  },
  "language_info": {
   "codemirror_mode": {
    "name": "ipython",
    "version": 3
   },
   "file_extension": ".py",
   "mimetype": "text/x-python",
   "name": "python",
   "nbconvert_exporter": "python",
   "pygments_lexer": "ipython3",
   "version": "3.10.5"
  }
 },
 "nbformat": 4,
 "nbformat_minor": 5
}
