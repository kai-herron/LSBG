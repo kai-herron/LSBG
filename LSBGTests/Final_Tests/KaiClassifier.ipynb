{
 "cells": [
  {
   "cell_type": "code",
   "execution_count": 1,
   "id": "8cfe6b4c-3ef4-4133-92c7-ea7389d76694",
   "metadata": {},
   "outputs": [],
   "source": [
    "# Import basic packages\n",
    "import numpy as np\n",
    "import scipy as sp\n",
    "import pandas as pd\n",
    "from astropy.io import fits\n",
    "import fitsio as ft\n",
    "\n",
    "# ==== Scikit-learn =======================\n",
    "# Preprocessing\n",
    "from sklearn.preprocessing import StandardScaler #Standar scaler for standardization\n",
    "from sklearn.preprocessing import RobustScaler #Robust scaler for high dispersion\n",
    "from sklearn.model_selection import train_test_split # For random split\n",
    "\n",
    "# Classifiers\n",
    "from sklearn.svm import SVC\n",
    "from sklearn.ensemble import RandomForestClassifier\n",
    "\n",
    "# Metrics\n",
    "from sklearn.metrics import balanced_accuracy_score\n",
    "from sklearn.metrics import precision_score\n",
    "from sklearn.metrics import recall_score\n",
    "\n",
    "from sklearn.ensemble import RandomForestClassifier\n",
    "from sklearn.model_selection import RandomizedSearchCV, GridSearchCV\n",
    "from sklearn import metrics\n",
    "from sklearn.ensemble import RandomForestRegressor\n",
    "from pprint import pprint\n",
    "\n",
    "#Plotting\n",
    "from sklearn import datasets\n",
    "from sklearn.tree import DecisionTreeClassifier \n",
    "from sklearn import tree\n",
    "\n",
    "# ==========================================\n",
    "# Matplotlib, urlib etc \n",
    "import urllib\n",
    "import urllib.request\n",
    "import matplotlib\n",
    "import matplotlib.pyplot as plt\n",
    "from IPython.display import clear_output, display\n",
    "from PIL import Image\n",
    "%matplotlib inline"
   ]
  },
  {
   "cell_type": "code",
   "execution_count": 92,
   "id": "da5be9e3-578a-42f9-8f20-48aa0c96ff3f",
   "metadata": {},
   "outputs": [],
   "source": [
    "from sklearn.metrics import confusion_matrix\n",
    "\n",
    "def rates(y_true, y_pred):\n",
    "    CM = confusion_matrix(y_true, y_pred)\n",
    "\n",
    "    TN = CM[0][0]\n",
    "    FN = CM[1][0]\n",
    "    TP = CM[1][1]\n",
    "    FP = CM[0][1]\n",
    "    \n",
    "    # Initialize\n",
    "    X_mat = np.zeros(4)\n",
    "    \n",
    "    # Populate\n",
    "    X_mat[0] = TN\n",
    "    X_mat[1] = FN\n",
    "    X_mat[2] = TP\n",
    "    X_mat[3] = FP\n",
    "    \n",
    "    return X_mat  "
   ]
  },
  {
   "cell_type": "markdown",
   "id": "ec6d3c25-aac7-4d60-87ef-4c3ffea2b1a5",
   "metadata": {},
   "source": [
    "### Import feature matrix and labels"
   ]
  },
  {
   "cell_type": "code",
   "execution_count": 2,
   "id": "d61abec0",
   "metadata": {},
   "outputs": [],
   "source": [
    "X_feat_real_1 = np.load('/data/des81.a/data/kherron/LSBG/trainingfiles/redux/X_feat_redux.npy')\n",
    "y_lab_real = np.load('/data/des81.a/data/kherron/LSBG/trainingfiles/redux/y_lab_redux.npy')"
   ]
  },
  {
   "cell_type": "markdown",
   "id": "d929cbcf",
   "metadata": {},
   "source": [
    "# Cuts using these top 5 features\n",
    "- MAG_AUTO_G: 0.20025983224794616 (4)\n",
    "- MU_MEAN_G: 0.1368483467374319   (16)\n",
    "- MU_EFF_G: 0.093205793064768     (13)\n",
    "- MAG_AUTO_R: 0.0906923999986175  (5)\n",
    "- MAG_AUTO_I: 0.08749269948363461 (6)"
   ]
  },
  {
   "cell_type": "markdown",
   "id": "d8bf9adc",
   "metadata": {},
   "source": [
    "### MAG_AUTO_G (4)"
   ]
  },
  {
   "cell_type": "code",
   "execution_count": 37,
   "id": "fe637368",
   "metadata": {},
   "outputs": [
    {
     "data": {
      "image/png": "[encoded data removed]",
      "text/plain": [
       "<Figure size 432x288 with 1 Axes>"
      ]
     },
     "metadata": {
      "needs_background": "light"
     },
     "output_type": "display_data"
    }
   ],
   "source": [
    "#Look at features to make cut\n",
    "X_feat_vis = np.load('/data/des81.a/data/kherron/LSBG/trainingfiles/redux/X_feat_redux.npy')\n",
    "y_lab_vis = np.load('/data/des81.a/data/kherron/LSBG/trainingfiles/redux/y_lab_redux.npy')\n",
    "X_evals = ft.read('/data/des80.b/data/burcinmp/y6_lsbg/y6/v2/y6_gold_2_0_lsb_skim.fits')['MAG_AUTO_G']\n",
    "sel_e = ft.read('/data/des80.b/data/burcinmp/y6_lsbg/y6/v2/y6_gold_2_0_lsb_skim.fits')['MU_MEAN_MODEL_G'] <=27\n",
    "sel_v = X_feat_vis[:,16] <=27\n",
    "bins = np.linspace(15,27)\n",
    "dens,bins,bars = plt.hist(X_feat_vis[:,4][sel_v][y_lab_vis[sel_v]==1],\n",
    "                            bins=bins,histtype='step',\n",
    "                            label='LSBGs')\n",
    "dens_e, bins_e,bars_e = plt.hist(X_feat_vis[:,4][sel_v][y_lab_vis[sel_v]==0],\n",
    "                                   bins=bins,alpha=0.5,\n",
    "                                   histtype='step',\n",
    "                                   label='Artifacts')\n",
    "\n",
    "plt.axhline(0,color='black')\n",
    "\n",
    "plt.title('MAG_AUTO_G')\n",
    "plt.legend()\n",
    "plt.show()"
   ]
  },
  {
   "cell_type": "code",
   "execution_count": 117,
   "id": "92e1cda2",
   "metadata": {},
   "outputs": [],
   "source": [
    "mag_g_cut = 22"
   ]
  },
  {
   "cell_type": "markdown",
   "id": "1c8112f6",
   "metadata": {},
   "source": [
    "### MU_MEAN_G (16)"
   ]
  },
  {
   "cell_type": "code",
   "execution_count": 118,
   "id": "60be582b",
   "metadata": {},
   "outputs": [
    {
     "data": {
      "image/png": "[encoded data removed]",
      "text/plain": [
       "<Figure size 432x288 with 1 Axes>"
      ]
     },
     "metadata": {
      "needs_background": "light"
     },
     "output_type": "display_data"
    }
   ],
   "source": [
    "#Look at features to make cut\n",
    "\n",
    "X_feat_vis = np.load('/data/des81.a/data/kherron/LSBG/trainingfiles/redux/X_feat_redux.npy')\n",
    "y_lab_vis = np.load('/data/des81.a/data/kherron/LSBG/trainingfiles/redux/y_lab_redux.npy')\n",
    "X_evals = ft.read('/data/des80.b/data/burcinmp/y6_lsbg/y6/v2/y6_gold_2_0_lsb_skim.fits')['MU_MEAN_MODEL_G']\n",
    "sel_e = ft.read('/data/des80.b/data/burcinmp/y6_lsbg/y6/v2/y6_gold_2_0_lsb_skim.fits')['MU_MEAN_MODEL_G'] <=27\n",
    "sel_v = X_feat_vis[:,16] <=27\n",
    "bins = np.linspace(24,28)\n",
    "counts,bins,bars = plt.hist(X_feat_vis[:,16][sel_v][y_lab_vis[sel_v]==1],\n",
    "                            bins=bins,histtype='step',\n",
    "                            label='LSBG')\n",
    "counts_e, bins_e,bars_e = plt.hist(X_feat_vis[:,16][sel_v][y_lab_vis[sel_v]==0],\n",
    "                                   bins=bins,alpha=0.5,\n",
    "                                   histtype='step',\n",
    "                                   label='Artifacts')\n",
    "plt.axhline(0,color='black')\n",
    "\n",
    "plt.title('MU_MEAN_G')\n",
    "plt.legend()\n",
    "plt.show()"
   ]
  },
  {
   "cell_type": "code",
   "execution_count": 119,
   "id": "a3e6797c",
   "metadata": {},
   "outputs": [],
   "source": [
    "mu_mean_g_cut = 25.75"
   ]
  },
  {
   "cell_type": "code",
   "execution_count": 120,
   "id": "4d53b72c",
   "metadata": {},
   "outputs": [
    {
     "data": {
      "image/png": "[encoded data removed]",
      "text/plain": [
       "<Figure size 432x288 with 1 Axes>"
      ]
     },
     "metadata": {
      "needs_background": "light"
     },
     "output_type": "display_data"
    }
   ],
   "source": [
    "#Look at features to make cut\n",
    "\n",
    "X_feat_vis = np.load('/data/des81.a/data/kherron/LSBG/trainingfiles/redux/X_feat_redux.npy')\n",
    "y_lab_vis = np.load('/data/des81.a/data/kherron/LSBG/trainingfiles/redux/y_lab_redux.npy')\n",
    "X_evals = ft.read('/data/des80.b/data/burcinmp/y6_lsbg/y6/v2/y6_gold_2_0_lsb_skim.fits')\n",
    "\n",
    "sel_e = (ft.read('/data/des80.b/data/burcinmp/y6_lsbg/y6/v2/y6_gold_2_0_lsb_skim.fits')['MU_MEAN_MODEL_G'] <=27)\n",
    "sel_v = (X_feat_vis[:,16] <=27)\n",
    "\n",
    "sel_v_p = (X_feat_vis[:,4][sel_v]<=mag_g_cut) & (X_feat_vis[:,16][sel_v]<=mu_mean_g_cut) & (y_lab_vis[sel_v]==1)\n",
    "sel_v_f = (X_feat_vis[:,4][sel_v]>mag_g_cut) & (X_feat_vis[:,16][sel_v]>mu_mean_g_cut) &(y_lab_vis[sel_v]==1)\n",
    "sel_v_a = (X_feat_vis[:,4][sel_v]<=mag_g_cut) & (X_feat_vis[:,16][sel_v]<=mu_mean_g_cut) &(y_lab_vis[sel_v]==0)\n",
    "\n",
    "sel_e_p = (X_evals['MAG_AUTO_G'][sel_e]<=22) & (X_evals['MU_MEAN_MODEL_G'][sel_e]<=26.2)\n",
    "bins = np.linspace(24,28)\n",
    "counts_tp,bins_p,bars_p = plt.hist(X_feat_vis[:,16][sel_v][sel_v_p],\n",
    "                            bins=bins,histtype='step',\n",
    "                            label='LSBGs Passed')\n",
    "counts_fn,bins_f,bars_f = plt.hist(X_feat_vis[:,16][sel_v][sel_v_f],\n",
    "                            bins=bins,histtype='step',\n",
    "                            label='LSBGs Failed')\n",
    "counts_fp,bins_f,bars_f = plt.hist(X_feat_vis[:,16][sel_v][sel_v_a],\n",
    "                            bins=bins,histtype='step',\n",
    "                            label='Artifacts Passed')\n",
    "plt.axhline(0,color='black')\n",
    "\n",
    "plt.title('MU_MEAN_G')\n",
    "plt.legend()\n",
    "plt.show()"
   ]
  },
  {
   "cell_type": "code",
   "execution_count": 121,
   "id": "02edc5d5",
   "metadata": {},
   "outputs": [
    {
     "name": "stdout",
     "output_type": "stream",
     "text": [
      "False Discovery Rate: 0.7206639954207212\n",
      "PP for Eval Sample: 227496\n"
     ]
    }
   ],
   "source": [
    "print('False Discovery Rate:',sum(counts_fp)/(sum(counts_tp)+sum(counts_fp)))\n",
    "print('PP for Eval Sample:',len(X_evals[sel_e][sel_e_p]))"
   ]
  },
  {
   "cell_type": "markdown",
   "id": "60ed07d9",
   "metadata": {},
   "source": [
    "### MU_EFF_G (13)"
   ]
  },
  {
   "cell_type": "code",
   "execution_count": 122,
   "id": "4b7f6bd9",
   "metadata": {},
   "outputs": [
    {
     "data": {
      "image/png": "[encoded data removed]",
      "text/plain": [
       "<Figure size 432x288 with 1 Axes>"
      ]
     },
     "metadata": {
      "needs_background": "light"
     },
     "output_type": "display_data"
    }
   ],
   "source": [
    "#Look at features to make cut\n",
    "\n",
    "X_feat_vis = np.load('/data/des81.a/data/kherron/LSBG/trainingfiles/redux/X_feat_redux.npy')\n",
    "y_lab_vis = np.load('/data/des81.a/data/kherron/LSBG/trainingfiles/redux/y_lab_redux.npy')\n",
    "X_evals = ft.read('/data/des80.b/data/burcinmp/y6_lsbg/y6/v2/y6_gold_2_0_lsb_skim.fits')['MU_EFF_MODEL_G']\n",
    "\n",
    "sel_e = ft.read('/data/des80.b/data/burcinmp/y6_lsbg/y6/v2/y6_gold_2_0_lsb_skim.fits')['MU_MEAN_MODEL_G'] <=27\n",
    "sel_v = X_feat_vis[:,16] <=27\n",
    "bins = np.linspace(24,28)\n",
    "counts,bins,bars = plt.hist(X_feat_vis[:,13][sel_v][y_lab_vis[sel_v] == 1],\n",
    "                            bins=bins,histtype='step',\n",
    "                            label='LSBG')\n",
    "counts_e, bins_e,bars_e = plt.hist(X_feat_vis[:,13][sel_v][y_lab_vis[sel_v] == 0],\n",
    "                                   bins=bins,alpha=0.5,\n",
    "                                   histtype='step',\n",
    "                                   label='artifacts')\n",
    "plt.axhline(0,color='black')\n",
    "\n",
    "plt.title('MU_EFF_G')\n",
    "plt.legend()\n",
    "plt.show()"
   ]
  },
  {
   "cell_type": "code",
   "execution_count": 124,
   "id": "3c84c61d",
   "metadata": {},
   "outputs": [],
   "source": [
    "mu_eff_g_cut = 26.5"
   ]
  },
  {
   "cell_type": "code",
   "execution_count": 129,
   "id": "35a75871",
   "metadata": {},
   "outputs": [
    {
     "data": {
      "image/png": "[encoded data removed]",
      "text/plain": [
       "<Figure size 432x288 with 1 Axes>"
      ]
     },
     "metadata": {
      "needs_background": "light"
     },
     "output_type": "display_data"
    }
   ],
   "source": [
    "X_feat_vis = np.load('/data/des81.a/data/kherron/LSBG/trainingfiles/redux/X_feat_redux.npy')\n",
    "y_lab_vis = np.load('/data/des81.a/data/kherron/LSBG/trainingfiles/redux/y_lab_redux.npy')\n",
    "X_evals = ft.read('/data/des80.b/data/burcinmp/y6_lsbg/y6/v2/y6_gold_2_0_lsb_skim.fits')\n",
    "\n",
    "\n",
    "sel_e = (ft.read('/data/des80.b/data/burcinmp/y6_lsbg/y6/v2/y6_gold_2_0_lsb_skim.fits')['MU_MEAN_MODEL_G'] <=27)\n",
    "sel_v = (X_feat_vis[:,16] <=27)\n",
    "\n",
    "sel_v_p = ((X_feat_vis[:,4][sel_v]<=mag_g_cut) & \n",
    "           (X_feat_vis[:,16][sel_v]<=mu_mean_g_cut) &\n",
    "           (X_feat_vis[:,13][sel_v]<=mu_eff_g_cut)&\n",
    "           (y_lab_vis[sel_v]==1))\n",
    "\n",
    "sel_v_f = ((X_feat_vis[:,4][sel_v]>mag_g_cut) & \n",
    "           (X_feat_vis[:,16][sel_v]>mu_mean_g_cut) &\n",
    "           (X_feat_vis[:,13][sel_v]>mu_eff_g_cut)&\n",
    "           (y_lab_vis[sel_v]==1))\n",
    "\n",
    "sel_v_a = ((X_feat_vis[:,4][sel_v]<=mag_g_cut) & \n",
    "           (X_feat_vis[:,16][sel_v]<=mu_mean_g_cut) &\n",
    "           (X_feat_vis[:,13][sel_v]<=mu_eff_g_cut)&\n",
    "           (y_lab_vis[sel_v]==0))\n",
    "\n",
    "sel_e_p = ((X_evals['MAG_AUTO_G'][sel_e]<=mag_g_cut) & \n",
    "           (X_evals['MU_MEAN_MODEL_G'][sel_e]<=mu_mean_g_cut) &\n",
    "           (X_evals['MU_EFF_MODEL_G'][sel_e]<=mu_eff_g_cut))\n",
    "bins = np.linspace(24,28)\n",
    "counts_tp,bins_p,bars_p = plt.hist(X_feat_vis[:,13][sel_v][sel_v_p],\n",
    "                            bins=bins,histtype='step',\n",
    "                            label='LSBGs Passed')\n",
    "counts_fn,bins_f,bars_f = plt.hist(X_feat_vis[:,13][sel_v][sel_v_f],\n",
    "                            bins=bins,histtype='step',\n",
    "                            label='LSBGs Failed')\n",
    "counts_fp,bins_f,bars_f = plt.hist(X_feat_vis[:,13][sel_v][sel_v_a],\n",
    "                            bins=bins,histtype='step',\n",
    "                            label='Artifacts Passed')\n",
    "plt.axhline(0,color='black')\n",
    "\n",
    "plt.title('MU_EFF_G')\n",
    "plt.legend()\n",
    "plt.show()"
   ]
  },
  {
   "cell_type": "code",
   "execution_count": 130,
   "id": "19d48505",
   "metadata": {},
   "outputs": [
    {
     "name": "stdout",
     "output_type": "stream",
     "text": [
      "False Discovery Rate: 0.7202636858698768\n",
      "PP for Eval Sample: 177267\n"
     ]
    }
   ],
   "source": [
    "print('False Discovery Rate:',sum(counts_fp)/(sum(counts_tp)+sum(counts_fp)))\n",
    "print('PP for Eval Sample:',len(X_evals[sel_e][sel_e_p]))"
   ]
  },
  {
   "cell_type": "markdown",
   "id": "5334169e",
   "metadata": {},
   "source": [
    "### MAG_AUTO_R (5)"
   ]
  },
  {
   "cell_type": "code",
   "execution_count": 131,
   "id": "8f31288f",
   "metadata": {},
   "outputs": [
    {
     "data": {
      "image/png": "[encoded data removed]",
      "text/plain": [
       "<Figure size 432x288 with 1 Axes>"
      ]
     },
     "metadata": {
      "needs_background": "light"
     },
     "output_type": "display_data"
    }
   ],
   "source": [
    "#Look at features to make cut\n",
    "\n",
    "X_feat_vis = np.load('/data/des81.a/data/kherron/LSBG/trainingfiles/redux/X_feat_redux.npy')\n",
    "y_lab_vis = np.load('/data/des81.a/data/kherron/LSBG/trainingfiles/redux/y_lab_redux.npy')\n",
    "X_evals = ft.read('/data/des80.b/data/burcinmp/y6_lsbg/y6/v2/y6_gold_2_0_lsb_skim.fits')['MAG_AUTO_R']\n",
    "\n",
    "sel_e = ft.read('/data/des80.b/data/burcinmp/y6_lsbg/y6/v2/y6_gold_2_0_lsb_skim.fits')['MU_MEAN_MODEL_G'] <=27\n",
    "sel_v = X_feat_vis[:,16] <=27\n",
    "bins = np.linspace(15,22)\n",
    "counts,bins,bars = plt.hist(X_feat_vis[:,5][sel_v][y_lab_vis[sel_v] == 1],\n",
    "                            bins=bins,histtype='step',\n",
    "                            label='LSBG')\n",
    "counts_e, bins_e,bars_e = plt.hist(X_feat_vis[:,5][sel_v][y_lab_vis[sel_v] == 0],\n",
    "                                   bins=bins,alpha=0.5,\n",
    "                                   histtype='step',\n",
    "                                   label='artifacts')\n",
    "plt.axhline(0,color='black')\n",
    "\n",
    "plt.title('MAG_AUTO_R')\n",
    "plt.legend()\n",
    "plt.show()"
   ]
  },
  {
   "cell_type": "code",
   "execution_count": null,
   "id": "6536f545",
   "metadata": {},
   "outputs": [],
   "source": [
    "mag_r_cut = 20.5"
   ]
  },
  {
   "cell_type": "code",
   "execution_count": 69,
   "id": "ff66e11a",
   "metadata": {},
   "outputs": [
    {
     "data": {
      "image/png": "[encoded data removed]",
      "text/plain": [
       "<Figure size 432x288 with 1 Axes>"
      ]
     },
     "metadata": {
      "needs_background": "light"
     },
     "output_type": "display_data"
    }
   ],
   "source": [
    "X_feat_vis = np.load('/data/des81.a/data/kherron/LSBG/trainingfiles/redux/X_feat_redux.npy')\n",
    "y_lab_vis = np.load('/data/des81.a/data/kherron/LSBG/trainingfiles/redux/y_lab_redux.npy')\n",
    "X_evals = ft.read('/data/des80.b/data/burcinmp/y6_lsbg/y6/v2/y6_gold_2_0_lsb_skim.fits')\n",
    "\n",
    "\n",
    "sel_e = (ft.read('/data/des80.b/data/burcinmp/y6_lsbg/y6/v2/y6_gold_2_0_lsb_skim.fits')['MU_MEAN_MODEL_G'] <=27)\n",
    "sel_v = (X_feat_vis[:,16] <=27)\n",
    "\n",
    "sel_v_p = ((X_feat_vis[:,4][sel_v]<=22) & \n",
    "           (X_feat_vis[:,16][sel_v]<=26.2) &\n",
    "           (X_feat_vis[:,13][sel_v]<=26.75)&\n",
    "           (X_feat_vis[:,5][sel_v]<=20.5)&\n",
    "           (y_lab_vis[sel_v]==1))\n",
    "\n",
    "sel_v_f = ((X_feat_vis[:,4][sel_v]>22) & \n",
    "           (X_feat_vis[:,16][sel_v]>26.2) &\n",
    "           (X_feat_vis[:,13][sel_v]>26.75)&\n",
    "           (X_feat_vis[:,5][sel_v]>20.5)&\n",
    "           (y_lab_vis[sel_v]==1))\n",
    "\n",
    "sel_v_a = ((X_feat_vis[:,4][sel_v]<=22) & \n",
    "           (X_feat_vis[:,16][sel_v]<=26.2) &\n",
    "           (X_feat_vis[:,13][sel_v]<=26.75)&\n",
    "           (X_feat_vis[:,5][sel_v]<=20.5)&\n",
    "           (y_lab_vis[sel_v]==0))\n",
    "\n",
    "sel_e_p = ((X_evals['MAG_AUTO_G'][sel_e]<=22) & \n",
    "           (X_evals['MU_MEAN_MODEL_G'][sel_e]<=26.2) &\n",
    "           (X_evals['MU_EFF_MODEL_G'][sel_e]<=26.75) &\n",
    "           (X_evals['MAG_AUTO_R'][sel_e]<=21.25))\n",
    "bins = np.linspace(17,23)\n",
    "counts_tp,bins_p,bars_p = plt.hist(X_feat_vis[:,5][sel_v][sel_v_p],\n",
    "                            bins=bins,histtype='step',\n",
    "                            label='LSBGs Passed')\n",
    "counts_fn,bins_f,bars_f = plt.hist(X_feat_vis[:,5][sel_v][sel_v_f],\n",
    "                            bins=bins,histtype='step',\n",
    "                            label='LSBGs Failed')\n",
    "counts_fp,bins_f,bars_f = plt.hist(X_feat_vis[:,5][sel_v][sel_v_a],\n",
    "                            bins=bins,histtype='step',\n",
    "                            label='Artifacts Passed')\n",
    "plt.axhline(0,color='black')\n",
    "\n",
    "plt.title('MAG_AUTO_R')\n",
    "plt.legend()\n",
    "plt.show()"
   ]
  },
  {
   "cell_type": "code",
   "execution_count": 70,
   "id": "d90c63ea",
   "metadata": {},
   "outputs": [
    {
     "name": "stdout",
     "output_type": "stream",
     "text": [
      "False Discovery Rate: 0.7366746221161495\n",
      "PP for Eval Sample: 190432\n"
     ]
    }
   ],
   "source": [
    "print('False Discovery Rate:',sum(counts_fp)/(sum(counts_tp)+sum(counts_fp)))\n",
    "print('PP for Eval Sample:',len(X_evals[sel_e][sel_e_p]))"
   ]
  },
  {
   "cell_type": "markdown",
   "id": "d549404a",
   "metadata": {},
   "source": [
    "### MAG_AUTO_I (6)"
   ]
  },
  {
   "cell_type": "code",
   "execution_count": 71,
   "id": "9c1274be",
   "metadata": {},
   "outputs": [
    {
     "data": {
      "image/png": "[encoded data removed]",
      "text/plain": [
       "<Figure size 432x288 with 1 Axes>"
      ]
     },
     "metadata": {
      "needs_background": "light"
     },
     "output_type": "display_data"
    }
   ],
   "source": [
    "#Look at features to make cut\n",
    "\n",
    "X_feat_vis = np.load('/data/des81.a/data/kherron/LSBG/trainingfiles/redux/X_feat_redux.npy')\n",
    "y_lab_vis = np.load('/data/des81.a/data/kherron/LSBG/trainingfiles/redux/y_lab_redux.npy')\n",
    "X_evals = ft.read('/data/des80.b/data/burcinmp/y6_lsbg/y6/v2/y6_gold_2_0_lsb_skim.fits')['MAG_AUTO_I']\n",
    "\n",
    "sel_e = ft.read('/data/des80.b/data/burcinmp/y6_lsbg/y6/v2/y6_gold_2_0_lsb_skim.fits')['MU_MEAN_MODEL_G'] <=27\n",
    "sel_v = X_feat_vis[:,16] <=27\n",
    "bins = np.linspace(15,28)\n",
    "counts,bins,bars = plt.hist(X_feat_vis[:,6][sel_v][y_lab_vis[sel_v] == 1],\n",
    "                            bins=bins,histtype='step',\n",
    "                            label='LSBG')\n",
    "counts_e, bins_e,bars_e = plt.hist(X_feat_vis[:,6][sel_v][y_lab_vis[sel_v] == 0],\n",
    "                                   bins=bins,alpha=0.5,\n",
    "                                   histtype='step',\n",
    "                                   label='artifacts')\n",
    "plt.axhline(0,color='black')\n",
    "\n",
    "plt.title('MAG_AUTO_I')\n",
    "plt.legend()\n",
    "plt.show()"
   ]
  },
  {
   "cell_type": "code",
   "execution_count": 76,
   "id": "0efbb28e",
   "metadata": {},
   "outputs": [
    {
     "data": {
      "image/png": "[encoded data removed]",
      "text/plain": [
       "<Figure size 432x288 with 1 Axes>"
      ]
     },
     "metadata": {
      "needs_background": "light"
     },
     "output_type": "display_data"
    }
   ],
   "source": [
    "X_feat_vis = np.load('/data/des81.a/data/kherron/LSBG/trainingfiles/redux/X_feat_redux.npy')\n",
    "y_lab_vis = np.load('/data/des81.a/data/kherron/LSBG/trainingfiles/redux/y_lab_redux.npy')\n",
    "X_evals = ft.read('/data/des80.b/data/burcinmp/y6_lsbg/y6/v2/y6_gold_2_0_lsb_skim.fits')\n",
    "\n",
    "\n",
    "sel_e = (ft.read('/data/des80.b/data/burcinmp/y6_lsbg/y6/v2/y6_gold_2_0_lsb_skim.fits')['MU_MEAN_MODEL_G'] <=27)\n",
    "sel_v = (X_feat_vis[:,16] <=27)\n",
    "\n",
    "sel_v_p = ((X_feat_vis[:,4][sel_v]<=22) & \n",
    "           (X_feat_vis[:,16][sel_v]<=26.2) &\n",
    "           (X_feat_vis[:,13][sel_v]<=26.75)&\n",
    "           (X_feat_vis[:,5][sel_v]<=21.25)&\n",
    "           (X_feat_vis[:,6][sel_v]<=20.25) &\n",
    "           (y_lab_vis[sel_v]==1))\n",
    "\n",
    "sel_v_f = ((X_feat_vis[:,4][sel_v]>22) & \n",
    "           (X_feat_vis[:,16][sel_v]>26.2) &\n",
    "           (X_feat_vis[:,13][sel_v]>26.75)&\n",
    "           (X_feat_vis[:,5][sel_v]>21.25)&\n",
    "           (X_feat_vis[:,6][sel_v]>20.25) &\n",
    "           (y_lab_vis[sel_v]==1))\n",
    "\n",
    "sel_v_a = ((X_feat_vis[:,4][sel_v]<=22) & \n",
    "           (X_feat_vis[:,16][sel_v]<=26.2) &\n",
    "           (X_feat_vis[:,13][sel_v]<=26.75)&\n",
    "           (X_feat_vis[:,5][sel_v]<=21.25)&\n",
    "           (X_feat_vis[:,6][sel_v]<=20.25) &\n",
    "           (y_lab_vis[sel_v]==0))\n",
    "\n",
    "sel_e_p = ((X_evals['MAG_AUTO_G'][sel_e]<=22) & \n",
    "           (X_evals['MU_MEAN_MODEL_G'][sel_e]<=26.2) &\n",
    "           (X_evals['MU_EFF_MODEL_G'][sel_e]<=26.75) &\n",
    "           (X_evals['MAG_AUTO_R'][sel_e]<=21.25)&\n",
    "           (X_evals['MAG_AUTO_I'][sel_e]<=20.25))\n",
    "bins = np.linspace(17,23)\n",
    "counts_tp,bins_p,bars_p = plt.hist(X_feat_vis[:,6][sel_v][sel_v_p],\n",
    "                            bins=bins,histtype='step',\n",
    "                            label='LSBGs Passed')\n",
    "counts_fn,bins_f,bars_f = plt.hist(X_feat_vis[:,6][sel_v][sel_v_f],\n",
    "                            bins=bins,histtype='step',\n",
    "                            label='LSBGs Failed')\n",
    "counts_fp,bins_f,bars_f = plt.hist(X_feat_vis[:,6][sel_v][sel_v_a],\n",
    "                            bins=bins,histtype='step',\n",
    "                            label='Artifacts Passed')\n",
    "plt.axhline(0,color='black')\n",
    "\n",
    "plt.title('MAG_AUTO_I')\n",
    "plt.legend()\n",
    "plt.show()"
   ]
  },
  {
   "cell_type": "code",
   "execution_count": 77,
   "id": "476d1d2f",
   "metadata": {},
   "outputs": [
    {
     "name": "stdout",
     "output_type": "stream",
     "text": [
      "False Discovery Rate: 0.6708640903169778\n",
      "PP for Eval Sample: 107215\n"
     ]
    }
   ],
   "source": [
    "print('False Discovery Rate:',sum(counts_fp)/(sum(counts_tp)+sum(counts_fp)))\n",
    "print('PP for Eval Sample:',len(X_evals[sel_e][sel_e_p]))"
   ]
  },
  {
   "cell_type": "markdown",
   "id": "6bfc694d",
   "metadata": {},
   "source": [
    "# Make Testing/Validation Matrix & Make Cuts"
   ]
  },
  {
   "cell_type": "code",
   "execution_count": 80,
   "id": "59562c7b-3b4a-4cbc-8c29-ca3b02690b54",
   "metadata": {},
   "outputs": [],
   "source": [
    "#Make the top 5 feature matrix\n",
    "X_feat_real = np.column_stack((X_feat_real_1[:,4],X_feat_real_1[:,16],X_feat_real_1[:,13],X_feat_real_1[:,5],\n",
    "                              X_feat_real_1[:,6]))\n",
    "y_lab_real = np.load('/data/des81.a/data/kherron/LSBG/trainingfiles/redux/y_lab_redux.npy')"
   ]
  },
  {
   "cell_type": "code",
   "execution_count": 81,
   "id": "8437d925",
   "metadata": {},
   "outputs": [],
   "source": [
    "#Cut out the garbage\n",
    "sel = (X_feat_real[:,1] < 27.0)\n",
    "X_feat_real = X_feat_real[sel]\n",
    "y_lab_real = y_lab_real[sel]"
   ]
  },
  {
   "cell_type": "code",
   "execution_count": 82,
   "id": "0203fb82",
   "metadata": {},
   "outputs": [],
   "source": [
    "#Cut out sentinel values\n",
    "sel = X_feat_real<80\n",
    "sel = (sel[:,0]==True)&(sel[:,1]==True)&(sel[:,2]==True)\n",
    "X_feat_real = X_feat_real[sel]\n",
    "y_lab_real = y_lab_real[sel]"
   ]
  },
  {
   "cell_type": "markdown",
   "id": "47a2fa0d",
   "metadata": {},
   "source": [
    "# Split between Testing and Validation"
   ]
  },
  {
   "cell_type": "code",
   "execution_count": 85,
   "id": "f142fd29-a97d-43cc-8b2c-e055d3cd6419",
   "metadata": {},
   "outputs": [
    {
     "name": "stdout",
     "output_type": "stream",
     "text": [
      "===========Train==Test\n",
      "ARTIFACTS: 5283 5284\n",
      "LSBGs    : 567 568\n"
     ]
    }
   ],
   "source": [
    "#Split up LSBGs and aritfacts into test and validation\n",
    "\n",
    "index_real=(y_lab_real==1)\n",
    "index_art=(y_lab_real==0)\n",
    "\n",
    "X_art = X_feat_real[index_art]\n",
    "X_lsbg = X_feat_real[index_real]\n",
    "\n",
    "y_art = y_lab_real[index_art]\n",
    "y_lsbg = y_lab_real[index_real]\n",
    "\n",
    "X_train_art, X_test_art, y_train_art, y_test_art = train_test_split(X_art, y_art,\n",
    "                                                                        train_size = 0.50, random_state = 10)\n",
    "X_train_lsbg, X_test_lsbg, y_train_lsbg, y_test_lsbg = train_test_split(X_lsbg, y_lsbg,\n",
    "                                                                        train_size = 0.50, random_state = 10)\n",
    "\n",
    "\n",
    "print('===========Train==Test')\n",
    "print(\"ARTIFACTS:\",len(X_train_art), len(X_test_art))\n",
    "print(\"LSBGs    :\",len(X_train_lsbg), len(X_test_lsbg))"
   ]
  },
  {
   "cell_type": "markdown",
   "id": "e8ca8059",
   "metadata": {},
   "source": [
    "# Make Classifier"
   ]
  },
  {
   "cell_type": "code",
   "execution_count": 88,
   "id": "d4ab3336",
   "metadata": {},
   "outputs": [],
   "source": [
    "def simple_classifier(X_feat):\n",
    "    y_pred = np.zeros(len(X_feat))\n",
    "    sel = ((X_feat[:,0]<=22) & \n",
    "           (X_feat[:,1]<=26.2) &\n",
    "           (X_feat[:,2]<=26.75)&\n",
    "           (X_feat[:,3]<=21.25)&\n",
    "           (X_feat[:,4]<=20.25))\n",
    "\n",
    "    y_pred[sel] = 1\n",
    "    \n",
    "    \n",
    "    return y_pred"
   ]
  },
  {
   "cell_type": "markdown",
   "id": "1a007efc",
   "metadata": {},
   "source": [
    "# Testing Phase"
   ]
  },
  {
   "cell_type": "code",
   "execution_count": 89,
   "id": "65150a7e-fd5f-49fb-81ac-24cab7415a1c",
   "metadata": {},
   "outputs": [],
   "source": [
    "X_test_1 = np.concatenate((X_train_lsbg,X_train_art)) \n",
    "y_test = np.concatenate((y_train_lsbg,y_train_art))\n",
    "\n",
    "y_pred = simple_classifier(X_test_1)"
   ]
  },
  {
   "cell_type": "code",
   "execution_count": 90,
   "id": "970f67e4",
   "metadata": {},
   "outputs": [
    {
     "data": {
      "text/plain": [
       "5850"
      ]
     },
     "execution_count": 90,
     "metadata": {},
     "output_type": "execute_result"
    }
   ],
   "source": [
    "len(y_pred)"
   ]
  },
  {
   "cell_type": "code",
   "execution_count": 93,
   "id": "d72e3150-50f0-4d61-9111-82d7d469a7f4",
   "metadata": {},
   "outputs": [
    {
     "name": "stdout",
     "output_type": "stream",
     "text": [
      "  TN      FN     TP     FP\n",
      "[4484.  181.  386.  799.]\n"
     ]
    }
   ],
   "source": [
    "rate = rates(y_test,y_pred)\n",
    "print(\"  TN      FN     TP     FP\")\n",
    "print(rate)"
   ]
  },
  {
   "cell_type": "code",
   "execution_count": 94,
   "id": "d6a8ac6c",
   "metadata": {},
   "outputs": [
    {
     "name": "stdout",
     "output_type": "stream",
     "text": [
      "true positive rate: 0.6807760141093474\n",
      "true negative rate: 0.848760174143479\n",
      "positive predictive value: 0.32573839662447257\n",
      "negative predictive value: 0.9612004287245445\n",
      "false positive rate: 0.1512398258565209\n",
      "false negative rate: 0.31922398589065254\n",
      "false discovery rate: 0.6742616033755274\n",
      "Overall accuracy: 0.8324786324786325\n"
     ]
    }
   ],
   "source": [
    "TN = rate[0]\n",
    "FN = rate[1]\n",
    "TP = rate[2]\n",
    "FP = rate[3]\n",
    "\n",
    "# Sensitivity, hit rate, recall, or true positive rate\n",
    "TPR_test = TP/(TP+FN)\n",
    "print(\"true positive rate:\",TPR_test)\n",
    "# Specificity or true negative rate\n",
    "TNR_test = TN/(TN+FP) \n",
    "print(\"true negative rate:\",TNR_test)\n",
    "# Precision or positive predictive value\n",
    "PPV_test = TP/(TP+FP)\n",
    "print(\"positive predictive value:\",PPV_test)\n",
    "# Negative predictive value\n",
    "NPV_test = TN/(TN+FN)\n",
    "print(\"negative predictive value:\",NPV_test)\n",
    "# Fall out or false positive rate\n",
    "FPR_test = FP/(FP+TN)\n",
    "print(\"false positive rate:\",FPR_test)\n",
    "# False negative rate\n",
    "FNR_test = FN/(TP+FN)\n",
    "print(\"false negative rate:\",FNR_test)\n",
    "# False discovery rate\n",
    "FDR_test = FP/(TP+FP)\n",
    "print(\"false discovery rate:\",FDR_test)\n",
    "\n",
    "# Overall accuracy\n",
    "ACC_test = (TP+TN)/(TP+FP+FN+TN)\n",
    "print(\"Overall accuracy:\",ACC_test)"
   ]
  },
  {
   "cell_type": "markdown",
   "id": "e2cf545e",
   "metadata": {},
   "source": [
    "# Validation Phase"
   ]
  },
  {
   "cell_type": "code",
   "execution_count": 95,
   "id": "6a651c69",
   "metadata": {},
   "outputs": [],
   "source": [
    "#Predict on validation set\n",
    "X_valid_1 = np.concatenate((X_test_lsbg,X_test_art)) \n",
    "y_valid = np.concatenate((y_test_lsbg,y_test_art))\n",
    "\n",
    "y_pred = simple_classifier(X_valid_1)"
   ]
  },
  {
   "cell_type": "code",
   "execution_count": 96,
   "id": "754acb2a",
   "metadata": {},
   "outputs": [],
   "source": [
    "#Generate predicted positive population\n",
    "pp_bin1 = len(y_pred[y_pred == 1.])"
   ]
  },
  {
   "cell_type": "code",
   "execution_count": 97,
   "id": "38a7fbbf",
   "metadata": {},
   "outputs": [
    {
     "name": "stdout",
     "output_type": "stream",
     "text": [
      "Estimated TPs and FNs: 559.3443037974683\n",
      "Actual TPs and FNs: 568\n",
      "Total sample size: 5852\n"
     ]
    }
   ],
   "source": [
    "#Check it out and hope for the best :)\n",
    "P_bin1 = pp_bin1 * (PPV_test/TPR_test)\n",
    "\n",
    "\n",
    "print('Estimated TPs and FNs:',P_bin1)\n",
    "print('Actual TPs and FNs:', len(y_valid[y_valid == 1.]))\n",
    "print('Total sample size:', len(y_pred))"
   ]
  },
  {
   "cell_type": "code",
   "execution_count": 98,
   "id": "d3f72f7d",
   "metadata": {},
   "outputs": [
    {
     "name": "stdout",
     "output_type": "stream",
     "text": [
      "  TN      FN     TP     FP\n",
      "[4502.  181.  387.  782.]\n"
     ]
    }
   ],
   "source": [
    "rate = rates(y_valid,y_pred)\n",
    "print(\"  TN      FN     TP     FP\")\n",
    "print(rate)"
   ]
  },
  {
   "cell_type": "code",
   "execution_count": 99,
   "id": "6991aa2e",
   "metadata": {},
   "outputs": [
    {
     "name": "stdout",
     "output_type": "stream",
     "text": [
      "true positive rate: 0.6813380281690141\n",
      "true negative rate: 0.852006056018168\n",
      "positive predictive value: 0.33105218135158254\n",
      "negative predictive value: 0.9613495622464232\n",
      "false positive rate: 0.14799394398183194\n",
      "false negative rate: 0.31866197183098594\n",
      "false discovery rate: 0.6689478186484175\n",
      "Overall accuracy: 0.8354408749145591\n"
     ]
    }
   ],
   "source": [
    "TN = rate[0]\n",
    "FN = rate[1]\n",
    "TP = rate[2]\n",
    "FP = rate[3]\n",
    "\n",
    "# Sensitivity, hit rate, recall, or true positive rate\n",
    "TPR_valid = TP/(TP+FN)\n",
    "print(\"true positive rate:\",TPR_valid)\n",
    "# Specificity or true negative rate\n",
    "TNR_valid = TN/(TN+FP) \n",
    "print(\"true negative rate:\",TNR_valid)\n",
    "# Precision or positive predictive value\n",
    "PPV_valid = TP/(TP+FP)\n",
    "print(\"positive predictive value:\",PPV_valid)\n",
    "# Negative predictive value\n",
    "NPV_valid = TN/(TN+FN)\n",
    "print(\"negative predictive value:\",NPV_valid)\n",
    "# Fall out or false positive rate\n",
    "FPR_valid = FP/(FP+TN)\n",
    "print(\"false positive rate:\",FPR_valid)\n",
    "# False negative rate\n",
    "FNR_valid = FN/(TP+FN)\n",
    "print(\"false negative rate:\",FNR_valid)\n",
    "# False discovery rate\n",
    "FDR_valid= FP/(TP+FP)\n",
    "print(\"false discovery rate:\",FDR_valid)\n",
    "\n",
    "# Overall accuracy\n",
    "ACC_valid = (TP+TN)/(TP+FP+FN+TN)\n",
    "print(\"Overall accuracy:\",ACC_valid)\n"
   ]
  },
  {
   "cell_type": "markdown",
   "id": "b1454e3b",
   "metadata": {},
   "source": [
    "# Evaluation Phase"
   ]
  },
  {
   "cell_type": "code",
   "execution_count": 100,
   "id": "3798cf7d",
   "metadata": {},
   "outputs": [],
   "source": [
    "sel = (ft.read('/data/des80.b/data/burcinmp/y6_lsbg/y6/v2/y6_gold_2_0_lsb_skim.fits')['MU_MEAN_MODEL_G'] < 27.0)\n",
    "eval_set = ft.read('/data/des80.b/data/burcinmp/y6_lsbg/y6/v2/y6_gold_2_0_lsb_skim.fits')\n",
    "#X_evaluation_feat = eval_set['MAG_AUTO_G'][sel]\n",
    "X_evaluation_feat = np.column_stack((eval_set['MAG_AUTO_G'][sel],eval_set['MU_MEAN_MODEL_G'][sel],\n",
    "                                     eval_set['MU_EFF_MODEL_G'][sel],eval_set['MAG_AUTO_R'][sel],\n",
    "                                     eval_set['MAG_AUTO_I'][sel]))\n"
   ]
  },
  {
   "cell_type": "code",
   "execution_count": 101,
   "id": "bf5038c3",
   "metadata": {},
   "outputs": [],
   "source": [
    "y_eval_pred = simple_classifier(X_evaluation_feat)"
   ]
  },
  {
   "cell_type": "code",
   "execution_count": 102,
   "id": "82f50cd4",
   "metadata": {},
   "outputs": [],
   "source": [
    "pp_bin1 = len(y_eval_pred[y_eval_pred == 1.])"
   ]
  },
  {
   "cell_type": "code",
   "execution_count": 103,
   "id": "ae4cf1ba",
   "metadata": {},
   "outputs": [],
   "source": [
    "P_bin1 = pp_bin1 * (PPV_test/TPR_test)"
   ]
  },
  {
   "cell_type": "code",
   "execution_count": 107,
   "id": "bf749182",
   "metadata": {},
   "outputs": [
    {
     "name": "stdout",
     "output_type": "stream",
     "text": [
      "Estimated TPs and FNs: 51300.3417721519\n",
      "PP: 107215\n",
      "Total sample size: 609783\n",
      "Missed LSBGs: 16376.299578059072\n"
     ]
    }
   ],
   "source": [
    "print('Estimated TPs and FNs:',P_bin1)\n",
    "print('PP:',pp_bin1)\n",
    "print('Total sample size:', len(y_eval_pred))\n",
    "print('Missed LSBGs:',FNR_test*P_bin1)"
   ]
  },
  {
   "cell_type": "code",
   "execution_count": null,
   "id": "daa0d124",
   "metadata": {},
   "outputs": [],
   "source": []
  },
  {
   "cell_type": "code",
   "execution_count": null,
   "id": "936b2504",
   "metadata": {},
   "outputs": [],
   "source": []
  },
  {
   "cell_type": "markdown",
   "id": "b4639bb3",
   "metadata": {},
   "source": [
    "#   "
   ]
  },
  {
   "cell_type": "markdown",
   "id": "efd8bb0c",
   "metadata": {},
   "source": [
    "# ============= WORK SPACE =================="
   ]
  },
  {
   "cell_type": "code",
   "execution_count": null,
   "id": "c125715b",
   "metadata": {},
   "outputs": [],
   "source": [
    "from bayesian_efficiency import confidenceInterval\n",
    "\n",
    "eff_FPR, confidence_FPR = confidenceInterval(n=FP+TN,k=FP)\n",
    "bu_FPR = np.array((confidence_FPR[1]-confidence_FPR[0])/2)\n",
    "print('Lower:',confidence_FPR[0])\n",
    "print('Upper:',confidence_FPR[1])\n",
    "print('Margin of error:',(confidence_FPR[1]-confidence_FPR[0])/2)\n",
    "print()\n",
    "\n",
    "eff_TPR, confidence_TPR = confidenceInterval(n=TP+FN,k=TP)\n",
    "bu_TPR = np.array((confidence_TPR[1]-confidence_TPR[0])/2)\n",
    "print('Lower:',confidence_TPR[0])\n",
    "print('Upper:',confidence_TPR[1])\n",
    "print('Margin of error:',(confidence_TPR[1]-confidence_TPR[0])/2)\n",
    "print()\n",
    "\n",
    "eff_PP, confidence_PP = confidenceInterval(n=TP+FP+TN+FN,k=TP+FP)\n",
    "bu_pp = np.array((confidence_TPR[1]-confidence_TPR[0])/2)\n",
    "\n",
    "print('Lower:',confidence_PP[0])\n",
    "print('Upper:',confidence_PP[1])\n",
    "print('Margin of error:',(confidence_PP[1]-confidence_PP[0])/2)\n",
    "print()\n",
    "\n",
    "err_num = np.sqrt(( (confidence_FPR[1]-eff_TPR) * len(y_pred) )**2 + (confidence_PP[1]-eff_PP)**2 ) \n",
    "\n",
    "err_denom = np.sqrt( (confidence_TPR[1]-eff_TPR)**2 + (confidence_TPR[1]-eff_TPR)**2)\n",
    "\n",
    "num = (pp_bin1 - (FPR_test * len(y_eval_pred)))\n",
    "denom = (TPR_test - FPR_test)\n",
    "\n",
    "P_err = np.array(P_bin1 * np.sqrt( (err_num/num)**2 + (err_denom/denom)**2))\n",
    "print(int(P_err))"
   ]
  },
  {
   "cell_type": "code",
   "execution_count": null,
   "id": "819cd7ef",
   "metadata": {},
   "outputs": [],
   "source": [
    "randomstates = np.random.randint(1,100,size=100)\n",
    "for i in randomstates:\n",
    "    #Split up LSBGs and aritfacts into test and validation\n",
    "\n",
    "    index_real=(y_lab_real==1)\n",
    "    index_art=(y_lab_real==0)\n",
    "\n",
    "    X_art = X_feat_real[index_art]\n",
    "    X_lsbg = X_feat_real[index_real]\n",
    "\n",
    "    y_art = y_lab_real[index_art]\n",
    "    y_lsbg = y_lab_real[index_real]\n",
    "\n",
    "    X_train_art, X_test_art, y_train_art, y_test_art = train_test_split(X_art, y_art,\n",
    "                                                                            train_size = 0.50, random_state = i)\n",
    "    X_train_lsbg, X_test_lsbg, y_train_lsbg, y_test_lsbg = train_test_split(X_lsbg, y_lsbg,\n",
    "                                                                            train_size = 0.50, random_state = i)\n",
    "\n",
    "    X_test_1 = np.concatenate((X_train_lsbg,X_train_art)) \n",
    "    y_test = np.concatenate((np.ones(len(X_train_lsbg)),np.zeros(len(X_train_art))))\n",
    "\n",
    "    y_pred = simple_classifier(X_test_1)\n",
    "\n",
    "    rate = rates(y_test,y_pred)\n",
    "    TN = rate[0]\n",
    "    FN = rate[1]\n",
    "    TP = rate[2]\n",
    "    FP = rate[3]\n",
    "\n",
    "    # Sensitivity, hit rate, recall, or true positive rate\n",
    "    TPR_bin1_1 = TP/(TP+FN)\n",
    "    # Specificity or true negative rate\n",
    "    TNR_bin1_1 = TN/(TN+FP) \n",
    "    # Precision or positive predictive value\n",
    "    PPV_bin1_1 = TP/(TP+FP)\n",
    "    # Negative predictive value\n",
    "    NPV_bin1_1 = TN/(TN+FN)\n",
    "    # Fall out or false positive rate\n",
    "    FPR_bin1_1 = FP/(FP+TN)\n",
    "    # False negative rate\n",
    "    FNR_bin1_1 = FN/(TP+FN)\n",
    "    # False discovery rate\n",
    "    FDR_bin1_1 = FP/(TP+FP)\n",
    "\n",
    "    # Overall accuracy\n",
    "    ACC_bin1_1 = (TP+TN)/(TP+FP+FN+TN)\n",
    "\n",
    "    TNR_test = np.append(TNR_test,TNR_bin1_1)\n",
    "\n",
    "    #Predict on validation set\n",
    "    X_valid_1 = np.concatenate((X_test_lsbg,X_test_art)) \n",
    "    y_valid = np.concatenate((np.ones(len(X_test_lsbg)),np.zeros(len(X_test_art))))\n",
    "\n",
    "    y_pred = simple_classifier(X_valid_1)\n",
    "\n",
    "    #Generate predicted positive population\n",
    "    pp_bin1 = len(y_pred[y_pred == 1.])\n",
    "\n",
    "    #Check it out and hope for the best :)\n",
    "    P_bin1 = (pp_bin1 - (FPR_bin1_1 * len(y_pred))) / (TPR_bin1_1 - FPR_bin1_1)\n",
    "    \n",
    "    rate = rates(y_valid,y_pred)\n",
    "\n",
    "    TN = rate[0]\n",
    "    FN = rate[1]\n",
    "    TP = rate[2]\n",
    "    FP = rate[3]\n",
    "\n",
    "    # Sensitivity, hit rate, recall, or true positive rate\n",
    "    TPR_bin1_1 = TP/(TP+FN)\n",
    "    # Specificity or true negative rate\n",
    "    TNR_bin1_1 = TN/(TN+FP) \n",
    "    # Precision or positive predictive value\n",
    "    PPV_bin1_1 = TP/(TP+FP)\n",
    "    # Negative predictive value\n",
    "    NPV_bin1_1 = TN/(TN+FN)\n",
    "    # Fall out or false positive rate\n",
    "    FPR_bin1_1 = FP/(FP+TN)\n",
    "    # False negative rate\n",
    "    FNR_bin1_1 = FN/(TP+FN)\n",
    "    # False discovery rate\n",
    "    FDR_bin1_1 = FP/(TP+FP)\n",
    "    # Overall accuracy\n",
    "    ACC_bin1_1 = (TP+TN)/(TP+FP+FN+TN)\n",
    "\n",
    "    TNR_valid = np.append(TNR_valid,TNR_bin1_1)\n",
    "    \n",
    "    y_eval_pred = simple_classifier(X_evaluation_feat)\n",
    "    pp_bin1 = len(y_eval_pred[y_eval_pred == 1.])\n",
    "    P_bin1 = (pp_bin1 - (FPR_bin1_1 * len(y_eval_pred))) / (TPR_bin1_1 - FPR_bin1_1)\n",
    "    \n",
    "    \n",
    "    \n",
    "    \n",
    "    \n",
    "    \n",
    "    from bayesian_efficiency import confidenceInterval\n",
    "\n",
    "    eff_FPR, confidence_FPR = confidenceInterval(n=FP+TN,k=FP)\n",
    "    bu_FPR = np.append(bu_FPR,(confidence_FPR[1]-confidence_FPR[0])/2)\n",
    "\n",
    "\n",
    "    eff_TPR, confidence_TPR = confidenceInterval(n=TP+FN,k=TP)\n",
    "    bu_TPR = np.append(bu_TPR,(confidence_TPR[1]-confidence_TPR[0])/2)\n",
    "\n",
    "    eff_PP, confidence_PP = confidenceInterval(n=TP+FP+TN+FN,k=TP+FP)\n",
    "    bu_pp = np.append(bu_pp,(confidence_PP[1]-confidence_PP[0])/2)\n",
    "\n",
    "\n",
    "\n",
    "    err_num = np.sqrt(( (confidence_FPR[1]-eff_TPR) * len(y_pred) )**2 + (confidence_PP[1]-eff_PP)**2 ) \n",
    "\n",
    "    err_denom = np.sqrt( (confidence_TPR[1]-eff_TPR)**2 + (confidence_TPR[1]-eff_TPR)**2)\n",
    "\n",
    "    num = (pp_bin1 - (FPR_bin1_1 * len(y_eval_pred)))\n",
    "    denom = (TPR_bin1_1 - FPR_bin1_1)\n",
    "\n",
    "    P_err = np.append(P_err,P_bin1 * np.sqrt( (err_num/num)**2 + (err_denom/denom)**2))\n",
    "\n",
    "\n",
    "\n"
   ]
  },
  {
   "cell_type": "code",
   "execution_count": null,
   "id": "64b0bf8a",
   "metadata": {},
   "outputs": [],
   "source": [
    "print('=======Underlying Population Error======')\n",
    "print('Average:',np.average(P_err))\n",
    "print('Standard Deviation:',np.std(P_err))\n",
    "print()\n",
    "print('=========FPR Uncertainty================')\n",
    "print('Average:',np.average(bu_FPR))\n",
    "print('Standard Deviation:',np.std(bu_FPR))\n",
    "print()\n",
    "print('===========TPR Uncertainty==============')\n",
    "print('Average:',np.average(bu_TPR))\n",
    "print('Standard Deviation:',np.std(bu_TPR))"
   ]
  },
  {
   "cell_type": "code",
   "execution_count": null,
   "id": "a0fd6ca2",
   "metadata": {},
   "outputs": [],
   "source": []
  },
  {
   "cell_type": "code",
   "execution_count": null,
   "id": "4241cc08",
   "metadata": {},
   "outputs": [],
   "source": [
    "print('===========Test============')\n",
    "print('Average:',np.average(TNR_test))\n",
    "print('Standard Deviation:',np.std(TNR_test))\n",
    "print()\n",
    "print('=========Validation========')\n",
    "print('Average:',np.average(TNR_valid))\n",
    "print('Standard Deviation:',np.std(TNR_valid))\n",
    "print()\n",
    "print('========Combined===========')\n",
    "print('Average:',np.average(np.concatenate((TNR_test,TNR_valid))))\n",
    "print('Standard Deviation:',np.std(np.concatenate((TNR_test,TNR_valid))))"
   ]
  },
  {
   "cell_type": "markdown",
   "id": "30f1222b",
   "metadata": {},
   "source": []
  },
  {
   "cell_type": "markdown",
   "id": "503979b4",
   "metadata": {},
   "source": [
    "## random state = 1"
   ]
  },
  {
   "cell_type": "code",
   "execution_count": null,
   "id": "f202cd5b",
   "metadata": {},
   "outputs": [],
   "source": [
    "#Split up LSBGs and aritfacts into test and validation\n",
    "\n",
    "index_real=(y_lab_real==1)\n",
    "index_art=(y_lab_real==0)\n",
    "\n",
    "X_art = X_feat_real[index_art]\n",
    "X_lsbg = X_feat_real[index_real]\n",
    "\n",
    "y_art = y_lab_real[index_art]\n",
    "y_lsbg = y_lab_real[index_real]\n",
    "\n",
    "X_train_art, X_test_art, y_train_art, y_test_art = train_test_split(X_art, y_art,\n",
    "                                                                        train_size = 0.50, random_state = 1)\n",
    "X_train_lsbg, X_test_lsbg, y_train_lsbg, y_test_lsbg = train_test_split(X_lsbg, y_lsbg,\n",
    "                                                                        train_size = 0.50, random_state = 1)\n",
    "\n",
    "\n",
    "print('===========Train==Test')\n",
    "print(\"ARTIFACTS:\",len(X_train_art), len(X_test_art))\n",
    "print(\"LSBGs    :\",len(X_train_lsbg), len(X_test_lsbg))\n",
    "\n",
    "print()\n",
    "print()\n",
    "print()\n",
    "print()\n",
    "\n",
    "X_test_1 = np.concatenate((X_train_lsbg,X_train_art)) \n",
    "y_test = np.concatenate((np.ones(len(X_train_lsbg)),np.zeros(len(X_train_art))))\n",
    "\n",
    "y_pred = simple_classifier(X_test_1)\n",
    "\n",
    "rate = rates(y_test,y_pred)\n",
    "print(\"  TN      FN     TP     FP\")\n",
    "print(rate)\n",
    "print()\n",
    "print()\n",
    "TN = rate[0]\n",
    "FN = rate[1]\n",
    "TP = rate[2]\n",
    "FP = rate[3]\n",
    "\n",
    "# Sensitivity, hit rate, recall, or true positive rate\n",
    "TPR_bin1_1 = TP/(TP+FN)\n",
    "print(\"true positive rate:\",TPR_bin1_1)\n",
    "# Specificity or true negative rate\n",
    "TNR_bin1_1 = TN/(TN+FP) \n",
    "print(\"true negative rate:\",TNR_bin1_1)\n",
    "# Precision or positive predictive value\n",
    "PPV_bin1_1 = TP/(TP+FP)\n",
    "print(\"positive predictive value:\",PPV_bin1_1)\n",
    "# Negative predictive value\n",
    "NPV_bin1_1 = TN/(TN+FN)\n",
    "print(\"negative predictive value:\",NPV_bin1_1)\n",
    "# Fall out or false positive rate\n",
    "FPR_bin1_1 = FP/(FP+TN)\n",
    "print(\"false positive rate:\",FPR_bin1_1)\n",
    "# False negative rate\n",
    "FNR_bin1_1 = FN/(TP+FN)\n",
    "print(\"false negative rate:\",FNR_bin1_1)\n",
    "# False discovery rate\n",
    "FDR_bin1_1 = FP/(TP+FP)\n",
    "print(\"false discovery rate:\",FDR_bin1_1)\n",
    "\n",
    "# Overall accuracy\n",
    "ACC_bin1_1 = (TP+TN)/(TP+FP+FN+TN)\n",
    "print(\"Overall accuracy:\",ACC_bin1_1)\n",
    "\n",
    "TPR_test = np.append(TPR_test,TPR_bin1_1)\n",
    "\n",
    "#Predict on validation set\n",
    "X_valid_1 = np.concatenate((X_test_lsbg,X_test_art)) \n",
    "y_valid = np.concatenate((np.ones(len(X_test_lsbg)),np.zeros(len(X_test_art))))\n",
    "\n",
    "y_pred = simple_classifier(X_valid_1)\n",
    "\n",
    "#Generate predicted positive population\n",
    "pp_bin1 = len(y_pred[y_pred == 1.])\n",
    "\n",
    "#Check it out and hope for the best :)\n",
    "P_bin1 = (pp_bin1 - (FPR_bin1_1 * len(y_pred))) / (TPR_bin1_1 - FPR_bin1_1)\n",
    "\n",
    "print('===========================VALIDATION===============================')\n",
    "\n",
    "print('Predicted positives:',P_bin1)\n",
    "print('Actual positives:', len(y_valid[y_valid == 1.]))\n",
    "print('Total sample size:', len(y_pred))\n",
    "print()\n",
    "print()\n",
    "print()\n",
    "\n",
    "rate = rates(y_valid,y_pred)\n",
    "print(\"  TN      FN     TP     FP\")\n",
    "print(rate)\n",
    "print()\n",
    "print()\n",
    "TN = rate[0]\n",
    "FN = rate[1]\n",
    "TP = rate[2]\n",
    "FP = rate[3]\n",
    "\n",
    "# Sensitivity, hit rate, recall, or true positive rate\n",
    "TPR_bin1_1 = TP/(TP+FN)\n",
    "print(\"true positive rate:\",TPR_bin1_1)\n",
    "# Specificity or true negative rate\n",
    "TNR_bin1_1 = TN/(TN+FP) \n",
    "print(\"true negative rate:\",TNR_bin1_1)\n",
    "# Precision or positive predictive value\n",
    "PPV_bin1_1 = TP/(TP+FP)\n",
    "print(\"positive predictive value:\",PPV_bin1_1)\n",
    "# Negative predictive value\n",
    "NPV_bin1_1 = TN/(TN+FN)\n",
    "print(\"negative predictive value:\",NPV_bin1_1)\n",
    "# Fall out or false positive rate\n",
    "FPR_bin1_1 = FP/(FP+TN)\n",
    "print(\"false positive rate:\",FPR_bin1_1)\n",
    "# False negative rate\n",
    "FNR_bin1_1 = FN/(TP+FN)\n",
    "print(\"false negative rate:\",FNR_bin1_1)\n",
    "# False discovery rate\n",
    "FDR_bin1_1 = FP/(TP+FP)\n",
    "print(\"false discovery rate:\",FDR_bin1_1)\n",
    "\n",
    "# Overall accuracy\n",
    "ACC_bin1_1 = (TP+TN)/(TP+FP+FN+TN)\n",
    "print(\"Overall accuracy:\",ACC_bin1_1)\n",
    "\n",
    "TPR_valid = np.append(TPR_valid,TPR_bin1_1)\n",
    "\n"
   ]
  },
  {
   "cell_type": "markdown",
   "id": "20f9c31c",
   "metadata": {},
   "source": [
    "## Random State = 5"
   ]
  },
  {
   "cell_type": "code",
   "execution_count": null,
   "id": "542e8226",
   "metadata": {},
   "outputs": [],
   "source": [
    "#Split up LSBGs and aritfacts into test and validation\n",
    "\n",
    "index_real=(y_lab_real==1)\n",
    "index_art=(y_lab_real==0)\n",
    "\n",
    "X_art = X_feat_real[index_art]\n",
    "X_lsbg = X_feat_real[index_real]\n",
    "\n",
    "y_art = y_lab_real[index_art]\n",
    "y_lsbg = y_lab_real[index_real]\n",
    "\n",
    "X_train_art, X_test_art, y_train_art, y_test_art = train_test_split(X_art, y_art,\n",
    "                                                                        train_size = 0.50, random_state = 5)\n",
    "X_train_lsbg, X_test_lsbg, y_train_lsbg, y_test_lsbg = train_test_split(X_lsbg, y_lsbg,\n",
    "                                                                        train_size = 0.50, random_state = 5)\n",
    "\n",
    "\n",
    "print('===========Train==Test')\n",
    "print(\"ARTIFACTS:\",len(X_train_art), len(X_test_art))\n",
    "print(\"LSBGs    :\",len(X_train_lsbg), len(X_test_lsbg))\n",
    "\n",
    "print()\n",
    "print()\n",
    "print()\n",
    "print()\n",
    "\n",
    "X_test_1 = np.concatenate((X_train_lsbg,X_train_art)) \n",
    "y_test = np.concatenate((np.ones(len(X_train_lsbg)),np.zeros(len(X_train_art))))\n",
    "\n",
    "y_pred = simple_classifier(X_test_1)\n",
    "\n",
    "rate = rates(y_test,y_pred)\n",
    "print(\"  TN      FN     TP     FP\")\n",
    "print(rate)\n",
    "print()\n",
    "print()\n",
    "TN = rate[0]\n",
    "FN = rate[1]\n",
    "TP = rate[2]\n",
    "FP = rate[3]\n",
    "\n",
    "# Sensitivity, hit rate, recall, or true positive rate\n",
    "TPR_bin1_1 = TP/(TP+FN)\n",
    "print(\"true positive rate:\",TPR_bin1_1)\n",
    "# Specificity or true negative rate\n",
    "TNR_bin1_1 = TN/(TN+FP) \n",
    "print(\"true negative rate:\",TNR_bin1_1)\n",
    "# Precision or positive predictive value\n",
    "PPV_bin1_1 = TP/(TP+FP)\n",
    "print(\"positive predictive value:\",PPV_bin1_1)\n",
    "# Negative predictive value\n",
    "NPV_bin1_1 = TN/(TN+FN)\n",
    "print(\"negative predictive value:\",NPV_bin1_1)\n",
    "# Fall out or false positive rate\n",
    "FPR_bin1_1 = FP/(FP+TN)\n",
    "print(\"false positive rate:\",FPR_bin1_1)\n",
    "# False negative rate\n",
    "FNR_bin1_1 = FN/(TP+FN)\n",
    "print(\"false negative rate:\",FNR_bin1_1)\n",
    "# False discovery rate\n",
    "FDR_bin1_1 = FP/(TP+FP)\n",
    "print(\"false discovery rate:\",FDR_bin1_1)\n",
    "\n",
    "# Overall accuracy\n",
    "ACC_bin1_1 = (TP+TN)/(TP+FP+FN+TN)\n",
    "print(\"Overall accuracy:\",ACC_bin1_1)\n",
    "\n",
    "TPR_test = np.append(TPR_test,TPR_bin1_1)\n",
    "\n",
    "#Predict on validation set\n",
    "X_valid_1 = np.concatenate((X_test_lsbg,X_test_art)) \n",
    "y_valid = np.concatenate((np.ones(len(X_test_lsbg)),np.zeros(len(X_test_art))))\n",
    "\n",
    "y_pred = simple_classifier(X_valid_1)\n",
    "\n",
    "#Generate predicted positive population\n",
    "pp_bin1 = len(y_pred[y_pred == 1.])\n",
    "\n",
    "#Check it out and hope for the best :)\n",
    "P_bin1 = (pp_bin1 - (FPR_bin1_1 * len(y_pred))) / (TPR_bin1_1 - FPR_bin1_1)\n",
    "\n",
    "print('===========================VALIDATION===============================')\n",
    "\n",
    "print('Predicted positives:',P_bin1)\n",
    "print('Actual positives:', len(y_valid[y_valid == 1.]))\n",
    "print('Total sample size:', len(y_pred))\n",
    "print()\n",
    "print()\n",
    "print()\n",
    "\n",
    "rate = rates(y_valid,y_pred)\n",
    "print(\"  TN      FN     TP     FP\")\n",
    "print(rate)\n",
    "print()\n",
    "print()\n",
    "TN = rate[0]\n",
    "FN = rate[1]\n",
    "TP = rate[2]\n",
    "FP = rate[3]\n",
    "\n",
    "# Sensitivity, hit rate, recall, or true positive rate\n",
    "TPR_bin1_1 = TP/(TP+FN)\n",
    "print(\"true positive rate:\",TPR_bin1_1)\n",
    "# Specificity or true negative rate\n",
    "TNR_bin1_1 = TN/(TN+FP) \n",
    "print(\"true negative rate:\",TNR_bin1_1)\n",
    "# Precision or positive predictive value\n",
    "PPV_bin1_1 = TP/(TP+FP)\n",
    "print(\"positive predictive value:\",PPV_bin1_1)\n",
    "# Negative predictive value\n",
    "NPV_bin1_1 = TN/(TN+FN)\n",
    "print(\"negative predictive value:\",NPV_bin1_1)\n",
    "# Fall out or false positive rate\n",
    "FPR_bin1_1 = FP/(FP+TN)\n",
    "print(\"false positive rate:\",FPR_bin1_1)\n",
    "# False negative rate\n",
    "FNR_bin1_1 = FN/(TP+FN)\n",
    "print(\"false negative rate:\",FNR_bin1_1)\n",
    "# False discovery rate\n",
    "FDR_bin1_1 = FP/(TP+FP)\n",
    "print(\"false discovery rate:\",FDR_bin1_1)\n",
    "\n",
    "# Overall accuracy\n",
    "ACC_bin1_1 = (TP+TN)/(TP+FP+FN+TN)\n",
    "print(\"Overall accuracy:\",ACC_bin1_1)\n",
    "\n",
    "TPR_valid = np.append(TPR_valid,TPR_bin1_1)\n",
    "\n"
   ]
  },
  {
   "cell_type": "code",
   "execution_count": null,
   "id": "b8f7b4d2",
   "metadata": {},
   "outputs": [],
   "source": []
  }
 ],
 "metadata": {
  "kernelspec": {
   "display_name": "Python 3 (ipykernel)",
   "language": "python",
   "name": "python3"
  },
  "language_info": {
   "codemirror_mode": {
    "name": "ipython",
    "version": 3
   },
   "file_extension": ".py",
   "mimetype": "text/x-python",
   "name": "python",
   "nbconvert_exporter": "python",
   "pygments_lexer": "ipython3",
   "version": "3.10.5"
  }
 },
 "nbformat": 4,
 "nbformat_minor": 5
}
