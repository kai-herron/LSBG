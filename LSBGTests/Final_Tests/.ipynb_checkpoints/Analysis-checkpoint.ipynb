{
 "cells": [
  {
   "cell_type": "code",
   "execution_count": 41,
   "id": "1912a95b",
   "metadata": {},
   "outputs": [],
   "source": [
    "# Import basic packages\n",
    "import numpy as np\n",
    "import scipy as sp\n",
    "import pandas as pd\n",
    "from astropy.io import fits\n",
    "import fitsio as ft\n",
    "\n",
    "# ==== Scikit-learn =======================\n",
    "# Preprocessing\n",
    "from sklearn.preprocessing import StandardScaler #Standar scaler for standardization\n",
    "from sklearn.preprocessing import RobustScaler #Robust scaler for high dispersion\n",
    "from sklearn.model_selection import train_test_split # For random split\n",
    "\n",
    "# Classifiers\n",
    "from sklearn.svm import SVC\n",
    "from sklearn.ensemble import RandomForestClassifier\n",
    "\n",
    "# Metrics\n",
    "from sklearn.metrics import balanced_accuracy_score\n",
    "from sklearn.metrics import precision_score\n",
    "from sklearn.metrics import recall_score\n",
    "\n",
    "from sklearn.ensemble import RandomForestClassifier\n",
    "from sklearn.model_selection import RandomizedSearchCV, GridSearchCV\n",
    "from sklearn import metrics\n",
    "from sklearn.ensemble import RandomForestRegressor\n",
    "from pprint import pprint\n",
    "\n",
    "#Plotting\n",
    "from sklearn import datasets\n",
    "from sklearn.tree import DecisionTreeClassifier \n",
    "from sklearn import tree\n",
    "\n",
    "# ==========================================\n",
    "# Matplotlib, urlib etc \n",
    "import urllib\n",
    "import urllib.request\n",
    "import matplotlib\n",
    "import matplotlib.pyplot as plt\n",
    "from IPython.display import clear_output, display\n",
    "from PIL import Image\n",
    "from scipy.stats import kstest\n",
    "%matplotlib inline"
   ]
  },
  {
   "cell_type": "code",
   "execution_count": 42,
   "id": "9882ebf4",
   "metadata": {},
   "outputs": [],
   "source": [
    "y6_lsbgs = np.load(\"/data/des81.a/data/kherron/LSBG/Y6_FINAL/v3/y6_lsbg_FINAL.npy\")"
   ]
  },
  {
   "cell_type": "code",
   "execution_count": 43,
   "id": "4be8268f",
   "metadata": {},
   "outputs": [],
   "source": [
    "y3 = np.load(\"y3_indices.npy\")"
   ]
  },
  {
   "cell_type": "code",
   "execution_count": 44,
   "id": "fb80029d",
   "metadata": {},
   "outputs": [],
   "source": [
    "y6_gold = ft.read(\"/data/des80.b/data/burcinmp/y6_lsbg/y6/v2/y6_gold_2_0_lsb_skim.fits\")"
   ]
  },
  {
   "cell_type": "code",
   "execution_count": 45,
   "id": "0be0da24",
   "metadata": {},
   "outputs": [],
   "source": [
    "y3_lsbgs = y6_gold['COADD_OBJECT_ID'][y3]"
   ]
  },
  {
   "cell_type": "code",
   "execution_count": 46,
   "id": "36a0300e",
   "metadata": {},
   "outputs": [],
   "source": [
    "overlap = np.isin(y6_lsbgs,y3_lsbgs)"
   ]
  },
  {
   "cell_type": "code",
   "execution_count": 47,
   "id": "92cee65e",
   "metadata": {},
   "outputs": [
    {
     "data": {
      "text/plain": [
       "20325"
      ]
     },
     "execution_count": 47,
     "metadata": {},
     "output_type": "execute_result"
    }
   ],
   "source": [
    "len(overlap[overlap==True])"
   ]
  },
  {
   "cell_type": "code",
   "execution_count": 48,
   "id": "e3855051",
   "metadata": {},
   "outputs": [
    {
     "data": {
      "text/plain": [
       "20331"
      ]
     },
     "execution_count": 48,
     "metadata": {},
     "output_type": "execute_result"
    }
   ],
   "source": [
    "len(y3)"
   ]
  },
  {
   "cell_type": "code",
   "execution_count": 49,
   "id": "1046485d",
   "metadata": {},
   "outputs": [
    {
     "data": {
      "text/plain": [
       "6"
      ]
     },
     "execution_count": 49,
     "metadata": {},
     "output_type": "execute_result"
    }
   ],
   "source": [
    "20331-20325"
   ]
  },
  {
   "cell_type": "code",
   "execution_count": 50,
   "id": "071fb1e0",
   "metadata": {},
   "outputs": [],
   "source": [
    "exclude = np.isin(y3_lsbgs,y6_lsbgs,invert=True)"
   ]
  },
  {
   "cell_type": "code",
   "execution_count": 51,
   "id": "ce303b8d",
   "metadata": {},
   "outputs": [
    {
     "data": {
      "text/plain": [
       "6"
      ]
     },
     "execution_count": 51,
     "metadata": {},
     "output_type": "execute_result"
    }
   ],
   "source": [
    "len(y3_lsbgs[exclude])"
   ]
  },
  {
   "cell_type": "code",
   "execution_count": 52,
   "id": "e32ec77d",
   "metadata": {},
   "outputs": [],
   "source": [
    "bad_lsbgs = y3_lsbgs[exclude]"
   ]
  },
  {
   "cell_type": "code",
   "execution_count": 53,
   "id": "e5226298",
   "metadata": {},
   "outputs": [
    {
     "data": {
      "text/plain": [
       "array([1392976553, 1396565842, 1409103031, 1406369800, 1393445934,\n",
       "       1408800753])"
      ]
     },
     "execution_count": 53,
     "metadata": {},
     "output_type": "execute_result"
    }
   ],
   "source": [
    "bad_lsbgs"
   ]
  },
  {
   "cell_type": "code",
   "execution_count": 20,
   "id": "89457b9f",
   "metadata": {},
   "outputs": [],
   "source": [
    "find = np.isin(y6_gold['COADD_OBJECT_ID'],bad_lsbgs)"
   ]
  },
  {
   "cell_type": "code",
   "execution_count": 26,
   "id": "843052ca",
   "metadata": {},
   "outputs": [
    {
     "data": {
      "text/plain": [
       "Text(0, 0.5, 'N')"
      ]
     },
     "execution_count": 26,
     "metadata": {},
     "output_type": "execute_result"
    },
    {
     "data": {
      "image/png": "[encoded data removed]",
      "text/plain": [
       "<Figure size 432x288 with 1 Axes>"
      ]
     },
     "metadata": {
      "needs_background": "light"
     },
     "output_type": "display_data"
    }
   ],
   "source": [
    "bins = np.linspace(24,28,30)\n",
    "plt.hist(y6_gold['MU_EFF_MODEL_G'][find],bins = bins)\n",
    "plt.xlabel('$\\mu_{eff,g}$')\n",
    "plt.ylabel('N')"
   ]
  },
  {
   "cell_type": "code",
   "execution_count": 29,
   "id": "d057366b",
   "metadata": {},
   "outputs": [
    {
     "data": {
      "text/plain": [
       "array([25.092392, 26.992786, 27.541338, 26.031176, 24.817528, 27.618187],\n",
       "      dtype=float32)"
      ]
     },
     "execution_count": 29,
     "metadata": {},
     "output_type": "execute_result"
    }
   ],
   "source": [
    "y6_gold['MU_EFF_MODEL_G'][find]"
   ]
  },
  {
   "cell_type": "code",
   "execution_count": 28,
   "id": "67f8c984",
   "metadata": {},
   "outputs": [
    {
     "data": {
      "text/plain": [
       "array([False])"
      ]
     },
     "execution_count": 28,
     "metadata": {},
     "output_type": "execute_result"
    }
   ],
   "source": [
    "np.isin([1111501245],y3_lsbgs)"
   ]
  },
  {
   "cell_type": "code",
   "execution_count": 31,
   "id": "33f29976",
   "metadata": {},
   "outputs": [],
   "source": [
    "import joblib\n",
    "rfc_fin = joblib.load('/data/des81.a/data/kherron/LSBG/Y6_FINAL/v3/classifier.pkl') #1st stage\n",
    "scaler_fin = joblib.load('/data/des81.a/data/kherron/LSBG/Y6_FINAL/v3/scaler.pkl') #1st stage"
   ]
  },
  {
   "cell_type": "code",
   "execution_count": 33,
   "id": "02327ba9",
   "metadata": {},
   "outputs": [],
   "source": [
    "eval_mat = np.load('/data/des81.a/data/kherron/LSBG/trainingfiles/training_ext/X_feat_eval.npy')"
   ]
  },
  {
   "cell_type": "code",
   "execution_count": 35,
   "id": "bfb532e8",
   "metadata": {},
   "outputs": [],
   "source": [
    "bad_lsbgs_feat = eval_mat[find]"
   ]
  },
  {
   "cell_type": "code",
   "execution_count": 64,
   "id": "268abee5",
   "metadata": {},
   "outputs": [
    {
     "ename": "ValueError",
     "evalue": "Expected 2D array, got 1D array instead:\narray=[ 0.22722292  1.32557678  0.99077988  0.33479691 20.46184921 19.47106934\n 19.13627243  2.52515697  2.26972651  2.21147943 23.25040817 21.98020935\n 21.51088142 25.051548   23.77649117 23.3098278  24.35146332 23.08073044\n 22.61179352].\nReshape your data either using array.reshape(-1, 1) if your data has a single feature or array.reshape(1, -1) if it contains a single sample.",
     "output_type": "error",
     "traceback": [
      "\u001b[0;31m---------------------------------------------------------------------------\u001b[0m",
      "\u001b[0;31mValueError\u001b[0m                                Traceback (most recent call last)",
      "Input \u001b[0;32mIn [64]\u001b[0m, in \u001b[0;36m<cell line: 1>\u001b[0;34m()\u001b[0m\n\u001b[0;32m----> 1\u001b[0m bad_feat \u001b[38;5;241m=\u001b[39m \u001b[43mscaler_fin\u001b[49m\u001b[38;5;241;43m.\u001b[39;49m\u001b[43mtransform\u001b[49m\u001b[43m(\u001b[49m\u001b[43mbad_lsbgs_feat\u001b[49m\u001b[43m[\u001b[49m\u001b[38;5;241;43m0\u001b[39;49m\u001b[43m,\u001b[49m\u001b[43m:\u001b[49m\u001b[43m]\u001b[49m\u001b[43m)\u001b[49m\n",
      "File \u001b[0;32m~/mambaforge/envs/apsenv/lib/python3.10/site-packages/sklearn/preprocessing/_data.py:975\u001b[0m, in \u001b[0;36mStandardScaler.transform\u001b[0;34m(self, X, copy)\u001b[0m\n\u001b[1;32m    972\u001b[0m check_is_fitted(\u001b[38;5;28mself\u001b[39m)\n\u001b[1;32m    974\u001b[0m copy \u001b[38;5;241m=\u001b[39m copy \u001b[38;5;28;01mif\u001b[39;00m copy \u001b[38;5;129;01mis\u001b[39;00m \u001b[38;5;129;01mnot\u001b[39;00m \u001b[38;5;28;01mNone\u001b[39;00m \u001b[38;5;28;01melse\u001b[39;00m \u001b[38;5;28mself\u001b[39m\u001b[38;5;241m.\u001b[39mcopy\n\u001b[0;32m--> 975\u001b[0m X \u001b[38;5;241m=\u001b[39m \u001b[38;5;28;43mself\u001b[39;49m\u001b[38;5;241;43m.\u001b[39;49m\u001b[43m_validate_data\u001b[49m\u001b[43m(\u001b[49m\n\u001b[1;32m    976\u001b[0m \u001b[43m    \u001b[49m\u001b[43mX\u001b[49m\u001b[43m,\u001b[49m\n\u001b[1;32m    977\u001b[0m \u001b[43m    \u001b[49m\u001b[43mreset\u001b[49m\u001b[38;5;241;43m=\u001b[39;49m\u001b[38;5;28;43;01mFalse\u001b[39;49;00m\u001b[43m,\u001b[49m\n\u001b[1;32m    978\u001b[0m \u001b[43m    \u001b[49m\u001b[43maccept_sparse\u001b[49m\u001b[38;5;241;43m=\u001b[39;49m\u001b[38;5;124;43m\"\u001b[39;49m\u001b[38;5;124;43mcsr\u001b[39;49m\u001b[38;5;124;43m\"\u001b[39;49m\u001b[43m,\u001b[49m\n\u001b[1;32m    979\u001b[0m \u001b[43m    \u001b[49m\u001b[43mcopy\u001b[49m\u001b[38;5;241;43m=\u001b[39;49m\u001b[43mcopy\u001b[49m\u001b[43m,\u001b[49m\n\u001b[1;32m    980\u001b[0m \u001b[43m    \u001b[49m\u001b[43mdtype\u001b[49m\u001b[38;5;241;43m=\u001b[39;49m\u001b[43mFLOAT_DTYPES\u001b[49m\u001b[43m,\u001b[49m\n\u001b[1;32m    981\u001b[0m \u001b[43m    \u001b[49m\u001b[43mforce_all_finite\u001b[49m\u001b[38;5;241;43m=\u001b[39;49m\u001b[38;5;124;43m\"\u001b[39;49m\u001b[38;5;124;43mallow-nan\u001b[39;49m\u001b[38;5;124;43m\"\u001b[39;49m\u001b[43m,\u001b[49m\n\u001b[1;32m    982\u001b[0m \u001b[43m\u001b[49m\u001b[43m)\u001b[49m\n\u001b[1;32m    984\u001b[0m \u001b[38;5;28;01mif\u001b[39;00m sparse\u001b[38;5;241m.\u001b[39missparse(X):\n\u001b[1;32m    985\u001b[0m     \u001b[38;5;28;01mif\u001b[39;00m \u001b[38;5;28mself\u001b[39m\u001b[38;5;241m.\u001b[39mwith_mean:\n",
      "File \u001b[0;32m~/mambaforge/envs/apsenv/lib/python3.10/site-packages/sklearn/base.py:577\u001b[0m, in \u001b[0;36mBaseEstimator._validate_data\u001b[0;34m(self, X, y, reset, validate_separately, **check_params)\u001b[0m\n\u001b[1;32m    575\u001b[0m     \u001b[38;5;28;01mraise\u001b[39;00m \u001b[38;5;167;01mValueError\u001b[39;00m(\u001b[38;5;124m\"\u001b[39m\u001b[38;5;124mValidation should be done on X, y or both.\u001b[39m\u001b[38;5;124m\"\u001b[39m)\n\u001b[1;32m    576\u001b[0m \u001b[38;5;28;01melif\u001b[39;00m \u001b[38;5;129;01mnot\u001b[39;00m no_val_X \u001b[38;5;129;01mand\u001b[39;00m no_val_y:\n\u001b[0;32m--> 577\u001b[0m     X \u001b[38;5;241m=\u001b[39m \u001b[43mcheck_array\u001b[49m\u001b[43m(\u001b[49m\u001b[43mX\u001b[49m\u001b[43m,\u001b[49m\u001b[43m \u001b[49m\u001b[43minput_name\u001b[49m\u001b[38;5;241;43m=\u001b[39;49m\u001b[38;5;124;43m\"\u001b[39;49m\u001b[38;5;124;43mX\u001b[39;49m\u001b[38;5;124;43m\"\u001b[39;49m\u001b[43m,\u001b[49m\u001b[43m \u001b[49m\u001b[38;5;241;43m*\u001b[39;49m\u001b[38;5;241;43m*\u001b[39;49m\u001b[43mcheck_params\u001b[49m\u001b[43m)\u001b[49m\n\u001b[1;32m    578\u001b[0m     out \u001b[38;5;241m=\u001b[39m X\n\u001b[1;32m    579\u001b[0m \u001b[38;5;28;01melif\u001b[39;00m no_val_X \u001b[38;5;129;01mand\u001b[39;00m \u001b[38;5;129;01mnot\u001b[39;00m no_val_y:\n",
      "File \u001b[0;32m~/mambaforge/envs/apsenv/lib/python3.10/site-packages/sklearn/utils/validation.py:879\u001b[0m, in \u001b[0;36mcheck_array\u001b[0;34m(array, accept_sparse, accept_large_sparse, dtype, order, copy, force_all_finite, ensure_2d, allow_nd, ensure_min_samples, ensure_min_features, estimator, input_name)\u001b[0m\n\u001b[1;32m    877\u001b[0m     \u001b[38;5;66;03m# If input is 1D raise error\u001b[39;00m\n\u001b[1;32m    878\u001b[0m     \u001b[38;5;28;01mif\u001b[39;00m array\u001b[38;5;241m.\u001b[39mndim \u001b[38;5;241m==\u001b[39m \u001b[38;5;241m1\u001b[39m:\n\u001b[0;32m--> 879\u001b[0m         \u001b[38;5;28;01mraise\u001b[39;00m \u001b[38;5;167;01mValueError\u001b[39;00m(\n\u001b[1;32m    880\u001b[0m             \u001b[38;5;124m\"\u001b[39m\u001b[38;5;124mExpected 2D array, got 1D array instead:\u001b[39m\u001b[38;5;130;01m\\n\u001b[39;00m\u001b[38;5;124marray=\u001b[39m\u001b[38;5;132;01m{}\u001b[39;00m\u001b[38;5;124m.\u001b[39m\u001b[38;5;130;01m\\n\u001b[39;00m\u001b[38;5;124m\"\u001b[39m\n\u001b[1;32m    881\u001b[0m             \u001b[38;5;124m\"\u001b[39m\u001b[38;5;124mReshape your data either using array.reshape(-1, 1) if \u001b[39m\u001b[38;5;124m\"\u001b[39m\n\u001b[1;32m    882\u001b[0m             \u001b[38;5;124m\"\u001b[39m\u001b[38;5;124myour data has a single feature or array.reshape(1, -1) \u001b[39m\u001b[38;5;124m\"\u001b[39m\n\u001b[1;32m    883\u001b[0m             \u001b[38;5;124m\"\u001b[39m\u001b[38;5;124mif it contains a single sample.\u001b[39m\u001b[38;5;124m\"\u001b[39m\u001b[38;5;241m.\u001b[39mformat(array)\n\u001b[1;32m    884\u001b[0m         )\n\u001b[1;32m    886\u001b[0m \u001b[38;5;28;01mif\u001b[39;00m dtype_numeric \u001b[38;5;129;01mand\u001b[39;00m array\u001b[38;5;241m.\u001b[39mdtype\u001b[38;5;241m.\u001b[39mkind \u001b[38;5;129;01min\u001b[39;00m \u001b[38;5;124m\"\u001b[39m\u001b[38;5;124mUSV\u001b[39m\u001b[38;5;124m\"\u001b[39m:\n\u001b[1;32m    887\u001b[0m     \u001b[38;5;28;01mraise\u001b[39;00m \u001b[38;5;167;01mValueError\u001b[39;00m(\n\u001b[1;32m    888\u001b[0m         \u001b[38;5;124m\"\u001b[39m\u001b[38;5;124mdtype=\u001b[39m\u001b[38;5;124m'\u001b[39m\u001b[38;5;124mnumeric\u001b[39m\u001b[38;5;124m'\u001b[39m\u001b[38;5;124m is not compatible with arrays of bytes/strings.\u001b[39m\u001b[38;5;124m\"\u001b[39m\n\u001b[1;32m    889\u001b[0m         \u001b[38;5;124m\"\u001b[39m\u001b[38;5;124mConvert your data to numeric values explicitly instead.\u001b[39m\u001b[38;5;124m\"\u001b[39m\n\u001b[1;32m    890\u001b[0m     )\n",
      "\u001b[0;31mValueError\u001b[0m: Expected 2D array, got 1D array instead:\narray=[ 0.22722292  1.32557678  0.99077988  0.33479691 20.46184921 19.47106934\n 19.13627243  2.52515697  2.26972651  2.21147943 23.25040817 21.98020935\n 21.51088142 25.051548   23.77649117 23.3098278  24.35146332 23.08073044\n 22.61179352].\nReshape your data either using array.reshape(-1, 1) if your data has a single feature or array.reshape(1, -1) if it contains a single sample."
     ]
    }
   ],
   "source": [
    "bad_feat = scaler_fin.transform(bad_lsbgs_feat[0,:])"
   ]
  },
  {
   "cell_type": "code",
   "execution_count": 71,
   "id": "c6f5357d",
   "metadata": {},
   "outputs": [],
   "source": [
    "indicators, index_by_tree = rfc_fin.decision_path(bad_lsbgs_feat[0,:].reshape(1, -1))\n",
    "indices = zip(index_by_tree, index_by_tree[1:])\n",
    "for tree_classifier, (begin, end) in zip(rfc_fin.estimators_, indices):\n",
    "    tree_1 = tree_classifier.tree_\n",
    "    node_indices = indicators[0, begin:end].indices"
   ]
  },
  {
   "cell_type": "code",
   "execution_count": 74,
   "id": "eec4806a",
   "metadata": {},
   "outputs": [],
   "source": [
    "from sklearn import tree"
   ]
  },
  {
   "cell_type": "code",
   "execution_count": null,
   "id": "358891c7",
   "metadata": {},
   "outputs": [],
   "source": []
  },
  {
   "cell_type": "code",
   "execution_count": 40,
   "id": "262fd815",
   "metadata": {},
   "outputs": [
    {
     "data": {
      "text/plain": [
       "array([ True])"
      ]
     },
     "execution_count": 40,
     "metadata": {},
     "output_type": "execute_result"
    }
   ],
   "source": [
    "np.isin([1125184335],y3_lsbgs)"
   ]
  },
  {
   "cell_type": "code",
   "execution_count": 57,
   "id": "668ba097",
   "metadata": {},
   "outputs": [
    {
     "name": "stdout",
     "output_type": "stream",
     "text": [
      "[     0   2571   5122   7821  10542  13253  15958  18577  21256  23803\n",
      "  26368  28983  31670  34283  36876  39643  42252  44829  47412  50037\n",
      "  52710  55327  57860  60465  63142  65789  68316  70973  73600  76061\n",
      "  78750  81421  83958  86541  89068  91717  94328  96939  99484 102167\n",
      " 104806 107361 110046 112745 115230 117953 120576 123077 125680 128313\n",
      " 130898 133601 136236 138775 141320 144115 146666 149241 151902 154547\n",
      " 157182 159795 162470 165075 167682 170429 173042 175673 178396 181101\n",
      " 183738 186323 188968 191433 193936 196647 199280 201867 204526 207153\n",
      " 209756 212397 215100 217751 220484 223071 225672 228215 230968 233601\n",
      " 236246 238989 241628 244301 246902 249547 252240 254813 257416 260001\n",
      " 262660]\n"
     ]
    }
   ],
   "source": [
    "print(m)"
   ]
  },
  {
   "cell_type": "code",
   "execution_count": null,
   "id": "2c336497",
   "metadata": {},
   "outputs": [],
   "source": []
  }
 ],
 "metadata": {
  "kernelspec": {
   "display_name": "Python 3 (ipykernel)",
   "language": "python",
   "name": "python3"
  },
  "language_info": {
   "codemirror_mode": {
    "name": "ipython",
    "version": 3
   },
   "file_extension": ".py",
   "mimetype": "text/x-python",
   "name": "python",
   "nbconvert_exporter": "python",
   "pygments_lexer": "ipython3",
   "version": "3.10.5"
  }
 },
 "nbformat": 4,
 "nbformat_minor": 5
}
