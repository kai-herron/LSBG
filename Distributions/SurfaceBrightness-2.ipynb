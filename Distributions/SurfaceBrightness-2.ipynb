{
 "cells": [
  {
   "cell_type": "code",
   "execution_count": 2,
   "id": "28809e65",
   "metadata": {},
   "outputs": [],
   "source": [
    "# Import basic packages\n",
    "import numpy as np\n",
    "import scipy as sp\n",
    "import pandas as pd\n",
    "from astropy.io import fits\n",
    "import fitsio as ft\n",
    "import os\n",
    "\n",
    "# ==========================================\n",
    "# Matplotlib, urlib etc \n",
    "import urllib\n",
    "import urllib.request\n",
    "import matplotlib\n",
    "import matplotlib.pyplot as plt\n",
    "from IPython.display import clear_output, display\n",
    "from PIL import Image\n",
    "%matplotlib inline"
   ]
  },
  {
   "cell_type": "code",
   "execution_count": 3,
   "id": "b862cae3",
   "metadata": {},
   "outputs": [],
   "source": [
    "randoms = np.load(\"/data/des81.a/data/kherron/LSBG/trainingfiles/X_randoms_feat.npy\")\n",
    "randoms_l = np.load(\"/data/des81.a/data/kherron/LSBG/trainingfiles/y_randoms_lab.npy\")\n",
    "burcin = np.load(\"/data/des80.b/data/burcinmp/y6_lsbg/y6/test_classifier/random_forest/v3/X_mat_v4_a.npy\")\n",
    "burcin_l = np.load(\"/data/des80.b/data/burcinmp/y6_lsbg/y6/test_classifier/random_forest/v3/y_lab_v4_a.npy\")\n"
   ]
  },
  {
   "cell_type": "code",
   "execution_count": 4,
   "id": "b6a09673",
   "metadata": {},
   "outputs": [
    {
     "data": {
      "text/plain": [
       "1.0"
      ]
     },
     "execution_count": 4,
     "metadata": {},
     "output_type": "execute_result"
    }
   ],
   "source": [
    "burcin_l[-1]"
   ]
  },
  {
   "cell_type": "code",
   "execution_count": 5,
   "id": "ec9d047e",
   "metadata": {},
   "outputs": [
    {
     "data": {
      "text/plain": [
       "array([ 0.13567279,  0.66271019,  0.45923996,  0.20347023, 18.88780785,\n",
       "       18.42856789, 18.22509766,  7.23004501,  7.30192346,  6.76399714,\n",
       "       23.85436821, 23.44228363, 22.99954796, 25.65700531, 25.24581146,\n",
       "       24.8053894 , 24.96035004, 24.54764175, 24.10549355])"
      ]
     },
     "execution_count": 5,
     "metadata": {},
     "output_type": "execute_result"
    }
   ],
   "source": [
    "burcin[-1]"
   ]
  },
  {
   "cell_type": "code",
   "execution_count": 6,
   "id": "74e7b633",
   "metadata": {},
   "outputs": [],
   "source": [
    "sel = (burcin_l == 1)\n",
    "burcin = burcin[sel]\n",
    "burcin_l = burcin_l[sel]"
   ]
  },
  {
   "cell_type": "code",
   "execution_count": 7,
   "id": "6bf591b8",
   "metadata": {},
   "outputs": [
    {
     "data": {
      "text/plain": [
       "array([ 0.13567279,  0.66271019,  0.45923996,  0.20347023, 18.88780785,\n",
       "       18.42856789, 18.22509766,  7.23004501,  7.30192346,  6.76399714,\n",
       "       23.85436821, 23.44228363, 22.99954796, 25.65700531, 25.24581146,\n",
       "       24.8053894 , 24.96035004, 24.54764175, 24.10549355])"
      ]
     },
     "execution_count": 7,
     "metadata": {},
     "output_type": "execute_result"
    }
   ],
   "source": [
    "burcin[-1]"
   ]
  },
  {
   "cell_type": "code",
   "execution_count": 8,
   "id": "c84978d3",
   "metadata": {},
   "outputs": [],
   "source": [
    "#Read in real skim data\n",
    "realSkim = ft.read('/data/des80.b/data/burcinmp/y6_lsbg/y6/v2/y6_gold_2_0_lsb_skim.fits')\n",
    "\n",
    "#Read in training matrices\n",
    "\n",
    "# Feature matrices\n",
    "trainDefault = np.load(\"/data/des80.b/data/burcinmp/y6_lsbg/y6/test_classifier/random_forest/v3/X_mat_v4_a.npy\")\n",
    "\n",
    "trainV3 = np.concatenate((np.load(\"/data/des80.b/data/burcinmp/y6_lsbg/y6/test_classifier/random_forest/v3/X_mat_v4_a.npy\"),\n",
    "                            np.load(\"/data/des81.a/data/kherron/LSBG/trainingfiles/X_randoms_feat.npy\"),\n",
    "                            np.load(\"/data/des81.a/data/kherron/LSBG/trainingfiles/X_conf_negative_feat.npy\")))\n",
    "trainV4 = np.concatenate((burcin,randoms))\n",
    "\n",
    "# Label matrices\n",
    "labelDefault = np.load(\"/data/des80.b/data/burcinmp/y6_lsbg/y6/test_classifier/random_forest/v3/y_lab_v4_a.npy\")\n",
    "\n",
    "labelV3 = np.concatenate((np.load(\"/data/des80.b/data/burcinmp/y6_lsbg/y6/test_classifier/random_forest/v3/y_lab_v4_a.npy\"),\n",
    "                             np.load(\"/data/des81.a/data/kherron/LSBG/trainingfiles/y_randoms_lab.npy\"),\n",
    "                             np.load(\"/data/des81.a/data/kherron/LSBG/trainingfiles/y_conf_negative_lab.npy\")))\n",
    "labelV4 = np.concatenate((burcin_l,randoms_l))\n"
   ]
  },
  {
   "cell_type": "code",
   "execution_count": 9,
   "id": "2a2dd219",
   "metadata": {},
   "outputs": [
    {
     "data": {
      "text/plain": [
       "array([0.])"
      ]
     },
     "execution_count": 9,
     "metadata": {},
     "output_type": "execute_result"
    }
   ],
   "source": [
    "np.unique(randoms_l)"
   ]
  },
  {
   "cell_type": "code",
   "execution_count": 10,
   "id": "bc03bb93",
   "metadata": {},
   "outputs": [],
   "source": [
    "skim_mu_g = realSkim['MU_MEAN_MODEL_G']\n",
    "default_mu_g = trainDefault[:,16]\n",
    "v3_mu_g = trainV3[:,16]\n",
    "v4_mu_g = trainV4[:,16]"
   ]
  },
  {
   "cell_type": "code",
   "execution_count": 11,
   "id": "95c1d17a",
   "metadata": {},
   "outputs": [],
   "source": [
    "hist_skim, bin_skim = np.histogram(skim_mu_g, density=True,bins=33)\n",
    "hist_default, bin_default = np.histogram(default_mu_g, density=True,bins=bin_skim[:-1])\n",
    "hist_v3, bin_v3 = np.histogram(v3_mu_g, density=True,bins=bin_skim[:-1])\n",
    "hist_v4, bin_v4 = np.histogram(v4_mu_g, density=True,bins=bin_skim[:-1])"
   ]
  },
  {
   "cell_type": "code",
   "execution_count": 12,
   "id": "2e7ba4d4",
   "metadata": {},
   "outputs": [
    {
     "data": {
      "image/png": "[encoded data removed]",
      "text/plain": [
       "<Figure size 432x288 with 1 Axes>"
      ]
     },
     "metadata": {},
     "output_type": "display_data"
    }
   ],
   "source": [
    "_ = plt.figure(facecolor = 'white')\n",
    "plt.bar(bin_skim[:-1],hist_skim, label = 'Y6 Skim')\n",
    "plt.bar(bin_default[:-1],hist_default, label='Default',width = 0.6)\n",
    "plt.bar(bin_v3[:-1],hist_v3,label = 'V3',width=0.4)\n",
    "plt.xlim(23,35)\n",
    "plt.legend()\n",
    "plt.title(\"Mu_G Comparison (Entire Population)\")\n",
    "plt.suptitle(\"fig. 1:\", x = 0.17, y = 0.95)\n",
    "plt.show()"
   ]
  },
  {
   "cell_type": "code",
   "execution_count": 13,
   "id": "38e2c3ce",
   "metadata": {},
   "outputs": [],
   "source": [
    "# Generate arrays for positives and negatives\n",
    "\n",
    "#Default\n",
    "sel = labelDefault == 1\n",
    "positivesTrainDefault = trainDefault[sel][:,16]\n",
    "sel = labelDefault == 0\n",
    "negativesTrainDefault = trainDefault[sel][:,16]\n",
    "\n",
    "#V3 classifier\n",
    "sel = labelV3 == 1\n",
    "positivesTrainV3 = trainV3[sel][:,16]\n",
    "sel = labelV3 == 0\n",
    "negativesTrainV3 = trainV3[sel][:,16]\n",
    "\n",
    "#V4 classifier\n",
    "sel = labelV4 == 1\n",
    "positivesTrainV4 = trainV4[sel][:,16]\n",
    "sel = labelV4 == 0\n",
    "negativesTrainV4 = trainV4[sel][:,16]\n",
    "\n",
    "\n",
    "\n",
    "\n"
   ]
  },
  {
   "cell_type": "code",
   "execution_count": 14,
   "id": "9441e1bb",
   "metadata": {},
   "outputs": [],
   "source": [
    "hist_TrainDefault_art, bins_TrainDefault_art = np.histogram(negativesTrainDefault,density=True,bins=bin_skim[:-1])\n",
    "hist_TrainV3_art, bins_TrainV3_art = np.histogram(negativesTrainV3,density=True,bins=bin_skim[:-1])\n",
    "hist_TrainV4_art, bins_TrainV4_art = np.histogram(negativesTrainV4,density=True,bins=bin_skim[:-1])\n",
    "hist_randoms_art, bins_randoms_art = np.histogram(randoms,density=True,bins=bin_skim[:-1])"
   ]
  },
  {
   "cell_type": "code",
   "execution_count": 15,
   "id": "ac692f92",
   "metadata": {},
   "outputs": [
    {
     "data": {
      "image/png": "[encoded data removed]",
      "text/plain": [
       "<Figure size 432x288 with 1 Axes>"
      ]
     },
     "metadata": {},
     "output_type": "display_data"
    }
   ],
   "source": [
    "_ = plt.figure(facecolor = 'white')\n",
    "plt.bar(bin_skim[:-1],hist_skim, label = 'Full Evaluation Sample',width=0.9)\n",
    "plt.bar(bins_TrainDefault_art[:-1],hist_TrainDefault_art, label = 'Default Artifact Training',width=0.6)\n",
    "plt.bar(bins_TrainV3_art[:-1],hist_TrainV3_art, label='V3 Artifact Training',width = 0.4)\n",
    "#plt.bar(bins_TrainV4_art[:-1],hist_TrainV4_art, label='V4 Artifact Training',width = 0.2)\n",
    "\n",
    "\n",
    "\n",
    "plt.xlim(23,35)\n",
    "plt.legend()\n",
    "plt.title(\"Training Comparison (Artifacts)\")\n",
    "#plt.suptitle(\"fig. 5:\", x = 0.2, y = 0.95)\n",
    "plt.show()"
   ]
  },
  {
   "cell_type": "code",
   "execution_count": null,
   "id": "ff052ef4",
   "metadata": {},
   "outputs": [],
   "source": [
    "randoms_3 = np.load(\"/data/des81.a/data/kherron/LSBG/trainingfiles/X_randoms_v3_feat.npy\")\n",
    "#randoms_l_2 = np.load(\"/data/des81.a/data/kherron/LSBG/trainingfiles/y_randoms_v2_lab.npy\")"
   ]
  },
  {
   "cell_type": "code",
   "execution_count": null,
   "id": "bd1fbef7",
   "metadata": {},
   "outputs": [],
   "source": [
    "hist_randoms3_art, bins_randoms3_art = np.histogram(randoms_3[:,16],density=True,bins=bin_skim[:-1])"
   ]
  },
  {
   "cell_type": "code",
   "execution_count": null,
   "id": "0fd4608c",
   "metadata": {},
   "outputs": [],
   "source": [
    "_ = plt.figure(facecolor = 'white')\n",
    "plt.bar(bin_skim[:-1],hist_skim, label = 'Full Evaluation Sample')\n",
    "\n",
    "plt.bar(bins_TrainV4_art[:-1],hist_TrainV4_art, label='V4 Artifact Training',width = 0.4)\n",
    "plt.bar(bins_randoms3_art[:-1],hist_randoms3_art, label='3rd random sample',width = 0.2)\n",
    "\n",
    "\n",
    "plt.xlim(23,35)\n",
    "plt.legend()\n",
    "plt.title(\"Training Comparison (Artifacts)\")\n",
    "#plt.suptitle(\"fig. 5:\", x = 0.2, y = 0.95)\n",
    "plt.show()"
   ]
  },
  {
   "cell_type": "code",
   "execution_count": null,
   "id": "e776693c",
   "metadata": {},
   "outputs": [],
   "source": []
  },
  {
   "cell_type": "code",
   "execution_count": null,
   "id": "5bd82c6a",
   "metadata": {},
   "outputs": [],
   "source": []
  }
 ],
 "metadata": {
  "kernelspec": {
   "display_name": "Python 3 (ipykernel)",
   "language": "python",
   "name": "python3"
  },
  "language_info": {
   "codemirror_mode": {
    "name": "ipython",
    "version": 3
   },
   "file_extension": ".py",
   "mimetype": "text/x-python",
   "name": "python",
   "nbconvert_exporter": "python",
   "pygments_lexer": "ipython3",
   "version": "3.10.5"
  }
 },
 "nbformat": 4,
 "nbformat_minor": 5
}
