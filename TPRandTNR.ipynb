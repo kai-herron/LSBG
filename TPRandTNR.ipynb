{
 "cells": [
  {
   "cell_type": "code",
   "execution_count": 1,
   "id": "6cf5b25c",
   "metadata": {},
   "outputs": [],
   "source": [
    "#!/usr/bin/env python\n",
    "# coding: utf-8\n",
    "\n",
    "# Import basic packages\n",
    "import numpy as np\n",
    "import scipy as sp\n",
    "import pandas as pd\n",
    "import fitsio as ft\n",
    "\n",
    "# ==========================================\n",
    "# Matplotlib, urlib etc \n",
    "import urllib\n",
    "import urllib.request\n",
    "import matplotlib\n",
    "import matplotlib.pyplot as plt\n",
    "from IPython.display import clear_output, display\n",
    "from PIL import Image\n",
    "\n",
    "\n"
   ]
  },
  {
   "cell_type": "code",
   "execution_count": null,
   "id": "4a9ee96f",
   "metadata": {},
   "outputs": [],
   "source": [
    "# 40k :\n",
    "\n",
    "LSBG_40k = len(np.load('/data/des81.a/data/kherron/LSBG/RandomTests/40k/y6_lsbg_40k.npy'))\n",
    "%store -r tpr_bin0_40k \n",
    "%store -r tnr_bin0_40k\n",
    "%store -r fpr_bin0_40k\n",
    "\n",
    "%store -r tpr_bin1_40k\n",
    "%store -r tnr_bin1_40k\n",
    "%store -r fpr_bin1_40k\n",
    "\n",
    "%store -r tpr_bin2_40k\n",
    "%store -r tnr_bin2_40k\n",
    "%store -r fpr_bin2_40k"
   ]
  },
  {
   "cell_type": "code",
   "execution_count": null,
   "id": "2c718f31",
   "metadata": {},
   "outputs": [],
   "source": [
    "#60k\n",
    "LSBG_60k = len(np.load('/data/des81.a/data/kherron/LSBG/RandomTests/60k/y6_lsbg_60k.npy'))\n",
    "%store -r tpr_bin0_60k \n",
    "%store -r tnr_bin0_60k\n",
    "%store -r fpr_bin0_60k\n",
    "\n",
    "%store -r tpr_bin1_60k\n",
    "%store -r tnr_bin1_60k\n",
    "%store -r fpr_bin1_60k\n",
    "\n",
    "%store -r tpr_bin2_60k\n",
    "%store -r tnr_bin2_60k\n",
    "%store -r fpr_bin2_60k\n"
   ]
  },
  {
   "cell_type": "code",
   "execution_count": null,
   "id": "b05f1fde",
   "metadata": {},
   "outputs": [],
   "source": [
    "#80k\n",
    "LSBG_80k = len(np.load('/data/des81.a/data/kherron/LSBG/RandomTests/80k/y6_lsbg_80k.npy'))\n",
    "%store -r tpr_bin0_80k tpr_bin1_80k tpr_bin2_80k\n",
    "%store -r tnr_bin0_80k tnr_bin1_80k tnr_bin2_80k\n",
    "%store -r fpr_bin0_80k fpr_bin1_80k fpr_bin2_80k"
   ]
  },
  {
   "cell_type": "code",
   "execution_count": null,
   "id": "007bc2d7",
   "metadata": {},
   "outputs": [],
   "source": [
    "#100k\n",
    "LSBG_100k = len(np.load('/data/des81.a/data/kherron/LSBG/V4/y6_lsbg_v4.npy'))\n",
    "%store -r tpr_bin0_100k tpr_bin1_100k tpr_bin2_100k\n",
    "%store -r tnr_bin0_100k tnr_bin1_100k tnr_bin2_100k\n",
    "%store -r fpr_bin0_100k fpr_bin1_100k fpr_bin2_100k"
   ]
  },
  {
   "cell_type": "code",
   "execution_count": 13,
   "id": "fdfa6fa5",
   "metadata": {},
   "outputs": [],
   "source": [
    "#Default\n",
    "LSBG_Default = len(np.load('/data/des81.a/data/kherron/LSBG/Default_Robust/y6_lsbg_v5.npy'))\n",
    "%store -r tpr_bin0_def tpr_bin1_def tpr_bin2_def\n",
    "%store -r tnr_bin0_def tnr_bin1_def tnr_bin2_def\n",
    "%store -r fpr_bin0_def fpr_bin1_def fpr_bin2_def"
   ]
  },
  {
   "cell_type": "code",
   "execution_count": 14,
   "id": "261bced2",
   "metadata": {},
   "outputs": [],
   "source": [
    "#Make arrays\n",
    "tpr_0 = [tpr_bin0_def]#,tpr_bin0_40k, tpr_bin0_60k,tpr_bin0_80k,tpr_bin0_100k]\n",
    "tpr_1 = [tpr_bin1_def]#,tpr_bin1_40k, tpr_bin1_60k,tpr_bin1_80k,tpr_bin1_100k]\n",
    "tpr_2 = [tpr_bin2_def]#,tpr_bin2_40k, tpr_bin2_60k,tpr_bin2_80k,tpr_bin2_100k]\n",
    "\n",
    "tnr_0 = [tnr_bin0_def]#,tnr_bin0_40k, tnr_bin0_60k,tnr_bin0_80k,tnr_bin0_100k]\n",
    "tnr_1 = [tnr_bin1_def]#,tnr_bin1_40k, tnr_bin1_60k,tnr_bin1_80k,tnr_bin1_100k]\n",
    "tnr_2 = [tnr_bin2_def]#,tnr_bin2_40k, tnr_bin2_60k,tnr_bin2_80k,tnr_bin2_100k]\n",
    "\n",
    "fpr_0 = [fpr_bin0_def]#,fpr_bin0_40k, fpr_bin0_60k,fpr_bin0_80k,fpr_bin0_100k]\n",
    "fpr_1 = [fpr_bin1_def]#,fpr_bin1_40k, fpr_bin1_60k,fpr_bin1_80k,fpr_bin1_100k]\n",
    "fpr_2 = [fpr_bin2_def]#,fpr_bin2_40k, fpr_bin2_60k,fpr_bin2_80k,fpr_bin2_100k]\n",
    " \n",
    "\n",
    "\n",
    "LSBGs = [LSBG_Default]#,LSBG_40k,LSBG_60k,LSBG_80k,LSBG_100k]\n",
    "\n",
    "bin_name = ['default']#,'40k','60k','80k','100k']"
   ]
  },
  {
   "cell_type": "code",
   "execution_count": 5,
   "id": "a724ea97",
   "metadata": {},
   "outputs": [],
   "source": [
    "FILE = ft.read('/data/des80.b/data/burcinmp/y6_lsbg/y6/v2/y6_gold_2_0_lsb_skim.fits')\n",
    "skim_mu_g = FILE['MU_MEAN_MODEL_G']\n",
    "coadd_id_all = FILE['COADD_OBJECT_ID']"
   ]
  },
  {
   "cell_type": "code",
   "execution_count": 6,
   "id": "83312f86",
   "metadata": {},
   "outputs": [
    {
     "data": {
      "image/png": "[encoded data removed]",
      "text/plain": [
       "<Figure size 432x288 with 1 Axes>"
      ]
     },
     "metadata": {},
     "output_type": "display_data"
    }
   ],
   "source": [
    "_ = plt.figure(facecolor='w')\n",
    "\n",
    "plt.scatter(bin_name, fpr_0, label = '24<mu_G<25')\n",
    "plt.scatter(bin_name, fpr_1, label = '25<mu_G<26')\n",
    "plt.scatter(bin_name, fpr_2, label = '26<mu_G<27')\n",
    "\n",
    "plt.legend()\n",
    "plt.title('FPR Comparison')\n",
    "plt.show()"
   ]
  },
  {
   "cell_type": "code",
   "execution_count": 7,
   "id": "60006cab",
   "metadata": {},
   "outputs": [
    {
     "data": {
      "text/plain": [
       "0"
      ]
     },
     "execution_count": 7,
     "metadata": {},
     "output_type": "execute_result"
    }
   ],
   "source": [
    "len(FILE['COADD_OBJECT_ID'])-len(FILE['MU_MEAN_MODEL_G'])"
   ]
  },
  {
   "cell_type": "code",
   "execution_count": null,
   "id": "0e115933",
   "metadata": {},
   "outputs": [],
   "source": []
  },
  {
   "cell_type": "code",
   "execution_count": 8,
   "id": "6a3141cc",
   "metadata": {},
   "outputs": [],
   "source": [
    "hist_skim, bin_skim = np.histogram(skim_mu_g,bins=[24.0,25.0,26.0,27.0])"
   ]
  },
  {
   "cell_type": "code",
   "execution_count": 9,
   "id": "1d6cc6ca",
   "metadata": {},
   "outputs": [
    {
     "data": {
      "text/plain": [
       "array([132243, 169470, 308072])"
      ]
     },
     "execution_count": 9,
     "metadata": {},
     "output_type": "execute_result"
    }
   ],
   "source": [
    "hist_skim"
   ]
  },
  {
   "cell_type": "code",
   "execution_count": 16,
   "id": "ce7fc54e",
   "metadata": {},
   "outputs": [],
   "source": [
    "\n",
    "select_id =np.load('/data/des81.a/data/kherron/LSBG/Default_Robust/y6_lsbg_v5.npy')\n",
    "positiveSkimDef =  [skim_mu_g[ind] for ind, id in enumerate(coadd_id_all) if id in select_id] \n",
    "\n",
    "#select_id = np.load('/data/des81.a/data/kherron/LSBG/RandomTests/40k/y6_lsbg_40k.npy')\n",
    "#positiveSkim40k =  [skim_mu_g[ind] for ind, id in enumerate(coadd_id_all) if id in select_id] \n",
    "\n",
    "#select_id = np.load('/data/des81.a/data/kherron/LSBG/RandomTests/60k/y6_lsbg_60k.npy')\n",
    "#positiveSkim60k =  [skim_mu_g[ind] for ind, id in enumerate(coadd_id_all) if id in select_id] \n",
    "\n",
    "#select_id = np.load('/data/des81.a/data/kherron/LSBG/RandomTests/80k/y6_lsbg_80k.npy')\n",
    "#positiveSkim80k =  [skim_mu_g[ind] for ind, id in enumerate(coadd_id_all) if id in select_id] \n",
    "\n",
    "#select_id = np.load('/data/des81.a/data/kherron/LSBG/V4/y6_lsbg_v4.npy')\n",
    "#positiveSkim100k =  [skim_mu_g[ind] for ind, id in enumerate(coadd_id_all) if id in select_id] "
   ]
  },
  {
   "cell_type": "code",
   "execution_count": 17,
   "id": "aadf4483",
   "metadata": {},
   "outputs": [],
   "source": [
    "hist_default, bin_default = np.histogram(positiveSkimDef,bins=[24.0,25.0,26.0,27.0])\n",
    "#hist_40k, bin_40k = np.histogram(positiveSkim40k,bins=[24.0,25.0,26.0,27.0])\n",
    "#hist_60k, bin_60k = np.histogram(positiveSkim60k,bins=[24.0,25.0,26.0,27.0])\n",
    "#hist_80k, bin_80k = np.histogram(positiveSkim80k,bins=[24.0,25.0,26.0,27.0])\n",
    "#hist_100k, bin_100k = np.histogram(positiveSkim100k,bins=[24.0,25.0,26.0,27.0])"
   ]
  },
  {
   "cell_type": "code",
   "execution_count": null,
   "id": "545fd2cf",
   "metadata": {},
   "outputs": [],
   "source": [
    "hist_default"
   ]
  },
  {
   "cell_type": "code",
   "execution_count": null,
   "id": "15be0ede",
   "metadata": {},
   "outputs": [],
   "source": [
    "hist_skim"
   ]
  },
  {
   "cell_type": "code",
   "execution_count": null,
   "id": "86ff17f7",
   "metadata": {},
   "outputs": [],
   "source": [
    "sum(hist_100k)"
   ]
  },
  {
   "cell_type": "code",
   "execution_count": null,
   "id": "50295a48",
   "metadata": {},
   "outputs": [],
   "source": [
    "len(positiveSkim100k)"
   ]
  },
  {
   "cell_type": "code",
   "execution_count": null,
   "id": "fdcb3b96",
   "metadata": {},
   "outputs": [],
   "source": [
    "plt.bar(bin_40k[:-1],hist_40k)\n",
    "plt.bar(bin_60k[:-1],hist_60k)\n",
    "plt.bar(bin_80k[:-1],hist_80k)\n",
    "plt.bar(bin_100k[:-1],hist_100k)"
   ]
  },
  {
   "cell_type": "code",
   "execution_count": 18,
   "id": "af759a53",
   "metadata": {},
   "outputs": [
    {
     "name": "stdout",
     "output_type": "stream",
     "text": [
      "10167.956241157952\n",
      "-7340.51770922978\n",
      "-9407.348928199162\n"
     ]
    }
   ],
   "source": [
    "pp = hist_default[0]\n",
    "fpr = fpr_0[0]\n",
    "tpr = tpr_0[0]\n",
    "T = hist_skim[0]\n",
    "print((pp - (fpr*T))/(tpr-fpr))\n",
    "\n",
    "pp = hist_default[1]\n",
    "fpr = fpr_1[0]\n",
    "tpr = tpr_1[0]\n",
    "T = hist_skim[1]\n",
    "print((pp - (fpr*T))/(tpr-fpr))\n",
    "\n",
    "pp = hist_default[2]\n",
    "fpr = fpr_2[0]\n",
    "tpr = tpr_2[0]\n",
    "T = hist_skim[2]\n",
    "print((pp - (fpr*T))/(tpr-fpr))"
   ]
  },
  {
   "cell_type": "code",
   "execution_count": null,
   "id": "3d5c8afc",
   "metadata": {},
   "outputs": [],
   "source": [
    "LSBGs"
   ]
  },
  {
   "cell_type": "code",
   "execution_count": null,
   "id": "e750b6d8",
   "metadata": {},
   "outputs": [],
   "source": [
    "pp - (fpr*T)"
   ]
  },
  {
   "cell_type": "code",
   "execution_count": null,
   "id": "abfeba4c",
   "metadata": {},
   "outputs": [],
   "source": [
    "fpr"
   ]
  },
  {
   "cell_type": "code",
   "execution_count": null,
   "id": "f3445833",
   "metadata": {},
   "outputs": [],
   "source": [
    "fpr * T"
   ]
  },
  {
   "cell_type": "code",
   "execution_count": null,
   "id": "6d48cff8",
   "metadata": {},
   "outputs": [],
   "source": [
    "tpr"
   ]
  },
  {
   "cell_type": "code",
   "execution_count": null,
   "id": "e2cde539",
   "metadata": {},
   "outputs": [],
   "source": [
    "T"
   ]
  },
  {
   "cell_type": "code",
   "execution_count": null,
   "id": "22a72180",
   "metadata": {},
   "outputs": [],
   "source": [
    "for i in range(len(positives_0)):\n",
    "    sums = positives_0[i] + positives_1[i] + positives_2[i]\n",
    "    print('Total LSBGs in '+bin_name[i]+':',sums )"
   ]
  },
  {
   "cell_type": "code",
   "execution_count": null,
   "id": "55bd408e",
   "metadata": {},
   "outputs": [],
   "source": [
    "tpr_0[2]"
   ]
  },
  {
   "cell_type": "code",
   "execution_count": null,
   "id": "7ce62872",
   "metadata": {},
   "outputs": [],
   "source": []
  }
 ],
 "metadata": {
  "kernelspec": {
   "display_name": "Python 3 (ipykernel)",
   "language": "python",
   "name": "python3"
  },
  "language_info": {
   "codemirror_mode": {
    "name": "ipython",
    "version": 3
   },
   "file_extension": ".py",
   "mimetype": "text/x-python",
   "name": "python",
   "nbconvert_exporter": "python",
   "pygments_lexer": "ipython3",
   "version": "3.10.5"
  }
 },
 "nbformat": 4,
 "nbformat_minor": 5
}
