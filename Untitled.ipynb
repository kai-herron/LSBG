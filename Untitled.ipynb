{
 "cells": [
  {
   "cell_type": "code",
   "execution_count": 2,
   "id": "f79e1b4c",
   "metadata": {},
   "outputs": [],
   "source": [
    "import numpy as np \n",
    "import pandas as pd\n",
    "import urllib\n",
    "import matplotlib\n",
    "import matplotlib.pyplot as plt\n",
    "from PIL import Image\n",
    "import astropy.io.fits as pyfits\n",
    "from os.path import exists\n",
    "\n",
    "# ====================================\n",
    "# Adjust rc parameters to make plots pretty\n",
    "def plot_pretty(dpi=200, fontsize=9):\n",
    "    \n",
    "    import matplotlib.pyplot as plt\n",
    "\n",
    "    plt.rc(\"savefig\", dpi=dpi)       # dpi resolution of saved image files\n",
    "    # if you have LaTeX installed on your laptop, uncomment the line below for prettier labels\n",
    "    #plt.rc('text', usetex=True)      # use LaTeX to process labels\n",
    "    plt.rc('font', size=fontsize)    # fontsize\n",
    "    plt.rc('xtick', direction='in')  # make axes ticks point inward\n",
    "    plt.rc('ytick', direction='in')\n",
    "    plt.rc('xtick.major', pad=10) \n",
    "    plt.rc('xtick.minor', pad=5)\n",
    "    plt.rc('ytick.major', pad=10) \n",
    "    plt.rc('ytick.minor', pad=5)\n",
    "    plt.rc('lines', dotted_pattern = [0.5, 1.1]) # fix dotted lines\n",
    "\n",
    "    return\n",
    "plot_pretty()\n",
    "\n",
    "\n",
    "#===============INPUT RA AND DEC SKIM FILE HERE==================\n",
    "hdu = pyfits.open('/data/des80.b/data/burcinmp/y6_lsbg/y6/v2/y6_gold_2_0_lsb_skim.fits')\n",
    "#================================================================\n",
    "df= hdu[1].data\n",
    "\n",
    "# Get coords\n",
    "coadd_id_all = df['COADD_OBJECT_ID']\n",
    "ra_all = df['RA']\n",
    "dec_all = df['DEC']\n",
    "\n",
    "import glob as glob\n",
    "sample_direc = glob.glob(\"/data/des81.a/data/kherron/LSBG/Y6_FINAL/v3/Images/*sample*\")\n",
    "\n"
   ]
  },
  {
   "cell_type": "code",
   "execution_count": 4,
   "id": "09e82d19",
   "metadata": {},
   "outputs": [
    {
     "data": {
      "text/plain": [
       "'/data/des81.a/data/kherron/LSBG/Y6_FINAL/v3/Images/sample_05'"
      ]
     },
     "execution_count": 4,
     "metadata": {},
     "output_type": "execute_result"
    }
   ],
   "source": [
    "sample_direc[6]"
   ]
  },
  {
   "cell_type": "code",
   "execution_count": 5,
   "id": "4ea65ad2",
   "metadata": {},
   "outputs": [],
   "source": [
    "im = glob.glob(sample_direc[6]+\"/*.png\")"
   ]
  },
  {
   "cell_type": "code",
   "execution_count": 7,
   "id": "f0b4a598",
   "metadata": {},
   "outputs": [],
   "source": [
    "import os.path"
   ]
  },
  {
   "cell_type": "code",
   "execution_count": 8,
   "id": "f230b1d3",
   "metadata": {},
   "outputs": [
    {
     "data": {
      "text/plain": [
       "1676326229.6496046"
      ]
     },
     "execution_count": 8,
     "metadata": {},
     "output_type": "execute_result"
    }
   ],
   "source": [
    "os.path.getmtime(im[0])"
   ]
  },
  {
   "cell_type": "code",
   "execution_count": 10,
   "id": "91d44a00",
   "metadata": {},
   "outputs": [
    {
     "data": {
      "text/plain": [
       "1676326231.0686219"
      ]
     },
     "execution_count": 10,
     "metadata": {},
     "output_type": "execute_result"
    }
   ],
   "source": [
    "os.path.getmtime(im[1])"
   ]
  },
  {
   "cell_type": "code",
   "execution_count": 12,
   "id": "c712f21f",
   "metadata": {},
   "outputs": [
    {
     "data": {
      "text/plain": [
       "1674520223.2924979"
      ]
     },
     "execution_count": 12,
     "metadata": {},
     "output_type": "execute_result"
    }
   ],
   "source": [
    "os.path.getmtime(\"/data/des81.a/data/kherron/LSBG/Y6_FINAL/v3/Images/sample_05/1302621184.png\")"
   ]
  },
  {
   "cell_type": "code",
   "execution_count": 18,
   "id": "ac7da400",
   "metadata": {},
   "outputs": [
    {
     "data": {
      "text/plain": [
       "1"
      ]
     },
     "execution_count": 18,
     "metadata": {},
     "output_type": "execute_result"
    }
   ],
   "source": [
    "import time\n",
    "time.gmtime(os.path.getmtime(\"/data/des81.a/data/kherron/LSBG/Y6_FINAL/v3/Images/sample_05/1302621184.png\"))[1]"
   ]
  },
  {
   "cell_type": "code",
   "execution_count": 14,
   "id": "099ef5e3",
   "metadata": {},
   "outputs": [],
   "source": [
    "l = time.gmtime(os.path.getmtime(\"/data/des81.a/data/kherron/LSBG/Y6_FINAL/v3/Images/sample_05/1302621184.png\"))"
   ]
  },
  {
   "cell_type": "code",
   "execution_count": 19,
   "id": "5acef25f",
   "metadata": {},
   "outputs": [
    {
     "data": {
      "text/plain": [
       "time.struct_time(tm_year=2023, tm_mon=1, tm_mday=24, tm_hour=0, tm_min=30, tm_sec=23, tm_wday=1, tm_yday=24, tm_isdst=0)"
      ]
     },
     "execution_count": 19,
     "metadata": {},
     "output_type": "execute_result"
    }
   ],
   "source": [
    "l"
   ]
  },
  {
   "cell_type": "code",
   "execution_count": null,
   "id": "80127c8d",
   "metadata": {},
   "outputs": [],
   "source": []
  }
 ],
 "metadata": {
  "kernelspec": {
   "display_name": "Python 3 (ipykernel)",
   "language": "python",
   "name": "python3"
  },
  "language_info": {
   "codemirror_mode": {
    "name": "ipython",
    "version": 3
   },
   "file_extension": ".py",
   "mimetype": "text/x-python",
   "name": "python",
   "nbconvert_exporter": "python",
   "pygments_lexer": "ipython3",
   "version": "3.10.5"
  }
 },
 "nbformat": 4,
 "nbformat_minor": 5
}
